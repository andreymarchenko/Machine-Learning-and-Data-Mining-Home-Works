{
 "cells": [
  {
   "cell_type": "markdown",
   "metadata": {},
   "source": [
    "# March Madness Forecasts - Men & Women's"
   ]
  },
  {
   "cell_type": "markdown",
   "metadata": {},
   "source": [
    "*Датасет предсавляет из себя прогнозы на победы баскетбольных команд.*\n",
    "+ **gender** - пол игроков в команде\n",
    "+ **forecast_date** - дата прогноза\n",
    "+ **playin_flag** - играет ли команда, на момент появления представленных данных \n",
    "+ **rd1_win** - вероятность победы команды в 1 раунде турнира\n",
    "+ **rd2_win** - вероятность победы команды во 2 раунде турнира\n",
    "+ **rd3_win** - вероятность победы команды в 3 раунде турнира\n",
    "+ **rd4_win** - вероятность победы команды в 4 раунде турнира\n",
    "+ **rd5_win** - вероятность победы команды в 5 раунде турнира\n",
    "+ **rd6_win** - вероятность победы команды в 6 раунде турнира\n",
    "+ **rd7_win** - вероятность победы команды в 7 раунде турнира\n",
    "+ **team_alive** - сохранила ли команда возможность участия в турнире\n",
    "+ **team_id** - идентификатор команды\n",
    "+ **team_name** - название команды\n",
    "+ **team_rating** - рейтинг команды\n",
    "+ **team_region** - исходный регион команды\n",
    "+ **team_seed** - группа, в которую входит команда"
   ]
  },
  {
   "cell_type": "code",
   "execution_count": 1,
   "metadata": {
    "collapsed": true
   },
   "outputs": [],
   "source": [
    "import numpy as np\n",
    "import matplotlib.pyplot as plt\n",
    "import pandas as pd\n",
    "%matplotlib inline"
   ]
  },
  {
   "cell_type": "markdown",
   "metadata": {},
   "source": [
    "*Считаем данные*"
   ]
  },
  {
   "cell_type": "code",
   "execution_count": 2,
   "metadata": {
    "collapsed": true
   },
   "outputs": [],
   "source": [
    "data = pd.read_csv('fivethirtyeight_ncaa_forecasts (2).csv', sep = ',', engine = 'python')"
   ]
  },
  {
   "cell_type": "markdown",
   "metadata": {},
   "source": [
    "*Выведем данные*"
   ]
  },
  {
   "cell_type": "code",
   "execution_count": 304,
   "metadata": {
    "scrolled": true
   },
   "outputs": [
    {
     "data": {
      "text/html": [
       "<div>\n",
       "<style>\n",
       "    .dataframe thead tr:only-child th {\n",
       "        text-align: right;\n",
       "    }\n",
       "\n",
       "    .dataframe thead th {\n",
       "        text-align: left;\n",
       "    }\n",
       "\n",
       "    .dataframe tbody tr th {\n",
       "        vertical-align: top;\n",
       "    }\n",
       "</style>\n",
       "<table border=\"1\" class=\"dataframe\">\n",
       "  <thead>\n",
       "    <tr style=\"text-align: right;\">\n",
       "      <th></th>\n",
       "      <th>gender</th>\n",
       "      <th>forecast_date</th>\n",
       "      <th>playin_flag</th>\n",
       "      <th>rd1_win</th>\n",
       "      <th>rd2_win</th>\n",
       "      <th>rd3_win</th>\n",
       "      <th>rd4_win</th>\n",
       "      <th>rd5_win</th>\n",
       "      <th>rd6_win</th>\n",
       "      <th>rd7_win</th>\n",
       "      <th>team_alive</th>\n",
       "      <th>team_id</th>\n",
       "      <th>team_name</th>\n",
       "      <th>team_rating</th>\n",
       "      <th>team_region</th>\n",
       "      <th>team_seed</th>\n",
       "    </tr>\n",
       "  </thead>\n",
       "  <tbody>\n",
       "    <tr>\n",
       "      <th>0</th>\n",
       "      <td>mens</td>\n",
       "      <td>2017-03-12</td>\n",
       "      <td>0</td>\n",
       "      <td>1.0</td>\n",
       "      <td>0.987632</td>\n",
       "      <td>0.803221</td>\n",
       "      <td>0.589206</td>\n",
       "      <td>4.017371e-01</td>\n",
       "      <td>2.411252e-01</td>\n",
       "      <td>1.499538e-01</td>\n",
       "      <td>1</td>\n",
       "      <td>222</td>\n",
       "      <td>Villanova</td>\n",
       "      <td>95.18</td>\n",
       "      <td>East</td>\n",
       "      <td>1</td>\n",
       "    </tr>\n",
       "    <tr>\n",
       "      <th>1</th>\n",
       "      <td>mens</td>\n",
       "      <td>2017-03-12</td>\n",
       "      <td>0</td>\n",
       "      <td>1.0</td>\n",
       "      <td>0.976796</td>\n",
       "      <td>0.840203</td>\n",
       "      <td>0.595333</td>\n",
       "      <td>4.146640e-01</td>\n",
       "      <td>2.293996e-01</td>\n",
       "      <td>1.384800e-01</td>\n",
       "      <td>1</td>\n",
       "      <td>2250</td>\n",
       "      <td>Gonzaga</td>\n",
       "      <td>93.71</td>\n",
       "      <td>West</td>\n",
       "      <td>1</td>\n",
       "    </tr>\n",
       "    <tr>\n",
       "      <th>2</th>\n",
       "      <td>mens</td>\n",
       "      <td>2017-03-12</td>\n",
       "      <td>0</td>\n",
       "      <td>1.0</td>\n",
       "      <td>0.979612</td>\n",
       "      <td>0.805573</td>\n",
       "      <td>0.556596</td>\n",
       "      <td>3.802992e-01</td>\n",
       "      <td>2.122119e-01</td>\n",
       "      <td>1.038905e-01</td>\n",
       "      <td>1</td>\n",
       "      <td>2305</td>\n",
       "      <td>Kansas</td>\n",
       "      <td>92.18</td>\n",
       "      <td>Midwest</td>\n",
       "      <td>1</td>\n",
       "    </tr>\n",
       "    <tr>\n",
       "      <th>3</th>\n",
       "      <td>mens</td>\n",
       "      <td>2017-03-12</td>\n",
       "      <td>0</td>\n",
       "      <td>1.0</td>\n",
       "      <td>0.966806</td>\n",
       "      <td>0.681923</td>\n",
       "      <td>0.474829</td>\n",
       "      <td>3.022498e-01</td>\n",
       "      <td>1.682376e-01</td>\n",
       "      <td>8.180735e-02</td>\n",
       "      <td>1</td>\n",
       "      <td>96</td>\n",
       "      <td>Kentucky</td>\n",
       "      <td>92.28</td>\n",
       "      <td>South</td>\n",
       "      <td>2</td>\n",
       "    </tr>\n",
       "    <tr>\n",
       "      <th>4</th>\n",
       "      <td>mens</td>\n",
       "      <td>2017-03-12</td>\n",
       "      <td>0</td>\n",
       "      <td>1.0</td>\n",
       "      <td>0.979275</td>\n",
       "      <td>0.798725</td>\n",
       "      <td>0.579842</td>\n",
       "      <td>2.985489e-01</td>\n",
       "      <td>1.547922e-01</td>\n",
       "      <td>6.997296e-02</td>\n",
       "      <td>1</td>\n",
       "      <td>153</td>\n",
       "      <td>North Carolina</td>\n",
       "      <td>91.74</td>\n",
       "      <td>South</td>\n",
       "      <td>1</td>\n",
       "    </tr>\n",
       "    <tr>\n",
       "      <th>5</th>\n",
       "      <td>mens</td>\n",
       "      <td>2017-03-12</td>\n",
       "      <td>0</td>\n",
       "      <td>1.0</td>\n",
       "      <td>0.966903</td>\n",
       "      <td>0.779870</td>\n",
       "      <td>0.510116</td>\n",
       "      <td>2.365749e-01</td>\n",
       "      <td>1.221141e-01</td>\n",
       "      <td>6.666080e-02</td>\n",
       "      <td>1</td>\n",
       "      <td>150</td>\n",
       "      <td>Duke</td>\n",
       "      <td>92.26</td>\n",
       "      <td>East</td>\n",
       "      <td>2</td>\n",
       "    </tr>\n",
       "    <tr>\n",
       "      <th>6</th>\n",
       "      <td>mens</td>\n",
       "      <td>2017-03-12</td>\n",
       "      <td>0</td>\n",
       "      <td>1.0</td>\n",
       "      <td>0.973818</td>\n",
       "      <td>0.668186</td>\n",
       "      <td>0.465179</td>\n",
       "      <td>2.160974e-01</td>\n",
       "      <td>1.108220e-01</td>\n",
       "      <td>4.973675e-02</td>\n",
       "      <td>1</td>\n",
       "      <td>97</td>\n",
       "      <td>Louisville</td>\n",
       "      <td>90.80</td>\n",
       "      <td>Midwest</td>\n",
       "      <td>2</td>\n",
       "    </tr>\n",
       "    <tr>\n",
       "      <th>7</th>\n",
       "      <td>mens</td>\n",
       "      <td>2017-03-12</td>\n",
       "      <td>0</td>\n",
       "      <td>1.0</td>\n",
       "      <td>0.952502</td>\n",
       "      <td>0.568275</td>\n",
       "      <td>0.392453</td>\n",
       "      <td>1.610122e-01</td>\n",
       "      <td>7.967508e-02</td>\n",
       "      <td>4.395503e-02</td>\n",
       "      <td>1</td>\n",
       "      <td>12</td>\n",
       "      <td>Arizona</td>\n",
       "      <td>88.99</td>\n",
       "      <td>West</td>\n",
       "      <td>2</td>\n",
       "    </tr>\n",
       "    <tr>\n",
       "      <th>8</th>\n",
       "      <td>mens</td>\n",
       "      <td>2017-03-12</td>\n",
       "      <td>0</td>\n",
       "      <td>1.0</td>\n",
       "      <td>0.901830</td>\n",
       "      <td>0.645601</td>\n",
       "      <td>0.256006</td>\n",
       "      <td>1.468902e-01</td>\n",
       "      <td>6.777382e-02</td>\n",
       "      <td>3.533303e-02</td>\n",
       "      <td>1</td>\n",
       "      <td>277</td>\n",
       "      <td>West Virginia</td>\n",
       "      <td>90.80</td>\n",
       "      <td>West</td>\n",
       "      <td>4</td>\n",
       "    </tr>\n",
       "    <tr>\n",
       "      <th>9</th>\n",
       "      <td>mens</td>\n",
       "      <td>2017-03-12</td>\n",
       "      <td>0</td>\n",
       "      <td>1.0</td>\n",
       "      <td>0.941724</td>\n",
       "      <td>0.614539</td>\n",
       "      <td>0.208320</td>\n",
       "      <td>9.754896e-02</td>\n",
       "      <td>5.271317e-02</td>\n",
       "      <td>2.485954e-02</td>\n",
       "      <td>1</td>\n",
       "      <td>26</td>\n",
       "      <td>UCLA</td>\n",
       "      <td>88.02</td>\n",
       "      <td>South</td>\n",
       "      <td>3</td>\n",
       "    </tr>\n",
       "    <tr>\n",
       "      <th>10</th>\n",
       "      <td>mens</td>\n",
       "      <td>2017-03-12</td>\n",
       "      <td>0</td>\n",
       "      <td>1.0</td>\n",
       "      <td>0.844767</td>\n",
       "      <td>0.491578</td>\n",
       "      <td>0.178718</td>\n",
       "      <td>9.595703e-02</td>\n",
       "      <td>4.731310e-02</td>\n",
       "      <td>2.482988e-02</td>\n",
       "      <td>1</td>\n",
       "      <td>258</td>\n",
       "      <td>Virginia</td>\n",
       "      <td>90.02</td>\n",
       "      <td>East</td>\n",
       "      <td>5</td>\n",
       "    </tr>\n",
       "    <tr>\n",
       "      <th>11</th>\n",
       "      <td>mens</td>\n",
       "      <td>2017-03-12</td>\n",
       "      <td>0</td>\n",
       "      <td>1.0</td>\n",
       "      <td>0.737771</td>\n",
       "      <td>0.350552</td>\n",
       "      <td>0.257520</td>\n",
       "      <td>1.177705e-01</td>\n",
       "      <td>4.616180e-02</td>\n",
       "      <td>2.107890e-02</td>\n",
       "      <td>1</td>\n",
       "      <td>2608</td>\n",
       "      <td>Saint Mary's (CA)</td>\n",
       "      <td>87.39</td>\n",
       "      <td>West</td>\n",
       "      <td>7</td>\n",
       "    </tr>\n",
       "    <tr>\n",
       "      <th>12</th>\n",
       "      <td>mens</td>\n",
       "      <td>2017-03-12</td>\n",
       "      <td>0</td>\n",
       "      <td>1.0</td>\n",
       "      <td>0.859696</td>\n",
       "      <td>0.506129</td>\n",
       "      <td>0.196616</td>\n",
       "      <td>1.062554e-01</td>\n",
       "      <td>4.942348e-02</td>\n",
       "      <td>2.009920e-02</td>\n",
       "      <td>1</td>\n",
       "      <td>2509</td>\n",
       "      <td>Purdue</td>\n",
       "      <td>88.61</td>\n",
       "      <td>Midwest</td>\n",
       "      <td>4</td>\n",
       "    </tr>\n",
       "    <tr>\n",
       "      <th>13</th>\n",
       "      <td>mens</td>\n",
       "      <td>2017-03-12</td>\n",
       "      <td>0</td>\n",
       "      <td>1.0</td>\n",
       "      <td>0.692358</td>\n",
       "      <td>0.244217</td>\n",
       "      <td>0.149894</td>\n",
       "      <td>8.384594e-02</td>\n",
       "      <td>4.374801e-02</td>\n",
       "      <td>1.990377e-02</td>\n",
       "      <td>1</td>\n",
       "      <td>2724</td>\n",
       "      <td>Wichita State</td>\n",
       "      <td>88.86</td>\n",
       "      <td>South</td>\n",
       "      <td>10</td>\n",
       "    </tr>\n",
       "    <tr>\n",
       "      <th>14</th>\n",
       "      <td>mens</td>\n",
       "      <td>2017-03-12</td>\n",
       "      <td>0</td>\n",
       "      <td>1.0</td>\n",
       "      <td>0.789642</td>\n",
       "      <td>0.456300</td>\n",
       "      <td>0.197904</td>\n",
       "      <td>7.171128e-02</td>\n",
       "      <td>3.362927e-02</td>\n",
       "      <td>1.690412e-02</td>\n",
       "      <td>1</td>\n",
       "      <td>2567</td>\n",
       "      <td>Southern Methodist</td>\n",
       "      <td>88.43</td>\n",
       "      <td>East</td>\n",
       "      <td>6</td>\n",
       "    </tr>\n",
       "    <tr>\n",
       "      <th>15</th>\n",
       "      <td>mens</td>\n",
       "      <td>2017-03-12</td>\n",
       "      <td>0</td>\n",
       "      <td>1.0</td>\n",
       "      <td>0.830880</td>\n",
       "      <td>0.419265</td>\n",
       "      <td>0.165323</td>\n",
       "      <td>9.031329e-02</td>\n",
       "      <td>4.147726e-02</td>\n",
       "      <td>1.665449e-02</td>\n",
       "      <td>1</td>\n",
       "      <td>66</td>\n",
       "      <td>Iowa State</td>\n",
       "      <td>87.92</td>\n",
       "      <td>Midwest</td>\n",
       "      <td>5</td>\n",
       "    </tr>\n",
       "    <tr>\n",
       "      <th>16</th>\n",
       "      <td>mens</td>\n",
       "      <td>2017-03-12</td>\n",
       "      <td>0</td>\n",
       "      <td>1.0</td>\n",
       "      <td>0.903499</td>\n",
       "      <td>0.460614</td>\n",
       "      <td>0.188427</td>\n",
       "      <td>6.428263e-02</td>\n",
       "      <td>2.886954e-02</td>\n",
       "      <td>1.398192e-02</td>\n",
       "      <td>1</td>\n",
       "      <td>239</td>\n",
       "      <td>Baylor</td>\n",
       "      <td>87.66</td>\n",
       "      <td>East</td>\n",
       "      <td>3</td>\n",
       "    </tr>\n",
       "    <tr>\n",
       "      <th>17</th>\n",
       "      <td>mens</td>\n",
       "      <td>2017-03-12</td>\n",
       "      <td>0</td>\n",
       "      <td>1.0</td>\n",
       "      <td>0.922453</td>\n",
       "      <td>0.612531</td>\n",
       "      <td>0.210820</td>\n",
       "      <td>6.598242e-02</td>\n",
       "      <td>2.951077e-02</td>\n",
       "      <td>1.154063e-02</td>\n",
       "      <td>1</td>\n",
       "      <td>2483</td>\n",
       "      <td>Oregon</td>\n",
       "      <td>87.30</td>\n",
       "      <td>Midwest</td>\n",
       "      <td>3</td>\n",
       "    </tr>\n",
       "    <tr>\n",
       "      <th>18</th>\n",
       "      <td>mens</td>\n",
       "      <td>2017-03-12</td>\n",
       "      <td>0</td>\n",
       "      <td>1.0</td>\n",
       "      <td>0.890206</td>\n",
       "      <td>0.620126</td>\n",
       "      <td>0.231391</td>\n",
       "      <td>8.628194e-02</td>\n",
       "      <td>3.298444e-02</td>\n",
       "      <td>1.102381e-02</td>\n",
       "      <td>1</td>\n",
       "      <td>2086</td>\n",
       "      <td>Butler</td>\n",
       "      <td>86.52</td>\n",
       "      <td>South</td>\n",
       "      <td>4</td>\n",
       "    </tr>\n",
       "    <tr>\n",
       "      <th>19</th>\n",
       "      <td>mens</td>\n",
       "      <td>2017-03-12</td>\n",
       "      <td>0</td>\n",
       "      <td>1.0</td>\n",
       "      <td>0.874918</td>\n",
       "      <td>0.443570</td>\n",
       "      <td>0.126506</td>\n",
       "      <td>5.734056e-02</td>\n",
       "      <td>2.355463e-02</td>\n",
       "      <td>1.056492e-02</td>\n",
       "      <td>1</td>\n",
       "      <td>57</td>\n",
       "      <td>Florida</td>\n",
       "      <td>87.84</td>\n",
       "      <td>East</td>\n",
       "      <td>4</td>\n",
       "    </tr>\n",
       "    <tr>\n",
       "      <th>20</th>\n",
       "      <td>mens</td>\n",
       "      <td>2017-03-12</td>\n",
       "      <td>0</td>\n",
       "      <td>1.0</td>\n",
       "      <td>0.875459</td>\n",
       "      <td>0.619948</td>\n",
       "      <td>0.223580</td>\n",
       "      <td>6.980658e-02</td>\n",
       "      <td>2.461970e-02</td>\n",
       "      <td>1.030922e-02</td>\n",
       "      <td>1</td>\n",
       "      <td>52</td>\n",
       "      <td>Florida State</td>\n",
       "      <td>87.22</td>\n",
       "      <td>West</td>\n",
       "      <td>3</td>\n",
       "    </tr>\n",
       "    <tr>\n",
       "      <th>21</th>\n",
       "      <td>mens</td>\n",
       "      <td>2017-03-12</td>\n",
       "      <td>0</td>\n",
       "      <td>1.0</td>\n",
       "      <td>0.627992</td>\n",
       "      <td>0.258162</td>\n",
       "      <td>0.101709</td>\n",
       "      <td>5.301900e-02</td>\n",
       "      <td>2.391696e-02</td>\n",
       "      <td>9.401520e-03</td>\n",
       "      <td>1</td>\n",
       "      <td>2132</td>\n",
       "      <td>Cincinnati</td>\n",
       "      <td>87.35</td>\n",
       "      <td>South</td>\n",
       "      <td>6</td>\n",
       "    </tr>\n",
       "    <tr>\n",
       "      <th>22</th>\n",
       "      <td>mens</td>\n",
       "      <td>2017-03-12</td>\n",
       "      <td>0</td>\n",
       "      <td>1.0</td>\n",
       "      <td>0.789798</td>\n",
       "      <td>0.176214</td>\n",
       "      <td>0.091756</td>\n",
       "      <td>4.410242e-02</td>\n",
       "      <td>1.931422e-02</td>\n",
       "      <td>9.153821e-03</td>\n",
       "      <td>1</td>\n",
       "      <td>275</td>\n",
       "      <td>Wisconsin</td>\n",
       "      <td>87.84</td>\n",
       "      <td>East</td>\n",
       "      <td>8</td>\n",
       "    </tr>\n",
       "    <tr>\n",
       "      <th>23</th>\n",
       "      <td>mens</td>\n",
       "      <td>2017-03-12</td>\n",
       "      <td>0</td>\n",
       "      <td>1.0</td>\n",
       "      <td>0.633435</td>\n",
       "      <td>0.229702</td>\n",
       "      <td>0.136026</td>\n",
       "      <td>5.006436e-02</td>\n",
       "      <td>2.132403e-02</td>\n",
       "      <td>7.944688e-03</td>\n",
       "      <td>1</td>\n",
       "      <td>130</td>\n",
       "      <td>Michigan</td>\n",
       "      <td>86.86</td>\n",
       "      <td>Midwest</td>\n",
       "      <td>7</td>\n",
       "    </tr>\n",
       "    <tr>\n",
       "      <th>24</th>\n",
       "      <td>mens</td>\n",
       "      <td>2017-03-12</td>\n",
       "      <td>0</td>\n",
       "      <td>1.0</td>\n",
       "      <td>0.754708</td>\n",
       "      <td>0.276810</td>\n",
       "      <td>0.082734</td>\n",
       "      <td>3.887618e-02</td>\n",
       "      <td>1.437416e-02</td>\n",
       "      <td>6.257400e-03</td>\n",
       "      <td>1</td>\n",
       "      <td>87</td>\n",
       "      <td>Notre Dame</td>\n",
       "      <td>86.68</td>\n",
       "      <td>West</td>\n",
       "      <td>5</td>\n",
       "    </tr>\n",
       "    <tr>\n",
       "      <th>25</th>\n",
       "      <td>mens</td>\n",
       "      <td>2017-03-12</td>\n",
       "      <td>0</td>\n",
       "      <td>1.0</td>\n",
       "      <td>0.560859</td>\n",
       "      <td>0.219366</td>\n",
       "      <td>0.082632</td>\n",
       "      <td>2.812271e-02</td>\n",
       "      <td>1.067937e-02</td>\n",
       "      <td>3.554227e-03</td>\n",
       "      <td>1</td>\n",
       "      <td>156</td>\n",
       "      <td>Creighton</td>\n",
       "      <td>84.43</td>\n",
       "      <td>Midwest</td>\n",
       "      <td>6</td>\n",
       "    </tr>\n",
       "    <tr>\n",
       "      <th>26</th>\n",
       "      <td>mens</td>\n",
       "      <td>2017-03-12</td>\n",
       "      <td>0</td>\n",
       "      <td>1.0</td>\n",
       "      <td>0.366565</td>\n",
       "      <td>0.099964</td>\n",
       "      <td>0.057101</td>\n",
       "      <td>2.003228e-02</td>\n",
       "      <td>8.217015e-03</td>\n",
       "      <td>2.949716e-03</td>\n",
       "      <td>1</td>\n",
       "      <td>197</td>\n",
       "      <td>Oklahoma State</td>\n",
       "      <td>84.71</td>\n",
       "      <td>Midwest</td>\n",
       "      <td>10</td>\n",
       "    </tr>\n",
       "    <tr>\n",
       "      <th>27</th>\n",
       "      <td>mens</td>\n",
       "      <td>2017-03-12</td>\n",
       "      <td>0</td>\n",
       "      <td>1.0</td>\n",
       "      <td>0.551241</td>\n",
       "      <td>0.111588</td>\n",
       "      <td>0.040975</td>\n",
       "      <td>1.598455e-02</td>\n",
       "      <td>5.821239e-03</td>\n",
       "      <td>1.859810e-03</td>\n",
       "      <td>1</td>\n",
       "      <td>2390</td>\n",
       "      <td>Miami (FL)</td>\n",
       "      <td>84.56</td>\n",
       "      <td>Midwest</td>\n",
       "      <td>8</td>\n",
       "    </tr>\n",
       "    <tr>\n",
       "      <th>28</th>\n",
       "      <td>mens</td>\n",
       "      <td>2017-03-12</td>\n",
       "      <td>0</td>\n",
       "      <td>1.0</td>\n",
       "      <td>0.505738</td>\n",
       "      <td>0.101192</td>\n",
       "      <td>0.053221</td>\n",
       "      <td>1.731866e-02</td>\n",
       "      <td>5.918176e-03</td>\n",
       "      <td>1.774560e-03</td>\n",
       "      <td>1</td>\n",
       "      <td>8</td>\n",
       "      <td>Arkansas</td>\n",
       "      <td>83.19</td>\n",
       "      <td>South</td>\n",
       "      <td>8</td>\n",
       "    </tr>\n",
       "    <tr>\n",
       "      <th>29</th>\n",
       "      <td>mens</td>\n",
       "      <td>2017-03-12</td>\n",
       "      <td>0</td>\n",
       "      <td>1.0</td>\n",
       "      <td>0.545707</td>\n",
       "      <td>0.089276</td>\n",
       "      <td>0.032690</td>\n",
       "      <td>1.253203e-02</td>\n",
       "      <td>3.773358e-03</td>\n",
       "      <td>1.385659e-03</td>\n",
       "      <td>1</td>\n",
       "      <td>238</td>\n",
       "      <td>Vanderbilt</td>\n",
       "      <td>83.79</td>\n",
       "      <td>West</td>\n",
       "      <td>9</td>\n",
       "    </tr>\n",
       "    <tr>\n",
       "      <th>...</th>\n",
       "      <td>...</td>\n",
       "      <td>...</td>\n",
       "      <td>...</td>\n",
       "      <td>...</td>\n",
       "      <td>...</td>\n",
       "      <td>...</td>\n",
       "      <td>...</td>\n",
       "      <td>...</td>\n",
       "      <td>...</td>\n",
       "      <td>...</td>\n",
       "      <td>...</td>\n",
       "      <td>...</td>\n",
       "      <td>...</td>\n",
       "      <td>...</td>\n",
       "      <td>...</td>\n",
       "      <td>...</td>\n",
       "    </tr>\n",
       "    <tr>\n",
       "      <th>102</th>\n",
       "      <td>womens</td>\n",
       "      <td>2017-03-12</td>\n",
       "      <td>0</td>\n",
       "      <td>1.0</td>\n",
       "      <td>0.515164</td>\n",
       "      <td>0.008893</td>\n",
       "      <td>0.002294</td>\n",
       "      <td>4.668982e-04</td>\n",
       "      <td>2.209115e-05</td>\n",
       "      <td>3.904488e-06</td>\n",
       "      <td>1</td>\n",
       "      <td>99</td>\n",
       "      <td>Louisiana State</td>\n",
       "      <td>80.97</td>\n",
       "      <td>Oklahoma City</td>\n",
       "      <td>8</td>\n",
       "    </tr>\n",
       "    <tr>\n",
       "      <th>103</th>\n",
       "      <td>womens</td>\n",
       "      <td>2017-03-12</td>\n",
       "      <td>0</td>\n",
       "      <td>1.0</td>\n",
       "      <td>0.592668</td>\n",
       "      <td>0.095655</td>\n",
       "      <td>0.006419</td>\n",
       "      <td>9.448425e-04</td>\n",
       "      <td>1.053739e-04</td>\n",
       "      <td>3.486450e-06</td>\n",
       "      <td>1</td>\n",
       "      <td>269</td>\n",
       "      <td>Marquette</td>\n",
       "      <td>79.73</td>\n",
       "      <td>Stockton</td>\n",
       "      <td>5</td>\n",
       "    </tr>\n",
       "    <tr>\n",
       "      <th>104</th>\n",
       "      <td>womens</td>\n",
       "      <td>2017-03-12</td>\n",
       "      <td>0</td>\n",
       "      <td>1.0</td>\n",
       "      <td>0.484836</td>\n",
       "      <td>0.007889</td>\n",
       "      <td>0.002093</td>\n",
       "      <td>4.388456e-04</td>\n",
       "      <td>1.989012e-05</td>\n",
       "      <td>3.394666e-06</td>\n",
       "      <td>1</td>\n",
       "      <td>25</td>\n",
       "      <td>California</td>\n",
       "      <td>82.52</td>\n",
       "      <td>Oklahoma City</td>\n",
       "      <td>9</td>\n",
       "    </tr>\n",
       "    <tr>\n",
       "      <th>105</th>\n",
       "      <td>womens</td>\n",
       "      <td>2017-03-12</td>\n",
       "      <td>0</td>\n",
       "      <td>1.0</td>\n",
       "      <td>0.545206</td>\n",
       "      <td>0.078112</td>\n",
       "      <td>0.012640</td>\n",
       "      <td>3.073038e-04</td>\n",
       "      <td>2.229461e-05</td>\n",
       "      <td>3.010088e-06</td>\n",
       "      <td>1</td>\n",
       "      <td>218</td>\n",
       "      <td>Temple</td>\n",
       "      <td>81.23</td>\n",
       "      <td>Bridgeport</td>\n",
       "      <td>7</td>\n",
       "    </tr>\n",
       "    <tr>\n",
       "      <th>106</th>\n",
       "      <td>womens</td>\n",
       "      <td>2017-03-12</td>\n",
       "      <td>0</td>\n",
       "      <td>1.0</td>\n",
       "      <td>0.233324</td>\n",
       "      <td>0.036683</td>\n",
       "      <td>0.006038</td>\n",
       "      <td>4.906944e-04</td>\n",
       "      <td>7.037716e-05</td>\n",
       "      <td>2.551931e-06</td>\n",
       "      <td>1</td>\n",
       "      <td>2181</td>\n",
       "      <td>Drake</td>\n",
       "      <td>79.43</td>\n",
       "      <td>Lexington</td>\n",
       "      <td>10</td>\n",
       "    </tr>\n",
       "    <tr>\n",
       "      <th>107</th>\n",
       "      <td>womens</td>\n",
       "      <td>2017-03-12</td>\n",
       "      <td>0</td>\n",
       "      <td>1.0</td>\n",
       "      <td>0.454794</td>\n",
       "      <td>0.057115</td>\n",
       "      <td>0.007181</td>\n",
       "      <td>1.332707e-04</td>\n",
       "      <td>1.228648e-05</td>\n",
       "      <td>2.058331e-06</td>\n",
       "      <td>1</td>\n",
       "      <td>2483</td>\n",
       "      <td>Oregon</td>\n",
       "      <td>83.06</td>\n",
       "      <td>Bridgeport</td>\n",
       "      <td>10</td>\n",
       "    </tr>\n",
       "    <tr>\n",
       "      <th>108</th>\n",
       "      <td>womens</td>\n",
       "      <td>2017-03-12</td>\n",
       "      <td>0</td>\n",
       "      <td>1.0</td>\n",
       "      <td>0.423763</td>\n",
       "      <td>0.039190</td>\n",
       "      <td>0.005885</td>\n",
       "      <td>3.143607e-04</td>\n",
       "      <td>1.107696e-05</td>\n",
       "      <td>1.534845e-06</td>\n",
       "      <td>1</td>\n",
       "      <td>2250</td>\n",
       "      <td>Gonzaga</td>\n",
       "      <td>81.07</td>\n",
       "      <td>Oklahoma City</td>\n",
       "      <td>11</td>\n",
       "    </tr>\n",
       "    <tr>\n",
       "      <th>109</th>\n",
       "      <td>womens</td>\n",
       "      <td>2017-03-12</td>\n",
       "      <td>0</td>\n",
       "      <td>1.0</td>\n",
       "      <td>0.182748</td>\n",
       "      <td>0.000871</td>\n",
       "      <td>0.000289</td>\n",
       "      <td>5.417010e-05</td>\n",
       "      <td>5.296162e-06</td>\n",
       "      <td>9.394080e-07</td>\n",
       "      <td>1</td>\n",
       "      <td>66</td>\n",
       "      <td>Iowa State</td>\n",
       "      <td>81.33</td>\n",
       "      <td>Bridgeport</td>\n",
       "      <td>9</td>\n",
       "    </tr>\n",
       "    <tr>\n",
       "      <th>110</th>\n",
       "      <td>womens</td>\n",
       "      <td>2017-03-12</td>\n",
       "      <td>0</td>\n",
       "      <td>1.0</td>\n",
       "      <td>0.115041</td>\n",
       "      <td>0.065271</td>\n",
       "      <td>0.002717</td>\n",
       "      <td>2.683427e-04</td>\n",
       "      <td>2.150257e-05</td>\n",
       "      <td>4.973710e-07</td>\n",
       "      <td>1</td>\n",
       "      <td>526</td>\n",
       "      <td>Florida Gulf Coast</td>\n",
       "      <td>76.81</td>\n",
       "      <td>Stockton</td>\n",
       "      <td>13</td>\n",
       "    </tr>\n",
       "    <tr>\n",
       "      <th>111</th>\n",
       "      <td>womens</td>\n",
       "      <td>2017-03-12</td>\n",
       "      <td>0</td>\n",
       "      <td>1.0</td>\n",
       "      <td>0.407332</td>\n",
       "      <td>0.050382</td>\n",
       "      <td>0.002173</td>\n",
       "      <td>2.211735e-04</td>\n",
       "      <td>1.702435e-05</td>\n",
       "      <td>3.770470e-07</td>\n",
       "      <td>1</td>\n",
       "      <td>2514</td>\n",
       "      <td>Quinnipiac</td>\n",
       "      <td>77.11</td>\n",
       "      <td>Stockton</td>\n",
       "      <td>12</td>\n",
       "    </tr>\n",
       "    <tr>\n",
       "      <th>112</th>\n",
       "      <td>womens</td>\n",
       "      <td>2017-03-12</td>\n",
       "      <td>0</td>\n",
       "      <td>1.0</td>\n",
       "      <td>0.177258</td>\n",
       "      <td>0.021083</td>\n",
       "      <td>0.000547</td>\n",
       "      <td>7.873965e-05</td>\n",
       "      <td>2.347465e-06</td>\n",
       "      <td>2.840550e-07</td>\n",
       "      <td>1</td>\n",
       "      <td>2168</td>\n",
       "      <td>Dayton</td>\n",
       "      <td>78.32</td>\n",
       "      <td>Oklahoma City</td>\n",
       "      <td>12</td>\n",
       "    </tr>\n",
       "    <tr>\n",
       "      <th>113</th>\n",
       "      <td>womens</td>\n",
       "      <td>2017-03-12</td>\n",
       "      <td>0</td>\n",
       "      <td>1.0</td>\n",
       "      <td>0.341308</td>\n",
       "      <td>0.014014</td>\n",
       "      <td>0.001564</td>\n",
       "      <td>1.162342e-04</td>\n",
       "      <td>8.897053e-06</td>\n",
       "      <td>1.960390e-07</td>\n",
       "      <td>1</td>\n",
       "      <td>2649</td>\n",
       "      <td>Toledo</td>\n",
       "      <td>76.26</td>\n",
       "      <td>Stockton</td>\n",
       "      <td>10</td>\n",
       "    </tr>\n",
       "    <tr>\n",
       "      <th>114</th>\n",
       "      <td>womens</td>\n",
       "      <td>2017-03-12</td>\n",
       "      <td>0</td>\n",
       "      <td>1.0</td>\n",
       "      <td>0.167025</td>\n",
       "      <td>0.008955</td>\n",
       "      <td>0.001837</td>\n",
       "      <td>2.614016e-05</td>\n",
       "      <td>1.468327e-06</td>\n",
       "      <td>1.589590e-07</td>\n",
       "      <td>1</td>\n",
       "      <td>2210</td>\n",
       "      <td>Elon</td>\n",
       "      <td>77.86</td>\n",
       "      <td>Bridgeport</td>\n",
       "      <td>11</td>\n",
       "    </tr>\n",
       "    <tr>\n",
       "      <th>115</th>\n",
       "      <td>womens</td>\n",
       "      <td>2017-03-12</td>\n",
       "      <td>0</td>\n",
       "      <td>1.0</td>\n",
       "      <td>0.162230</td>\n",
       "      <td>0.008217</td>\n",
       "      <td>0.001120</td>\n",
       "      <td>4.558655e-05</td>\n",
       "      <td>1.216467e-06</td>\n",
       "      <td>1.342290e-07</td>\n",
       "      <td>1</td>\n",
       "      <td>2460</td>\n",
       "      <td>Northern Iowa</td>\n",
       "      <td>77.10</td>\n",
       "      <td>Oklahoma City</td>\n",
       "      <td>10</td>\n",
       "    </tr>\n",
       "    <tr>\n",
       "      <th>116</th>\n",
       "      <td>womens</td>\n",
       "      <td>2017-03-12</td>\n",
       "      <td>0</td>\n",
       "      <td>1.0</td>\n",
       "      <td>0.053374</td>\n",
       "      <td>0.010823</td>\n",
       "      <td>0.000221</td>\n",
       "      <td>2.613366e-05</td>\n",
       "      <td>6.467630e-07</td>\n",
       "      <td>6.709600e-08</td>\n",
       "      <td>1</td>\n",
       "      <td>236</td>\n",
       "      <td>Chattanooga</td>\n",
       "      <td>76.21</td>\n",
       "      <td>Oklahoma City</td>\n",
       "      <td>13</td>\n",
       "    </tr>\n",
       "    <tr>\n",
       "      <th>117</th>\n",
       "      <td>womens</td>\n",
       "      <td>2017-03-12</td>\n",
       "      <td>0</td>\n",
       "      <td>1.0</td>\n",
       "      <td>0.057029</td>\n",
       "      <td>0.006715</td>\n",
       "      <td>0.000210</td>\n",
       "      <td>2.466088e-05</td>\n",
       "      <td>1.872470e-06</td>\n",
       "      <td>3.358800e-08</td>\n",
       "      <td>1</td>\n",
       "      <td>2057</td>\n",
       "      <td>Belmont</td>\n",
       "      <td>73.32</td>\n",
       "      <td>Lexington</td>\n",
       "      <td>13</td>\n",
       "    </tr>\n",
       "    <tr>\n",
       "      <th>118</th>\n",
       "      <td>womens</td>\n",
       "      <td>2017-03-12</td>\n",
       "      <td>0</td>\n",
       "      <td>1.0</td>\n",
       "      <td>0.154951</td>\n",
       "      <td>0.007939</td>\n",
       "      <td>0.000057</td>\n",
       "      <td>7.633193e-06</td>\n",
       "      <td>3.264770e-07</td>\n",
       "      <td>2.778800e-08</td>\n",
       "      <td>1</td>\n",
       "      <td>219</td>\n",
       "      <td>Pennsylvania</td>\n",
       "      <td>75.79</td>\n",
       "      <td>Bridgeport</td>\n",
       "      <td>12</td>\n",
       "    </tr>\n",
       "    <tr>\n",
       "      <th>119</th>\n",
       "      <td>womens</td>\n",
       "      <td>2017-03-12</td>\n",
       "      <td>0</td>\n",
       "      <td>1.0</td>\n",
       "      <td>0.015819</td>\n",
       "      <td>0.005250</td>\n",
       "      <td>0.000467</td>\n",
       "      <td>2.789141e-05</td>\n",
       "      <td>1.090858e-06</td>\n",
       "      <td>1.185100e-08</td>\n",
       "      <td>1</td>\n",
       "      <td>299</td>\n",
       "      <td>Long Beach State</td>\n",
       "      <td>71.27</td>\n",
       "      <td>Stockton</td>\n",
       "      <td>15</td>\n",
       "    </tr>\n",
       "    <tr>\n",
       "      <th>120</th>\n",
       "      <td>womens</td>\n",
       "      <td>2017-03-12</td>\n",
       "      <td>0</td>\n",
       "      <td>1.0</td>\n",
       "      <td>0.014418</td>\n",
       "      <td>0.002410</td>\n",
       "      <td>0.000152</td>\n",
       "      <td>7.611330e-06</td>\n",
       "      <td>4.117060e-07</td>\n",
       "      <td>6.330000e-09</td>\n",
       "      <td>1</td>\n",
       "      <td>2710</td>\n",
       "      <td>Western Illinois</td>\n",
       "      <td>71.83</td>\n",
       "      <td>Stockton</td>\n",
       "      <td>14</td>\n",
       "    </tr>\n",
       "    <tr>\n",
       "      <th>121</th>\n",
       "      <td>womens</td>\n",
       "      <td>2017-03-12</td>\n",
       "      <td>0</td>\n",
       "      <td>1.0</td>\n",
       "      <td>0.015865</td>\n",
       "      <td>0.002422</td>\n",
       "      <td>0.000310</td>\n",
       "      <td>2.560145e-06</td>\n",
       "      <td>7.096900e-08</td>\n",
       "      <td>4.097000e-09</td>\n",
       "      <td>1</td>\n",
       "      <td>2083</td>\n",
       "      <td>Bucknell</td>\n",
       "      <td>72.37</td>\n",
       "      <td>Bridgeport</td>\n",
       "      <td>14</td>\n",
       "    </tr>\n",
       "    <tr>\n",
       "      <th>122</th>\n",
       "      <td>womens</td>\n",
       "      <td>2017-03-12</td>\n",
       "      <td>0</td>\n",
       "      <td>1.0</td>\n",
       "      <td>0.000934</td>\n",
       "      <td>0.000143</td>\n",
       "      <td>0.000025</td>\n",
       "      <td>2.362851e-06</td>\n",
       "      <td>6.567500e-08</td>\n",
       "      <td>3.821000e-09</td>\n",
       "      <td>1</td>\n",
       "      <td>399</td>\n",
       "      <td>Albany (NY)</td>\n",
       "      <td>72.03</td>\n",
       "      <td>Bridgeport</td>\n",
       "      <td>16</td>\n",
       "    </tr>\n",
       "    <tr>\n",
       "      <th>123</th>\n",
       "      <td>womens</td>\n",
       "      <td>2017-03-12</td>\n",
       "      <td>0</td>\n",
       "      <td>1.0</td>\n",
       "      <td>0.026614</td>\n",
       "      <td>0.002858</td>\n",
       "      <td>0.000140</td>\n",
       "      <td>3.268737e-06</td>\n",
       "      <td>1.974520e-07</td>\n",
       "      <td>2.785000e-09</td>\n",
       "      <td>1</td>\n",
       "      <td>166</td>\n",
       "      <td>New Mexico State</td>\n",
       "      <td>70.78</td>\n",
       "      <td>Lexington</td>\n",
       "      <td>15</td>\n",
       "    </tr>\n",
       "    <tr>\n",
       "      <th>124</th>\n",
       "      <td>womens</td>\n",
       "      <td>2017-03-12</td>\n",
       "      <td>0</td>\n",
       "      <td>1.0</td>\n",
       "      <td>0.028850</td>\n",
       "      <td>0.006724</td>\n",
       "      <td>0.000017</td>\n",
       "      <td>1.017411e-06</td>\n",
       "      <td>3.305600e-08</td>\n",
       "      <td>2.210000e-09</td>\n",
       "      <td>1</td>\n",
       "      <td>68</td>\n",
       "      <td>Boise State</td>\n",
       "      <td>73.12</td>\n",
       "      <td>Bridgeport</td>\n",
       "      <td>13</td>\n",
       "    </tr>\n",
       "    <tr>\n",
       "      <th>125</th>\n",
       "      <td>womens</td>\n",
       "      <td>2017-03-12</td>\n",
       "      <td>0</td>\n",
       "      <td>1.0</td>\n",
       "      <td>0.014330</td>\n",
       "      <td>0.002073</td>\n",
       "      <td>0.000120</td>\n",
       "      <td>1.964520e-06</td>\n",
       "      <td>2.374500e-08</td>\n",
       "      <td>1.341000e-09</td>\n",
       "      <td>1</td>\n",
       "      <td>2653</td>\n",
       "      <td>Troy</td>\n",
       "      <td>70.54</td>\n",
       "      <td>Oklahoma City</td>\n",
       "      <td>15</td>\n",
       "    </tr>\n",
       "    <tr>\n",
       "      <th>126</th>\n",
       "      <td>womens</td>\n",
       "      <td>2017-03-12</td>\n",
       "      <td>0</td>\n",
       "      <td>1.0</td>\n",
       "      <td>0.012759</td>\n",
       "      <td>0.002200</td>\n",
       "      <td>0.000108</td>\n",
       "      <td>1.819541e-06</td>\n",
       "      <td>2.112400e-08</td>\n",
       "      <td>1.153000e-09</td>\n",
       "      <td>1</td>\n",
       "      <td>147</td>\n",
       "      <td>Montana State</td>\n",
       "      <td>71.12</td>\n",
       "      <td>Oklahoma City</td>\n",
       "      <td>14</td>\n",
       "    </tr>\n",
       "    <tr>\n",
       "      <th>127</th>\n",
       "      <td>womens</td>\n",
       "      <td>2017-03-12</td>\n",
       "      <td>0</td>\n",
       "      <td>1.0</td>\n",
       "      <td>0.008348</td>\n",
       "      <td>0.001201</td>\n",
       "      <td>0.000077</td>\n",
       "      <td>1.515166e-06</td>\n",
       "      <td>7.123300e-08</td>\n",
       "      <td>7.700000e-10</td>\n",
       "      <td>1</td>\n",
       "      <td>2110</td>\n",
       "      <td>Central Arkansas</td>\n",
       "      <td>68.04</td>\n",
       "      <td>Lexington</td>\n",
       "      <td>14</td>\n",
       "    </tr>\n",
       "    <tr>\n",
       "      <th>128</th>\n",
       "      <td>womens</td>\n",
       "      <td>2017-03-12</td>\n",
       "      <td>0</td>\n",
       "      <td>1.0</td>\n",
       "      <td>0.012954</td>\n",
       "      <td>0.001763</td>\n",
       "      <td>0.000037</td>\n",
       "      <td>1.156600e-07</td>\n",
       "      <td>1.394000e-09</td>\n",
       "      <td>3.800000e-11</td>\n",
       "      <td>1</td>\n",
       "      <td>2261</td>\n",
       "      <td>Hampton</td>\n",
       "      <td>66.02</td>\n",
       "      <td>Bridgeport</td>\n",
       "      <td>15</td>\n",
       "    </tr>\n",
       "    <tr>\n",
       "      <th>129</th>\n",
       "      <td>womens</td>\n",
       "      <td>2017-03-12</td>\n",
       "      <td>0</td>\n",
       "      <td>1.0</td>\n",
       "      <td>0.001629</td>\n",
       "      <td>0.000133</td>\n",
       "      <td>0.000004</td>\n",
       "      <td>1.583970e-07</td>\n",
       "      <td>4.125000e-09</td>\n",
       "      <td>2.400000e-11</td>\n",
       "      <td>1</td>\n",
       "      <td>2523</td>\n",
       "      <td>Robert Morris</td>\n",
       "      <td>64.43</td>\n",
       "      <td>Lexington</td>\n",
       "      <td>16</td>\n",
       "    </tr>\n",
       "    <tr>\n",
       "      <th>130</th>\n",
       "      <td>womens</td>\n",
       "      <td>2017-03-12</td>\n",
       "      <td>0</td>\n",
       "      <td>1.0</td>\n",
       "      <td>0.000546</td>\n",
       "      <td>0.000053</td>\n",
       "      <td>0.000002</td>\n",
       "      <td>3.767600e-08</td>\n",
       "      <td>2.070000e-10</td>\n",
       "      <td>6.000000e-12</td>\n",
       "      <td>1</td>\n",
       "      <td>2640</td>\n",
       "      <td>Texas Southern</td>\n",
       "      <td>62.72</td>\n",
       "      <td>Oklahoma City</td>\n",
       "      <td>16</td>\n",
       "    </tr>\n",
       "    <tr>\n",
       "      <th>131</th>\n",
       "      <td>womens</td>\n",
       "      <td>2017-03-12</td>\n",
       "      <td>0</td>\n",
       "      <td>1.0</td>\n",
       "      <td>0.001099</td>\n",
       "      <td>0.000056</td>\n",
       "      <td>0.000003</td>\n",
       "      <td>5.235700e-08</td>\n",
       "      <td>7.920000e-10</td>\n",
       "      <td>3.000000e-12</td>\n",
       "      <td>1</td>\n",
       "      <td>2427</td>\n",
       "      <td>North Carolina-Asheville</td>\n",
       "      <td>62.02</td>\n",
       "      <td>Stockton</td>\n",
       "      <td>16</td>\n",
       "    </tr>\n",
       "  </tbody>\n",
       "</table>\n",
       "<p>132 rows × 16 columns</p>\n",
       "</div>"
      ],
      "text/plain": [
       "     gender forecast_date  playin_flag  rd1_win   rd2_win   rd3_win   rd4_win  \\\n",
       "0      mens    2017-03-12            0      1.0  0.987632  0.803221  0.589206   \n",
       "1      mens    2017-03-12            0      1.0  0.976796  0.840203  0.595333   \n",
       "2      mens    2017-03-12            0      1.0  0.979612  0.805573  0.556596   \n",
       "3      mens    2017-03-12            0      1.0  0.966806  0.681923  0.474829   \n",
       "4      mens    2017-03-12            0      1.0  0.979275  0.798725  0.579842   \n",
       "5      mens    2017-03-12            0      1.0  0.966903  0.779870  0.510116   \n",
       "6      mens    2017-03-12            0      1.0  0.973818  0.668186  0.465179   \n",
       "7      mens    2017-03-12            0      1.0  0.952502  0.568275  0.392453   \n",
       "8      mens    2017-03-12            0      1.0  0.901830  0.645601  0.256006   \n",
       "9      mens    2017-03-12            0      1.0  0.941724  0.614539  0.208320   \n",
       "10     mens    2017-03-12            0      1.0  0.844767  0.491578  0.178718   \n",
       "11     mens    2017-03-12            0      1.0  0.737771  0.350552  0.257520   \n",
       "12     mens    2017-03-12            0      1.0  0.859696  0.506129  0.196616   \n",
       "13     mens    2017-03-12            0      1.0  0.692358  0.244217  0.149894   \n",
       "14     mens    2017-03-12            0      1.0  0.789642  0.456300  0.197904   \n",
       "15     mens    2017-03-12            0      1.0  0.830880  0.419265  0.165323   \n",
       "16     mens    2017-03-12            0      1.0  0.903499  0.460614  0.188427   \n",
       "17     mens    2017-03-12            0      1.0  0.922453  0.612531  0.210820   \n",
       "18     mens    2017-03-12            0      1.0  0.890206  0.620126  0.231391   \n",
       "19     mens    2017-03-12            0      1.0  0.874918  0.443570  0.126506   \n",
       "20     mens    2017-03-12            0      1.0  0.875459  0.619948  0.223580   \n",
       "21     mens    2017-03-12            0      1.0  0.627992  0.258162  0.101709   \n",
       "22     mens    2017-03-12            0      1.0  0.789798  0.176214  0.091756   \n",
       "23     mens    2017-03-12            0      1.0  0.633435  0.229702  0.136026   \n",
       "24     mens    2017-03-12            0      1.0  0.754708  0.276810  0.082734   \n",
       "25     mens    2017-03-12            0      1.0  0.560859  0.219366  0.082632   \n",
       "26     mens    2017-03-12            0      1.0  0.366565  0.099964  0.057101   \n",
       "27     mens    2017-03-12            0      1.0  0.551241  0.111588  0.040975   \n",
       "28     mens    2017-03-12            0      1.0  0.505738  0.101192  0.053221   \n",
       "29     mens    2017-03-12            0      1.0  0.545707  0.089276  0.032690   \n",
       "..      ...           ...          ...      ...       ...       ...       ...   \n",
       "102  womens    2017-03-12            0      1.0  0.515164  0.008893  0.002294   \n",
       "103  womens    2017-03-12            0      1.0  0.592668  0.095655  0.006419   \n",
       "104  womens    2017-03-12            0      1.0  0.484836  0.007889  0.002093   \n",
       "105  womens    2017-03-12            0      1.0  0.545206  0.078112  0.012640   \n",
       "106  womens    2017-03-12            0      1.0  0.233324  0.036683  0.006038   \n",
       "107  womens    2017-03-12            0      1.0  0.454794  0.057115  0.007181   \n",
       "108  womens    2017-03-12            0      1.0  0.423763  0.039190  0.005885   \n",
       "109  womens    2017-03-12            0      1.0  0.182748  0.000871  0.000289   \n",
       "110  womens    2017-03-12            0      1.0  0.115041  0.065271  0.002717   \n",
       "111  womens    2017-03-12            0      1.0  0.407332  0.050382  0.002173   \n",
       "112  womens    2017-03-12            0      1.0  0.177258  0.021083  0.000547   \n",
       "113  womens    2017-03-12            0      1.0  0.341308  0.014014  0.001564   \n",
       "114  womens    2017-03-12            0      1.0  0.167025  0.008955  0.001837   \n",
       "115  womens    2017-03-12            0      1.0  0.162230  0.008217  0.001120   \n",
       "116  womens    2017-03-12            0      1.0  0.053374  0.010823  0.000221   \n",
       "117  womens    2017-03-12            0      1.0  0.057029  0.006715  0.000210   \n",
       "118  womens    2017-03-12            0      1.0  0.154951  0.007939  0.000057   \n",
       "119  womens    2017-03-12            0      1.0  0.015819  0.005250  0.000467   \n",
       "120  womens    2017-03-12            0      1.0  0.014418  0.002410  0.000152   \n",
       "121  womens    2017-03-12            0      1.0  0.015865  0.002422  0.000310   \n",
       "122  womens    2017-03-12            0      1.0  0.000934  0.000143  0.000025   \n",
       "123  womens    2017-03-12            0      1.0  0.026614  0.002858  0.000140   \n",
       "124  womens    2017-03-12            0      1.0  0.028850  0.006724  0.000017   \n",
       "125  womens    2017-03-12            0      1.0  0.014330  0.002073  0.000120   \n",
       "126  womens    2017-03-12            0      1.0  0.012759  0.002200  0.000108   \n",
       "127  womens    2017-03-12            0      1.0  0.008348  0.001201  0.000077   \n",
       "128  womens    2017-03-12            0      1.0  0.012954  0.001763  0.000037   \n",
       "129  womens    2017-03-12            0      1.0  0.001629  0.000133  0.000004   \n",
       "130  womens    2017-03-12            0      1.0  0.000546  0.000053  0.000002   \n",
       "131  womens    2017-03-12            0      1.0  0.001099  0.000056  0.000003   \n",
       "\n",
       "          rd5_win       rd6_win       rd7_win  team_alive  team_id  \\\n",
       "0    4.017371e-01  2.411252e-01  1.499538e-01           1      222   \n",
       "1    4.146640e-01  2.293996e-01  1.384800e-01           1     2250   \n",
       "2    3.802992e-01  2.122119e-01  1.038905e-01           1     2305   \n",
       "3    3.022498e-01  1.682376e-01  8.180735e-02           1       96   \n",
       "4    2.985489e-01  1.547922e-01  6.997296e-02           1      153   \n",
       "5    2.365749e-01  1.221141e-01  6.666080e-02           1      150   \n",
       "6    2.160974e-01  1.108220e-01  4.973675e-02           1       97   \n",
       "7    1.610122e-01  7.967508e-02  4.395503e-02           1       12   \n",
       "8    1.468902e-01  6.777382e-02  3.533303e-02           1      277   \n",
       "9    9.754896e-02  5.271317e-02  2.485954e-02           1       26   \n",
       "10   9.595703e-02  4.731310e-02  2.482988e-02           1      258   \n",
       "11   1.177705e-01  4.616180e-02  2.107890e-02           1     2608   \n",
       "12   1.062554e-01  4.942348e-02  2.009920e-02           1     2509   \n",
       "13   8.384594e-02  4.374801e-02  1.990377e-02           1     2724   \n",
       "14   7.171128e-02  3.362927e-02  1.690412e-02           1     2567   \n",
       "15   9.031329e-02  4.147726e-02  1.665449e-02           1       66   \n",
       "16   6.428263e-02  2.886954e-02  1.398192e-02           1      239   \n",
       "17   6.598242e-02  2.951077e-02  1.154063e-02           1     2483   \n",
       "18   8.628194e-02  3.298444e-02  1.102381e-02           1     2086   \n",
       "19   5.734056e-02  2.355463e-02  1.056492e-02           1       57   \n",
       "20   6.980658e-02  2.461970e-02  1.030922e-02           1       52   \n",
       "21   5.301900e-02  2.391696e-02  9.401520e-03           1     2132   \n",
       "22   4.410242e-02  1.931422e-02  9.153821e-03           1      275   \n",
       "23   5.006436e-02  2.132403e-02  7.944688e-03           1      130   \n",
       "24   3.887618e-02  1.437416e-02  6.257400e-03           1       87   \n",
       "25   2.812271e-02  1.067937e-02  3.554227e-03           1      156   \n",
       "26   2.003228e-02  8.217015e-03  2.949716e-03           1      197   \n",
       "27   1.598455e-02  5.821239e-03  1.859810e-03           1     2390   \n",
       "28   1.731866e-02  5.918176e-03  1.774560e-03           1        8   \n",
       "29   1.253203e-02  3.773358e-03  1.385659e-03           1      238   \n",
       "..            ...           ...           ...         ...      ...   \n",
       "102  4.668982e-04  2.209115e-05  3.904488e-06           1       99   \n",
       "103  9.448425e-04  1.053739e-04  3.486450e-06           1      269   \n",
       "104  4.388456e-04  1.989012e-05  3.394666e-06           1       25   \n",
       "105  3.073038e-04  2.229461e-05  3.010088e-06           1      218   \n",
       "106  4.906944e-04  7.037716e-05  2.551931e-06           1     2181   \n",
       "107  1.332707e-04  1.228648e-05  2.058331e-06           1     2483   \n",
       "108  3.143607e-04  1.107696e-05  1.534845e-06           1     2250   \n",
       "109  5.417010e-05  5.296162e-06  9.394080e-07           1       66   \n",
       "110  2.683427e-04  2.150257e-05  4.973710e-07           1      526   \n",
       "111  2.211735e-04  1.702435e-05  3.770470e-07           1     2514   \n",
       "112  7.873965e-05  2.347465e-06  2.840550e-07           1     2168   \n",
       "113  1.162342e-04  8.897053e-06  1.960390e-07           1     2649   \n",
       "114  2.614016e-05  1.468327e-06  1.589590e-07           1     2210   \n",
       "115  4.558655e-05  1.216467e-06  1.342290e-07           1     2460   \n",
       "116  2.613366e-05  6.467630e-07  6.709600e-08           1      236   \n",
       "117  2.466088e-05  1.872470e-06  3.358800e-08           1     2057   \n",
       "118  7.633193e-06  3.264770e-07  2.778800e-08           1      219   \n",
       "119  2.789141e-05  1.090858e-06  1.185100e-08           1      299   \n",
       "120  7.611330e-06  4.117060e-07  6.330000e-09           1     2710   \n",
       "121  2.560145e-06  7.096900e-08  4.097000e-09           1     2083   \n",
       "122  2.362851e-06  6.567500e-08  3.821000e-09           1      399   \n",
       "123  3.268737e-06  1.974520e-07  2.785000e-09           1      166   \n",
       "124  1.017411e-06  3.305600e-08  2.210000e-09           1       68   \n",
       "125  1.964520e-06  2.374500e-08  1.341000e-09           1     2653   \n",
       "126  1.819541e-06  2.112400e-08  1.153000e-09           1      147   \n",
       "127  1.515166e-06  7.123300e-08  7.700000e-10           1     2110   \n",
       "128  1.156600e-07  1.394000e-09  3.800000e-11           1     2261   \n",
       "129  1.583970e-07  4.125000e-09  2.400000e-11           1     2523   \n",
       "130  3.767600e-08  2.070000e-10  6.000000e-12           1     2640   \n",
       "131  5.235700e-08  7.920000e-10  3.000000e-12           1     2427   \n",
       "\n",
       "                    team_name  team_rating    team_region team_seed  \n",
       "0                   Villanova        95.18           East         1  \n",
       "1                     Gonzaga        93.71           West         1  \n",
       "2                      Kansas        92.18        Midwest         1  \n",
       "3                    Kentucky        92.28          South         2  \n",
       "4              North Carolina        91.74          South         1  \n",
       "5                        Duke        92.26           East         2  \n",
       "6                  Louisville        90.80        Midwest         2  \n",
       "7                     Arizona        88.99           West         2  \n",
       "8               West Virginia        90.80           West         4  \n",
       "9                        UCLA        88.02          South         3  \n",
       "10                   Virginia        90.02           East         5  \n",
       "11          Saint Mary's (CA)        87.39           West         7  \n",
       "12                     Purdue        88.61        Midwest         4  \n",
       "13              Wichita State        88.86          South        10  \n",
       "14         Southern Methodist        88.43           East         6  \n",
       "15                 Iowa State        87.92        Midwest         5  \n",
       "16                     Baylor        87.66           East         3  \n",
       "17                     Oregon        87.30        Midwest         3  \n",
       "18                     Butler        86.52          South         4  \n",
       "19                    Florida        87.84           East         4  \n",
       "20              Florida State        87.22           West         3  \n",
       "21                 Cincinnati        87.35          South         6  \n",
       "22                  Wisconsin        87.84           East         8  \n",
       "23                   Michigan        86.86        Midwest         7  \n",
       "24                 Notre Dame        86.68           West         5  \n",
       "25                  Creighton        84.43        Midwest         6  \n",
       "26             Oklahoma State        84.71        Midwest        10  \n",
       "27                 Miami (FL)        84.56        Midwest         8  \n",
       "28                   Arkansas        83.19          South         8  \n",
       "29                 Vanderbilt        83.79           West         9  \n",
       "..                        ...          ...            ...       ...  \n",
       "102           Louisiana State        80.97  Oklahoma City         8  \n",
       "103                 Marquette        79.73       Stockton         5  \n",
       "104                California        82.52  Oklahoma City         9  \n",
       "105                    Temple        81.23     Bridgeport         7  \n",
       "106                     Drake        79.43      Lexington        10  \n",
       "107                    Oregon        83.06     Bridgeport        10  \n",
       "108                   Gonzaga        81.07  Oklahoma City        11  \n",
       "109                Iowa State        81.33     Bridgeport         9  \n",
       "110        Florida Gulf Coast        76.81       Stockton        13  \n",
       "111                Quinnipiac        77.11       Stockton        12  \n",
       "112                    Dayton        78.32  Oklahoma City        12  \n",
       "113                    Toledo        76.26       Stockton        10  \n",
       "114                      Elon        77.86     Bridgeport        11  \n",
       "115             Northern Iowa        77.10  Oklahoma City        10  \n",
       "116               Chattanooga        76.21  Oklahoma City        13  \n",
       "117                   Belmont        73.32      Lexington        13  \n",
       "118              Pennsylvania        75.79     Bridgeport        12  \n",
       "119          Long Beach State        71.27       Stockton        15  \n",
       "120          Western Illinois        71.83       Stockton        14  \n",
       "121                  Bucknell        72.37     Bridgeport        14  \n",
       "122               Albany (NY)        72.03     Bridgeport        16  \n",
       "123          New Mexico State        70.78      Lexington        15  \n",
       "124               Boise State        73.12     Bridgeport        13  \n",
       "125                      Troy        70.54  Oklahoma City        15  \n",
       "126             Montana State        71.12  Oklahoma City        14  \n",
       "127          Central Arkansas        68.04      Lexington        14  \n",
       "128                   Hampton        66.02     Bridgeport        15  \n",
       "129             Robert Morris        64.43      Lexington        16  \n",
       "130            Texas Southern        62.72  Oklahoma City        16  \n",
       "131  North Carolina-Asheville        62.02       Stockton        16  \n",
       "\n",
       "[132 rows x 16 columns]"
      ]
     },
     "execution_count": 304,
     "metadata": {},
     "output_type": "execute_result"
    }
   ],
   "source": [
    "data"
   ]
  },
  {
   "cell_type": "markdown",
   "metadata": {},
   "source": [
    "*Каждая строка вышеприведенной таблицы представляет собой команду, каждый столбец - определенный признак*"
   ]
  },
  {
   "cell_type": "code",
   "execution_count": 283,
   "metadata": {},
   "outputs": [
    {
     "name": "stdout",
     "output_type": "stream",
     "text": [
      "     gender forecast_date  playin_flag  rd1_win   rd2_win   rd3_win   rd4_win  \\\n",
      "0      mens    2017-03-12            0      1.0  0.987632  0.803221  0.589206   \n",
      "1      mens    2017-03-12            0      1.0  0.976796  0.840203  0.595333   \n",
      "2      mens    2017-03-12            0      1.0  0.979612  0.805573  0.556596   \n",
      "3      mens    2017-03-12            0      1.0  0.966806  0.681923  0.474829   \n",
      "4      mens    2017-03-12            0      1.0  0.979275  0.798725  0.579842   \n",
      "5      mens    2017-03-12            0      1.0  0.966903  0.779870  0.510116   \n",
      "6      mens    2017-03-12            0      1.0  0.973818  0.668186  0.465179   \n",
      "7      mens    2017-03-12            0      1.0  0.952502  0.568275  0.392453   \n",
      "8      mens    2017-03-12            0      1.0  0.901830  0.645601  0.256006   \n",
      "9      mens    2017-03-12            0      1.0  0.941724  0.614539  0.208320   \n",
      "10     mens    2017-03-12            0      1.0  0.844767  0.491578  0.178718   \n",
      "11     mens    2017-03-12            0      1.0  0.737771  0.350552  0.257520   \n",
      "12     mens    2017-03-12            0      1.0  0.859696  0.506129  0.196616   \n",
      "13     mens    2017-03-12            0      1.0  0.692358  0.244217  0.149894   \n",
      "14     mens    2017-03-12            0      1.0  0.789642  0.456300  0.197904   \n",
      "15     mens    2017-03-12            0      1.0  0.830880  0.419265  0.165323   \n",
      "16     mens    2017-03-12            0      1.0  0.903499  0.460614  0.188427   \n",
      "17     mens    2017-03-12            0      1.0  0.922453  0.612531  0.210820   \n",
      "18     mens    2017-03-12            0      1.0  0.890206  0.620126  0.231391   \n",
      "19     mens    2017-03-12            0      1.0  0.874918  0.443570  0.126506   \n",
      "20     mens    2017-03-12            0      1.0  0.875459  0.619948  0.223580   \n",
      "21     mens    2017-03-12            0      1.0  0.627992  0.258162  0.101709   \n",
      "22     mens    2017-03-12            0      1.0  0.789798  0.176214  0.091756   \n",
      "23     mens    2017-03-12            0      1.0  0.633435  0.229702  0.136026   \n",
      "24     mens    2017-03-12            0      1.0  0.754708  0.276810  0.082734   \n",
      "25     mens    2017-03-12            0      1.0  0.560859  0.219366  0.082632   \n",
      "26     mens    2017-03-12            0      1.0  0.366565  0.099964  0.057101   \n",
      "27     mens    2017-03-12            0      1.0  0.551241  0.111588  0.040975   \n",
      "28     mens    2017-03-12            0      1.0  0.505738  0.101192  0.053221   \n",
      "29     mens    2017-03-12            0      1.0  0.545707  0.089276  0.032690   \n",
      "..      ...           ...          ...      ...       ...       ...       ...   \n",
      "102  womens    2017-03-12            0      1.0  0.515164  0.008893  0.002294   \n",
      "103  womens    2017-03-12            0      1.0  0.592668  0.095655  0.006419   \n",
      "104  womens    2017-03-12            0      1.0  0.484836  0.007889  0.002093   \n",
      "105  womens    2017-03-12            0      1.0  0.545206  0.078112  0.012640   \n",
      "106  womens    2017-03-12            0      1.0  0.233324  0.036683  0.006038   \n",
      "107  womens    2017-03-12            0      1.0  0.454794  0.057115  0.007181   \n",
      "108  womens    2017-03-12            0      1.0  0.423763  0.039190  0.005885   \n",
      "109  womens    2017-03-12            0      1.0  0.182748  0.000871  0.000289   \n",
      "110  womens    2017-03-12            0      1.0  0.115041  0.065271  0.002717   \n",
      "111  womens    2017-03-12            0      1.0  0.407332  0.050382  0.002173   \n",
      "112  womens    2017-03-12            0      1.0  0.177258  0.021083  0.000547   \n",
      "113  womens    2017-03-12            0      1.0  0.341308  0.014014  0.001564   \n",
      "114  womens    2017-03-12            0      1.0  0.167025  0.008955  0.001837   \n",
      "115  womens    2017-03-12            0      1.0  0.162230  0.008217  0.001120   \n",
      "116  womens    2017-03-12            0      1.0  0.053374  0.010823  0.000221   \n",
      "117  womens    2017-03-12            0      1.0  0.057029  0.006715  0.000210   \n",
      "118  womens    2017-03-12            0      1.0  0.154951  0.007939  0.000057   \n",
      "119  womens    2017-03-12            0      1.0  0.015819  0.005250  0.000467   \n",
      "120  womens    2017-03-12            0      1.0  0.014418  0.002410  0.000152   \n",
      "121  womens    2017-03-12            0      1.0  0.015865  0.002422  0.000310   \n",
      "122  womens    2017-03-12            0      1.0  0.000934  0.000143  0.000025   \n",
      "123  womens    2017-03-12            0      1.0  0.026614  0.002858  0.000140   \n",
      "124  womens    2017-03-12            0      1.0  0.028850  0.006724  0.000017   \n",
      "125  womens    2017-03-12            0      1.0  0.014330  0.002073  0.000120   \n",
      "126  womens    2017-03-12            0      1.0  0.012759  0.002200  0.000108   \n",
      "127  womens    2017-03-12            0      1.0  0.008348  0.001201  0.000077   \n",
      "128  womens    2017-03-12            0      1.0  0.012954  0.001763  0.000037   \n",
      "129  womens    2017-03-12            0      1.0  0.001629  0.000133  0.000004   \n",
      "130  womens    2017-03-12            0      1.0  0.000546  0.000053  0.000002   \n",
      "131  womens    2017-03-12            0      1.0  0.001099  0.000056  0.000003   \n",
      "\n",
      "          rd5_win       rd6_win       rd7_win  team_alive  team_id  \\\n",
      "0    4.017371e-01  2.411252e-01  1.499538e-01           1      222   \n",
      "1    4.146640e-01  2.293996e-01  1.384800e-01           1     2250   \n",
      "2    3.802992e-01  2.122119e-01  1.038905e-01           1     2305   \n",
      "3    3.022498e-01  1.682376e-01  8.180735e-02           1       96   \n",
      "4    2.985489e-01  1.547922e-01  6.997296e-02           1      153   \n",
      "5    2.365749e-01  1.221141e-01  6.666080e-02           1      150   \n",
      "6    2.160974e-01  1.108220e-01  4.973675e-02           1       97   \n",
      "7    1.610122e-01  7.967508e-02  4.395503e-02           1       12   \n",
      "8    1.468902e-01  6.777382e-02  3.533303e-02           1      277   \n",
      "9    9.754896e-02  5.271317e-02  2.485954e-02           1       26   \n",
      "10   9.595703e-02  4.731310e-02  2.482988e-02           1      258   \n",
      "11   1.177705e-01  4.616180e-02  2.107890e-02           1     2608   \n",
      "12   1.062554e-01  4.942348e-02  2.009920e-02           1     2509   \n",
      "13   8.384594e-02  4.374801e-02  1.990377e-02           1     2724   \n",
      "14   7.171128e-02  3.362927e-02  1.690412e-02           1     2567   \n",
      "15   9.031329e-02  4.147726e-02  1.665449e-02           1       66   \n",
      "16   6.428263e-02  2.886954e-02  1.398192e-02           1      239   \n",
      "17   6.598242e-02  2.951077e-02  1.154063e-02           1     2483   \n",
      "18   8.628194e-02  3.298444e-02  1.102381e-02           1     2086   \n",
      "19   5.734056e-02  2.355463e-02  1.056492e-02           1       57   \n",
      "20   6.980658e-02  2.461970e-02  1.030922e-02           1       52   \n",
      "21   5.301900e-02  2.391696e-02  9.401520e-03           1     2132   \n",
      "22   4.410242e-02  1.931422e-02  9.153821e-03           1      275   \n",
      "23   5.006436e-02  2.132403e-02  7.944688e-03           1      130   \n",
      "24   3.887618e-02  1.437416e-02  6.257400e-03           1       87   \n",
      "25   2.812271e-02  1.067937e-02  3.554227e-03           1      156   \n",
      "26   2.003228e-02  8.217015e-03  2.949716e-03           1      197   \n",
      "27   1.598455e-02  5.821239e-03  1.859810e-03           1     2390   \n",
      "28   1.731866e-02  5.918176e-03  1.774560e-03           1        8   \n",
      "29   1.253203e-02  3.773358e-03  1.385659e-03           1      238   \n",
      "..            ...           ...           ...         ...      ...   \n",
      "102  4.668982e-04  2.209115e-05  3.904488e-06           1       99   \n",
      "103  9.448425e-04  1.053739e-04  3.486450e-06           1      269   \n",
      "104  4.388456e-04  1.989012e-05  3.394666e-06           1       25   \n",
      "105  3.073038e-04  2.229461e-05  3.010088e-06           1      218   \n",
      "106  4.906944e-04  7.037716e-05  2.551931e-06           1     2181   \n",
      "107  1.332707e-04  1.228648e-05  2.058331e-06           1     2483   \n",
      "108  3.143607e-04  1.107696e-05  1.534845e-06           1     2250   \n",
      "109  5.417010e-05  5.296162e-06  9.394080e-07           1       66   \n",
      "110  2.683427e-04  2.150257e-05  4.973710e-07           1      526   \n",
      "111  2.211735e-04  1.702435e-05  3.770470e-07           1     2514   \n",
      "112  7.873965e-05  2.347465e-06  2.840550e-07           1     2168   \n",
      "113  1.162342e-04  8.897053e-06  1.960390e-07           1     2649   \n",
      "114  2.614016e-05  1.468327e-06  1.589590e-07           1     2210   \n",
      "115  4.558655e-05  1.216467e-06  1.342290e-07           1     2460   \n",
      "116  2.613366e-05  6.467630e-07  6.709600e-08           1      236   \n",
      "117  2.466088e-05  1.872470e-06  3.358800e-08           1     2057   \n",
      "118  7.633193e-06  3.264770e-07  2.778800e-08           1      219   \n",
      "119  2.789141e-05  1.090858e-06  1.185100e-08           1      299   \n",
      "120  7.611330e-06  4.117060e-07  6.330000e-09           1     2710   \n",
      "121  2.560145e-06  7.096900e-08  4.097000e-09           1     2083   \n",
      "122  2.362851e-06  6.567500e-08  3.821000e-09           1      399   \n",
      "123  3.268737e-06  1.974520e-07  2.785000e-09           1      166   \n",
      "124  1.017411e-06  3.305600e-08  2.210000e-09           1       68   \n",
      "125  1.964520e-06  2.374500e-08  1.341000e-09           1     2653   \n",
      "126  1.819541e-06  2.112400e-08  1.153000e-09           1      147   \n",
      "127  1.515166e-06  7.123300e-08  7.700000e-10           1     2110   \n",
      "128  1.156600e-07  1.394000e-09  3.800000e-11           1     2261   \n",
      "129  1.583970e-07  4.125000e-09  2.400000e-11           1     2523   \n",
      "130  3.767600e-08  2.070000e-10  6.000000e-12           1     2640   \n",
      "131  5.235700e-08  7.920000e-10  3.000000e-12           1     2427   \n",
      "\n",
      "                    team_name  team_rating    team_region team_seed  \n",
      "0                   Villanova        95.18           East         1  \n",
      "1                     Gonzaga        93.71           West         1  \n",
      "2                      Kansas        92.18        Midwest         1  \n",
      "3                    Kentucky        92.28          South         2  \n",
      "4              North Carolina        91.74          South         1  \n",
      "5                        Duke        92.26           East         2  \n",
      "6                  Louisville        90.80        Midwest         2  \n",
      "7                     Arizona        88.99           West         2  \n",
      "8               West Virginia        90.80           West         4  \n",
      "9                        UCLA        88.02          South         3  \n",
      "10                   Virginia        90.02           East         5  \n",
      "11          Saint Mary's (CA)        87.39           West         7  \n",
      "12                     Purdue        88.61        Midwest         4  \n",
      "13              Wichita State        88.86          South        10  \n",
      "14         Southern Methodist        88.43           East         6  \n",
      "15                 Iowa State        87.92        Midwest         5  \n",
      "16                     Baylor        87.66           East         3  \n",
      "17                     Oregon        87.30        Midwest         3  \n",
      "18                     Butler        86.52          South         4  \n",
      "19                    Florida        87.84           East         4  \n",
      "20              Florida State        87.22           West         3  \n",
      "21                 Cincinnati        87.35          South         6  \n",
      "22                  Wisconsin        87.84           East         8  \n",
      "23                   Michigan        86.86        Midwest         7  \n",
      "24                 Notre Dame        86.68           West         5  \n",
      "25                  Creighton        84.43        Midwest         6  \n",
      "26             Oklahoma State        84.71        Midwest        10  \n",
      "27                 Miami (FL)        84.56        Midwest         8  \n",
      "28                   Arkansas        83.19          South         8  \n",
      "29                 Vanderbilt        83.79           West         9  \n",
      "..                        ...          ...            ...       ...  \n",
      "102           Louisiana State        80.97  Oklahoma City         8  \n",
      "103                 Marquette        79.73       Stockton         5  \n",
      "104                California        82.52  Oklahoma City         9  \n",
      "105                    Temple        81.23     Bridgeport         7  \n",
      "106                     Drake        79.43      Lexington        10  \n",
      "107                    Oregon        83.06     Bridgeport        10  \n",
      "108                   Gonzaga        81.07  Oklahoma City        11  \n",
      "109                Iowa State        81.33     Bridgeport         9  \n",
      "110        Florida Gulf Coast        76.81       Stockton        13  \n",
      "111                Quinnipiac        77.11       Stockton        12  \n",
      "112                    Dayton        78.32  Oklahoma City        12  \n",
      "113                    Toledo        76.26       Stockton        10  \n",
      "114                      Elon        77.86     Bridgeport        11  \n",
      "115             Northern Iowa        77.10  Oklahoma City        10  \n",
      "116               Chattanooga        76.21  Oklahoma City        13  \n",
      "117                   Belmont        73.32      Lexington        13  \n",
      "118              Pennsylvania        75.79     Bridgeport        12  \n",
      "119          Long Beach State        71.27       Stockton        15  \n",
      "120          Western Illinois        71.83       Stockton        14  \n",
      "121                  Bucknell        72.37     Bridgeport        14  \n",
      "122               Albany (NY)        72.03     Bridgeport        16  \n",
      "123          New Mexico State        70.78      Lexington        15  \n",
      "124               Boise State        73.12     Bridgeport        13  \n",
      "125                      Troy        70.54  Oklahoma City        15  \n",
      "126             Montana State        71.12  Oklahoma City        14  \n",
      "127          Central Arkansas        68.04      Lexington        14  \n",
      "128                   Hampton        66.02     Bridgeport        15  \n",
      "129             Robert Morris        64.43      Lexington        16  \n",
      "130            Texas Southern        62.72  Oklahoma City        16  \n",
      "131  North Carolina-Asheville        62.02       Stockton        16  \n",
      "\n",
      "[132 rows x 16 columns]\n"
     ]
    }
   ],
   "source": [
    "print(data)"
   ]
  },
  {
   "cell_type": "markdown",
   "metadata": {},
   "source": [
    "*Выведем первые 5 строк таблицы*"
   ]
  },
  {
   "cell_type": "code",
   "execution_count": 284,
   "metadata": {
    "scrolled": true
   },
   "outputs": [
    {
     "data": {
      "text/html": [
       "<div>\n",
       "<style>\n",
       "    .dataframe thead tr:only-child th {\n",
       "        text-align: right;\n",
       "    }\n",
       "\n",
       "    .dataframe thead th {\n",
       "        text-align: left;\n",
       "    }\n",
       "\n",
       "    .dataframe tbody tr th {\n",
       "        vertical-align: top;\n",
       "    }\n",
       "</style>\n",
       "<table border=\"1\" class=\"dataframe\">\n",
       "  <thead>\n",
       "    <tr style=\"text-align: right;\">\n",
       "      <th></th>\n",
       "      <th>gender</th>\n",
       "      <th>forecast_date</th>\n",
       "      <th>playin_flag</th>\n",
       "      <th>rd1_win</th>\n",
       "      <th>rd2_win</th>\n",
       "      <th>rd3_win</th>\n",
       "      <th>rd4_win</th>\n",
       "      <th>rd5_win</th>\n",
       "      <th>rd6_win</th>\n",
       "      <th>rd7_win</th>\n",
       "      <th>team_alive</th>\n",
       "      <th>team_id</th>\n",
       "      <th>team_name</th>\n",
       "      <th>team_rating</th>\n",
       "      <th>team_region</th>\n",
       "      <th>team_seed</th>\n",
       "    </tr>\n",
       "  </thead>\n",
       "  <tbody>\n",
       "    <tr>\n",
       "      <th>0</th>\n",
       "      <td>mens</td>\n",
       "      <td>2017-03-12</td>\n",
       "      <td>0</td>\n",
       "      <td>1.0</td>\n",
       "      <td>0.987632</td>\n",
       "      <td>0.803221</td>\n",
       "      <td>0.589206</td>\n",
       "      <td>0.401737</td>\n",
       "      <td>0.241125</td>\n",
       "      <td>0.149954</td>\n",
       "      <td>1</td>\n",
       "      <td>222</td>\n",
       "      <td>Villanova</td>\n",
       "      <td>95.18</td>\n",
       "      <td>East</td>\n",
       "      <td>1</td>\n",
       "    </tr>\n",
       "    <tr>\n",
       "      <th>1</th>\n",
       "      <td>mens</td>\n",
       "      <td>2017-03-12</td>\n",
       "      <td>0</td>\n",
       "      <td>1.0</td>\n",
       "      <td>0.976796</td>\n",
       "      <td>0.840203</td>\n",
       "      <td>0.595333</td>\n",
       "      <td>0.414664</td>\n",
       "      <td>0.229400</td>\n",
       "      <td>0.138480</td>\n",
       "      <td>1</td>\n",
       "      <td>2250</td>\n",
       "      <td>Gonzaga</td>\n",
       "      <td>93.71</td>\n",
       "      <td>West</td>\n",
       "      <td>1</td>\n",
       "    </tr>\n",
       "    <tr>\n",
       "      <th>2</th>\n",
       "      <td>mens</td>\n",
       "      <td>2017-03-12</td>\n",
       "      <td>0</td>\n",
       "      <td>1.0</td>\n",
       "      <td>0.979612</td>\n",
       "      <td>0.805573</td>\n",
       "      <td>0.556596</td>\n",
       "      <td>0.380299</td>\n",
       "      <td>0.212212</td>\n",
       "      <td>0.103890</td>\n",
       "      <td>1</td>\n",
       "      <td>2305</td>\n",
       "      <td>Kansas</td>\n",
       "      <td>92.18</td>\n",
       "      <td>Midwest</td>\n",
       "      <td>1</td>\n",
       "    </tr>\n",
       "    <tr>\n",
       "      <th>3</th>\n",
       "      <td>mens</td>\n",
       "      <td>2017-03-12</td>\n",
       "      <td>0</td>\n",
       "      <td>1.0</td>\n",
       "      <td>0.966806</td>\n",
       "      <td>0.681923</td>\n",
       "      <td>0.474829</td>\n",
       "      <td>0.302250</td>\n",
       "      <td>0.168238</td>\n",
       "      <td>0.081807</td>\n",
       "      <td>1</td>\n",
       "      <td>96</td>\n",
       "      <td>Kentucky</td>\n",
       "      <td>92.28</td>\n",
       "      <td>South</td>\n",
       "      <td>2</td>\n",
       "    </tr>\n",
       "    <tr>\n",
       "      <th>4</th>\n",
       "      <td>mens</td>\n",
       "      <td>2017-03-12</td>\n",
       "      <td>0</td>\n",
       "      <td>1.0</td>\n",
       "      <td>0.979275</td>\n",
       "      <td>0.798725</td>\n",
       "      <td>0.579842</td>\n",
       "      <td>0.298549</td>\n",
       "      <td>0.154792</td>\n",
       "      <td>0.069973</td>\n",
       "      <td>1</td>\n",
       "      <td>153</td>\n",
       "      <td>North Carolina</td>\n",
       "      <td>91.74</td>\n",
       "      <td>South</td>\n",
       "      <td>1</td>\n",
       "    </tr>\n",
       "  </tbody>\n",
       "</table>\n",
       "</div>"
      ],
      "text/plain": [
       "  gender forecast_date  playin_flag  rd1_win   rd2_win   rd3_win   rd4_win  \\\n",
       "0   mens    2017-03-12            0      1.0  0.987632  0.803221  0.589206   \n",
       "1   mens    2017-03-12            0      1.0  0.976796  0.840203  0.595333   \n",
       "2   mens    2017-03-12            0      1.0  0.979612  0.805573  0.556596   \n",
       "3   mens    2017-03-12            0      1.0  0.966806  0.681923  0.474829   \n",
       "4   mens    2017-03-12            0      1.0  0.979275  0.798725  0.579842   \n",
       "\n",
       "    rd5_win   rd6_win   rd7_win  team_alive  team_id       team_name  \\\n",
       "0  0.401737  0.241125  0.149954           1      222       Villanova   \n",
       "1  0.414664  0.229400  0.138480           1     2250         Gonzaga   \n",
       "2  0.380299  0.212212  0.103890           1     2305          Kansas   \n",
       "3  0.302250  0.168238  0.081807           1       96        Kentucky   \n",
       "4  0.298549  0.154792  0.069973           1      153  North Carolina   \n",
       "\n",
       "   team_rating team_region team_seed  \n",
       "0        95.18        East         1  \n",
       "1        93.71        West         1  \n",
       "2        92.18     Midwest         1  \n",
       "3        92.28       South         2  \n",
       "4        91.74       South         1  "
      ]
     },
     "execution_count": 284,
     "metadata": {},
     "output_type": "execute_result"
    }
   ],
   "source": [
    "data.head()"
   ]
  },
  {
   "cell_type": "markdown",
   "metadata": {},
   "source": [
    "*Выведем последние 5 строк таблицы*"
   ]
  },
  {
   "cell_type": "code",
   "execution_count": 285,
   "metadata": {},
   "outputs": [
    {
     "data": {
      "text/html": [
       "<div>\n",
       "<style>\n",
       "    .dataframe thead tr:only-child th {\n",
       "        text-align: right;\n",
       "    }\n",
       "\n",
       "    .dataframe thead th {\n",
       "        text-align: left;\n",
       "    }\n",
       "\n",
       "    .dataframe tbody tr th {\n",
       "        vertical-align: top;\n",
       "    }\n",
       "</style>\n",
       "<table border=\"1\" class=\"dataframe\">\n",
       "  <thead>\n",
       "    <tr style=\"text-align: right;\">\n",
       "      <th></th>\n",
       "      <th>gender</th>\n",
       "      <th>forecast_date</th>\n",
       "      <th>playin_flag</th>\n",
       "      <th>rd1_win</th>\n",
       "      <th>rd2_win</th>\n",
       "      <th>rd3_win</th>\n",
       "      <th>rd4_win</th>\n",
       "      <th>rd5_win</th>\n",
       "      <th>rd6_win</th>\n",
       "      <th>rd7_win</th>\n",
       "      <th>team_alive</th>\n",
       "      <th>team_id</th>\n",
       "      <th>team_name</th>\n",
       "      <th>team_rating</th>\n",
       "      <th>team_region</th>\n",
       "      <th>team_seed</th>\n",
       "    </tr>\n",
       "  </thead>\n",
       "  <tbody>\n",
       "    <tr>\n",
       "      <th>127</th>\n",
       "      <td>womens</td>\n",
       "      <td>2017-03-12</td>\n",
       "      <td>0</td>\n",
       "      <td>1.0</td>\n",
       "      <td>0.008348</td>\n",
       "      <td>0.001201</td>\n",
       "      <td>0.000077</td>\n",
       "      <td>1.515166e-06</td>\n",
       "      <td>7.123300e-08</td>\n",
       "      <td>7.700000e-10</td>\n",
       "      <td>1</td>\n",
       "      <td>2110</td>\n",
       "      <td>Central Arkansas</td>\n",
       "      <td>68.04</td>\n",
       "      <td>Lexington</td>\n",
       "      <td>14</td>\n",
       "    </tr>\n",
       "    <tr>\n",
       "      <th>128</th>\n",
       "      <td>womens</td>\n",
       "      <td>2017-03-12</td>\n",
       "      <td>0</td>\n",
       "      <td>1.0</td>\n",
       "      <td>0.012954</td>\n",
       "      <td>0.001763</td>\n",
       "      <td>0.000037</td>\n",
       "      <td>1.156600e-07</td>\n",
       "      <td>1.394000e-09</td>\n",
       "      <td>3.800000e-11</td>\n",
       "      <td>1</td>\n",
       "      <td>2261</td>\n",
       "      <td>Hampton</td>\n",
       "      <td>66.02</td>\n",
       "      <td>Bridgeport</td>\n",
       "      <td>15</td>\n",
       "    </tr>\n",
       "    <tr>\n",
       "      <th>129</th>\n",
       "      <td>womens</td>\n",
       "      <td>2017-03-12</td>\n",
       "      <td>0</td>\n",
       "      <td>1.0</td>\n",
       "      <td>0.001629</td>\n",
       "      <td>0.000133</td>\n",
       "      <td>0.000004</td>\n",
       "      <td>1.583970e-07</td>\n",
       "      <td>4.125000e-09</td>\n",
       "      <td>2.400000e-11</td>\n",
       "      <td>1</td>\n",
       "      <td>2523</td>\n",
       "      <td>Robert Morris</td>\n",
       "      <td>64.43</td>\n",
       "      <td>Lexington</td>\n",
       "      <td>16</td>\n",
       "    </tr>\n",
       "    <tr>\n",
       "      <th>130</th>\n",
       "      <td>womens</td>\n",
       "      <td>2017-03-12</td>\n",
       "      <td>0</td>\n",
       "      <td>1.0</td>\n",
       "      <td>0.000546</td>\n",
       "      <td>0.000053</td>\n",
       "      <td>0.000002</td>\n",
       "      <td>3.767600e-08</td>\n",
       "      <td>2.070000e-10</td>\n",
       "      <td>6.000000e-12</td>\n",
       "      <td>1</td>\n",
       "      <td>2640</td>\n",
       "      <td>Texas Southern</td>\n",
       "      <td>62.72</td>\n",
       "      <td>Oklahoma City</td>\n",
       "      <td>16</td>\n",
       "    </tr>\n",
       "    <tr>\n",
       "      <th>131</th>\n",
       "      <td>womens</td>\n",
       "      <td>2017-03-12</td>\n",
       "      <td>0</td>\n",
       "      <td>1.0</td>\n",
       "      <td>0.001099</td>\n",
       "      <td>0.000056</td>\n",
       "      <td>0.000003</td>\n",
       "      <td>5.235700e-08</td>\n",
       "      <td>7.920000e-10</td>\n",
       "      <td>3.000000e-12</td>\n",
       "      <td>1</td>\n",
       "      <td>2427</td>\n",
       "      <td>North Carolina-Asheville</td>\n",
       "      <td>62.02</td>\n",
       "      <td>Stockton</td>\n",
       "      <td>16</td>\n",
       "    </tr>\n",
       "  </tbody>\n",
       "</table>\n",
       "</div>"
      ],
      "text/plain": [
       "     gender forecast_date  playin_flag  rd1_win   rd2_win   rd3_win   rd4_win  \\\n",
       "127  womens    2017-03-12            0      1.0  0.008348  0.001201  0.000077   \n",
       "128  womens    2017-03-12            0      1.0  0.012954  0.001763  0.000037   \n",
       "129  womens    2017-03-12            0      1.0  0.001629  0.000133  0.000004   \n",
       "130  womens    2017-03-12            0      1.0  0.000546  0.000053  0.000002   \n",
       "131  womens    2017-03-12            0      1.0  0.001099  0.000056  0.000003   \n",
       "\n",
       "          rd5_win       rd6_win       rd7_win  team_alive  team_id  \\\n",
       "127  1.515166e-06  7.123300e-08  7.700000e-10           1     2110   \n",
       "128  1.156600e-07  1.394000e-09  3.800000e-11           1     2261   \n",
       "129  1.583970e-07  4.125000e-09  2.400000e-11           1     2523   \n",
       "130  3.767600e-08  2.070000e-10  6.000000e-12           1     2640   \n",
       "131  5.235700e-08  7.920000e-10  3.000000e-12           1     2427   \n",
       "\n",
       "                    team_name  team_rating    team_region team_seed  \n",
       "127          Central Arkansas        68.04      Lexington        14  \n",
       "128                   Hampton        66.02     Bridgeport        15  \n",
       "129             Robert Morris        64.43      Lexington        16  \n",
       "130            Texas Southern        62.72  Oklahoma City        16  \n",
       "131  North Carolina-Asheville        62.02       Stockton        16  "
      ]
     },
     "execution_count": 285,
     "metadata": {},
     "output_type": "execute_result"
    }
   ],
   "source": [
    "data.tail()"
   ]
  },
  {
   "cell_type": "markdown",
   "metadata": {},
   "source": [
    "*Посмотрим на размер данных*"
   ]
  },
  {
   "cell_type": "code",
   "execution_count": 286,
   "metadata": {},
   "outputs": [
    {
     "name": "stdout",
     "output_type": "stream",
     "text": [
      "(132, 16)\n"
     ]
    }
   ],
   "source": [
    "print(data.shape)"
   ]
  },
  {
   "cell_type": "markdown",
   "metadata": {},
   "source": [
    "*В таблице 132 строки и 16 столбцов*"
   ]
  },
  {
   "cell_type": "markdown",
   "metadata": {},
   "source": [
    "*Посмотрим на типы данных*"
   ]
  },
  {
   "cell_type": "code",
   "execution_count": 287,
   "metadata": {},
   "outputs": [
    {
     "data": {
      "text/plain": [
       "pandas.core.frame.DataFrame"
      ]
     },
     "execution_count": 287,
     "metadata": {},
     "output_type": "execute_result"
    }
   ],
   "source": [
    "type(data) "
   ]
  },
  {
   "cell_type": "code",
   "execution_count": 288,
   "metadata": {},
   "outputs": [
    {
     "data": {
      "text/plain": [
       "pandas.core.series.Series"
      ]
     },
     "execution_count": 288,
     "metadata": {},
     "output_type": "execute_result"
    }
   ],
   "source": [
    "type(data['forecast_date'])"
   ]
  },
  {
   "cell_type": "markdown",
   "metadata": {},
   "source": [
    "*Выведем названия столбцов*"
   ]
  },
  {
   "cell_type": "code",
   "execution_count": 289,
   "metadata": {
    "scrolled": false
   },
   "outputs": [
    {
     "name": "stdout",
     "output_type": "stream",
     "text": [
      "Index(['gender', 'forecast_date', 'playin_flag', 'rd1_win', 'rd2_win',\n",
      "       'rd3_win', 'rd4_win', 'rd5_win', 'rd6_win', 'rd7_win', 'team_alive',\n",
      "       'team_id', 'team_name', 'team_rating', 'team_region', 'team_seed'],\n",
      "      dtype='object')\n"
     ]
    }
   ],
   "source": [
    "print(data.columns)"
   ]
  },
  {
   "cell_type": "markdown",
   "metadata": {},
   "source": [
    "*Посмотрим общую информацию по текущему набору данных*"
   ]
  },
  {
   "cell_type": "code",
   "execution_count": 290,
   "metadata": {
    "scrolled": true
   },
   "outputs": [
    {
     "name": "stdout",
     "output_type": "stream",
     "text": [
      "<class 'pandas.core.frame.DataFrame'>\n",
      "RangeIndex: 132 entries, 0 to 131\n",
      "Data columns (total 16 columns):\n",
      "gender           132 non-null object\n",
      "forecast_date    132 non-null object\n",
      "playin_flag      132 non-null int64\n",
      "rd1_win          132 non-null float64\n",
      "rd2_win          132 non-null float64\n",
      "rd3_win          132 non-null float64\n",
      "rd4_win          132 non-null float64\n",
      "rd5_win          132 non-null float64\n",
      "rd6_win          132 non-null float64\n",
      "rd7_win          132 non-null float64\n",
      "team_alive       132 non-null int64\n",
      "team_id          132 non-null int64\n",
      "team_name        132 non-null object\n",
      "team_rating      132 non-null float64\n",
      "team_region      132 non-null object\n",
      "team_seed        132 non-null object\n",
      "dtypes: float64(8), int64(3), object(5)\n",
      "memory usage: 16.6+ KB\n"
     ]
    }
   ],
   "source": [
    "data.info()"
   ]
  },
  {
   "cell_type": "markdown",
   "metadata": {},
   "source": [
    "*Посмотрим **основные статистические характеристики** данных*"
   ]
  },
  {
   "cell_type": "markdown",
   "metadata": {},
   "source": [
    "*По количественным признакам:*"
   ]
  },
  {
   "cell_type": "code",
   "execution_count": 291,
   "metadata": {
    "scrolled": false
   },
   "outputs": [
    {
     "data": {
      "text/html": [
       "<div>\n",
       "<style>\n",
       "    .dataframe thead tr:only-child th {\n",
       "        text-align: right;\n",
       "    }\n",
       "\n",
       "    .dataframe thead th {\n",
       "        text-align: left;\n",
       "    }\n",
       "\n",
       "    .dataframe tbody tr th {\n",
       "        vertical-align: top;\n",
       "    }\n",
       "</style>\n",
       "<table border=\"1\" class=\"dataframe\">\n",
       "  <thead>\n",
       "    <tr style=\"text-align: right;\">\n",
       "      <th></th>\n",
       "      <th>playin_flag</th>\n",
       "      <th>rd1_win</th>\n",
       "      <th>rd2_win</th>\n",
       "      <th>rd3_win</th>\n",
       "      <th>rd4_win</th>\n",
       "      <th>rd5_win</th>\n",
       "      <th>rd6_win</th>\n",
       "      <th>rd7_win</th>\n",
       "      <th>team_alive</th>\n",
       "      <th>team_id</th>\n",
       "      <th>team_rating</th>\n",
       "    </tr>\n",
       "  </thead>\n",
       "  <tbody>\n",
       "    <tr>\n",
       "      <th>count</th>\n",
       "      <td>132.000000</td>\n",
       "      <td>132.000000</td>\n",
       "      <td>132.000000</td>\n",
       "      <td>132.000000</td>\n",
       "      <td>132.000000</td>\n",
       "      <td>1.320000e+02</td>\n",
       "      <td>1.320000e+02</td>\n",
       "      <td>1.320000e+02</td>\n",
       "      <td>132.0</td>\n",
       "      <td>132.000000</td>\n",
       "      <td>132.000000</td>\n",
       "    </tr>\n",
       "    <tr>\n",
       "      <th>mean</th>\n",
       "      <td>0.060606</td>\n",
       "      <td>0.969697</td>\n",
       "      <td>0.484848</td>\n",
       "      <td>0.242424</td>\n",
       "      <td>0.121212</td>\n",
       "      <td>6.060606e-02</td>\n",
       "      <td>3.030303e-02</td>\n",
       "      <td>1.515152e-02</td>\n",
       "      <td>1.0</td>\n",
       "      <td>1042.333333</td>\n",
       "      <td>82.711136</td>\n",
       "    </tr>\n",
       "    <tr>\n",
       "      <th>std</th>\n",
       "      <td>0.239515</td>\n",
       "      <td>0.121469</td>\n",
       "      <td>0.360678</td>\n",
       "      <td>0.312860</td>\n",
       "      <td>0.208193</td>\n",
       "      <td>1.407246e-01</td>\n",
       "      <td>8.277485e-02</td>\n",
       "      <td>5.473370e-02</td>\n",
       "      <td>0.0</td>\n",
       "      <td>1117.167046</td>\n",
       "      <td>8.510666</td>\n",
       "    </tr>\n",
       "    <tr>\n",
       "      <th>min</th>\n",
       "      <td>0.000000</td>\n",
       "      <td>0.370940</td>\n",
       "      <td>0.000546</td>\n",
       "      <td>0.000053</td>\n",
       "      <td>0.000002</td>\n",
       "      <td>3.767600e-08</td>\n",
       "      <td>2.070000e-10</td>\n",
       "      <td>3.000000e-12</td>\n",
       "      <td>1.0</td>\n",
       "      <td>2.000000</td>\n",
       "      <td>62.020000</td>\n",
       "    </tr>\n",
       "    <tr>\n",
       "      <th>25%</th>\n",
       "      <td>0.000000</td>\n",
       "      <td>1.000000</td>\n",
       "      <td>0.124163</td>\n",
       "      <td>0.013850</td>\n",
       "      <td>0.001795</td>\n",
       "      <td>1.623610e-04</td>\n",
       "      <td>1.274440e-05</td>\n",
       "      <td>1.385986e-06</td>\n",
       "      <td>1.0</td>\n",
       "      <td>129.250000</td>\n",
       "      <td>77.027500</td>\n",
       "    </tr>\n",
       "    <tr>\n",
       "      <th>50%</th>\n",
       "      <td>0.000000</td>\n",
       "      <td>1.000000</td>\n",
       "      <td>0.494096</td>\n",
       "      <td>0.066937</td>\n",
       "      <td>0.020628</td>\n",
       "      <td>4.199336e-03</td>\n",
       "      <td>7.675749e-04</td>\n",
       "      <td>1.958333e-04</td>\n",
       "      <td>1.0</td>\n",
       "      <td>262.500000</td>\n",
       "      <td>82.940000</td>\n",
       "    </tr>\n",
       "    <tr>\n",
       "      <th>75%</th>\n",
       "      <td>0.000000</td>\n",
       "      <td>1.000000</td>\n",
       "      <td>0.844837</td>\n",
       "      <td>0.446753</td>\n",
       "      <td>0.131486</td>\n",
       "      <td>5.409939e-02</td>\n",
       "      <td>1.937555e-02</td>\n",
       "      <td>6.877014e-03</td>\n",
       "      <td>1.0</td>\n",
       "      <td>2329.250000</td>\n",
       "      <td>88.062500</td>\n",
       "    </tr>\n",
       "    <tr>\n",
       "      <th>max</th>\n",
       "      <td>1.000000</td>\n",
       "      <td>1.000000</td>\n",
       "      <td>0.999454</td>\n",
       "      <td>0.983165</td>\n",
       "      <td>0.960642</td>\n",
       "      <td>8.983535e-01</td>\n",
       "      <td>6.305563e-01</td>\n",
       "      <td>5.236806e-01</td>\n",
       "      <td>1.0</td>\n",
       "      <td>2752.000000</td>\n",
       "      <td>111.430000</td>\n",
       "    </tr>\n",
       "  </tbody>\n",
       "</table>\n",
       "</div>"
      ],
      "text/plain": [
       "       playin_flag     rd1_win     rd2_win     rd3_win     rd4_win  \\\n",
       "count   132.000000  132.000000  132.000000  132.000000  132.000000   \n",
       "mean      0.060606    0.969697    0.484848    0.242424    0.121212   \n",
       "std       0.239515    0.121469    0.360678    0.312860    0.208193   \n",
       "min       0.000000    0.370940    0.000546    0.000053    0.000002   \n",
       "25%       0.000000    1.000000    0.124163    0.013850    0.001795   \n",
       "50%       0.000000    1.000000    0.494096    0.066937    0.020628   \n",
       "75%       0.000000    1.000000    0.844837    0.446753    0.131486   \n",
       "max       1.000000    1.000000    0.999454    0.983165    0.960642   \n",
       "\n",
       "            rd5_win       rd6_win       rd7_win  team_alive      team_id  \\\n",
       "count  1.320000e+02  1.320000e+02  1.320000e+02       132.0   132.000000   \n",
       "mean   6.060606e-02  3.030303e-02  1.515152e-02         1.0  1042.333333   \n",
       "std    1.407246e-01  8.277485e-02  5.473370e-02         0.0  1117.167046   \n",
       "min    3.767600e-08  2.070000e-10  3.000000e-12         1.0     2.000000   \n",
       "25%    1.623610e-04  1.274440e-05  1.385986e-06         1.0   129.250000   \n",
       "50%    4.199336e-03  7.675749e-04  1.958333e-04         1.0   262.500000   \n",
       "75%    5.409939e-02  1.937555e-02  6.877014e-03         1.0  2329.250000   \n",
       "max    8.983535e-01  6.305563e-01  5.236806e-01         1.0  2752.000000   \n",
       "\n",
       "       team_rating  \n",
       "count   132.000000  \n",
       "mean     82.711136  \n",
       "std       8.510666  \n",
       "min      62.020000  \n",
       "25%      77.027500  \n",
       "50%      82.940000  \n",
       "75%      88.062500  \n",
       "max     111.430000  "
      ]
     },
     "execution_count": 291,
     "metadata": {},
     "output_type": "execute_result"
    }
   ],
   "source": [
    "data.describe()"
   ]
  },
  {
   "cell_type": "markdown",
   "metadata": {},
   "source": [
    "*Также можно посмотреть информацию по всем признакам:*"
   ]
  },
  {
   "cell_type": "code",
   "execution_count": 292,
   "metadata": {},
   "outputs": [
    {
     "data": {
      "text/html": [
       "<div>\n",
       "<style>\n",
       "    .dataframe thead tr:only-child th {\n",
       "        text-align: right;\n",
       "    }\n",
       "\n",
       "    .dataframe thead th {\n",
       "        text-align: left;\n",
       "    }\n",
       "\n",
       "    .dataframe tbody tr th {\n",
       "        vertical-align: top;\n",
       "    }\n",
       "</style>\n",
       "<table border=\"1\" class=\"dataframe\">\n",
       "  <thead>\n",
       "    <tr style=\"text-align: right;\">\n",
       "      <th></th>\n",
       "      <th>gender</th>\n",
       "      <th>forecast_date</th>\n",
       "      <th>playin_flag</th>\n",
       "      <th>rd1_win</th>\n",
       "      <th>rd2_win</th>\n",
       "      <th>rd3_win</th>\n",
       "      <th>rd4_win</th>\n",
       "      <th>rd5_win</th>\n",
       "      <th>rd6_win</th>\n",
       "      <th>rd7_win</th>\n",
       "      <th>team_alive</th>\n",
       "      <th>team_id</th>\n",
       "      <th>team_name</th>\n",
       "      <th>team_rating</th>\n",
       "      <th>team_region</th>\n",
       "      <th>team_seed</th>\n",
       "    </tr>\n",
       "  </thead>\n",
       "  <tbody>\n",
       "    <tr>\n",
       "      <th>count</th>\n",
       "      <td>132</td>\n",
       "      <td>132</td>\n",
       "      <td>132.000000</td>\n",
       "      <td>132.000000</td>\n",
       "      <td>132.000000</td>\n",
       "      <td>132.000000</td>\n",
       "      <td>132.000000</td>\n",
       "      <td>1.320000e+02</td>\n",
       "      <td>1.320000e+02</td>\n",
       "      <td>1.320000e+02</td>\n",
       "      <td>132.0</td>\n",
       "      <td>132.000000</td>\n",
       "      <td>132</td>\n",
       "      <td>132.000000</td>\n",
       "      <td>132</td>\n",
       "      <td>132</td>\n",
       "    </tr>\n",
       "    <tr>\n",
       "      <th>unique</th>\n",
       "      <td>2</td>\n",
       "      <td>1</td>\n",
       "      <td>NaN</td>\n",
       "      <td>NaN</td>\n",
       "      <td>NaN</td>\n",
       "      <td>NaN</td>\n",
       "      <td>NaN</td>\n",
       "      <td>NaN</td>\n",
       "      <td>NaN</td>\n",
       "      <td>NaN</td>\n",
       "      <td>NaN</td>\n",
       "      <td>NaN</td>\n",
       "      <td>107</td>\n",
       "      <td>NaN</td>\n",
       "      <td>8</td>\n",
       "      <td>20</td>\n",
       "    </tr>\n",
       "    <tr>\n",
       "      <th>top</th>\n",
       "      <td>mens</td>\n",
       "      <td>2017-03-12</td>\n",
       "      <td>NaN</td>\n",
       "      <td>NaN</td>\n",
       "      <td>NaN</td>\n",
       "      <td>NaN</td>\n",
       "      <td>NaN</td>\n",
       "      <td>NaN</td>\n",
       "      <td>NaN</td>\n",
       "      <td>NaN</td>\n",
       "      <td>NaN</td>\n",
       "      <td>NaN</td>\n",
       "      <td>Miami (FL)</td>\n",
       "      <td>NaN</td>\n",
       "      <td>East</td>\n",
       "      <td>2</td>\n",
       "    </tr>\n",
       "    <tr>\n",
       "      <th>freq</th>\n",
       "      <td>68</td>\n",
       "      <td>132</td>\n",
       "      <td>NaN</td>\n",
       "      <td>NaN</td>\n",
       "      <td>NaN</td>\n",
       "      <td>NaN</td>\n",
       "      <td>NaN</td>\n",
       "      <td>NaN</td>\n",
       "      <td>NaN</td>\n",
       "      <td>NaN</td>\n",
       "      <td>NaN</td>\n",
       "      <td>NaN</td>\n",
       "      <td>2</td>\n",
       "      <td>NaN</td>\n",
       "      <td>18</td>\n",
       "      <td>8</td>\n",
       "    </tr>\n",
       "    <tr>\n",
       "      <th>mean</th>\n",
       "      <td>NaN</td>\n",
       "      <td>NaN</td>\n",
       "      <td>0.060606</td>\n",
       "      <td>0.969697</td>\n",
       "      <td>0.484848</td>\n",
       "      <td>0.242424</td>\n",
       "      <td>0.121212</td>\n",
       "      <td>6.060606e-02</td>\n",
       "      <td>3.030303e-02</td>\n",
       "      <td>1.515152e-02</td>\n",
       "      <td>1.0</td>\n",
       "      <td>1042.333333</td>\n",
       "      <td>NaN</td>\n",
       "      <td>82.711136</td>\n",
       "      <td>NaN</td>\n",
       "      <td>NaN</td>\n",
       "    </tr>\n",
       "    <tr>\n",
       "      <th>std</th>\n",
       "      <td>NaN</td>\n",
       "      <td>NaN</td>\n",
       "      <td>0.239515</td>\n",
       "      <td>0.121469</td>\n",
       "      <td>0.360678</td>\n",
       "      <td>0.312860</td>\n",
       "      <td>0.208193</td>\n",
       "      <td>1.407246e-01</td>\n",
       "      <td>8.277485e-02</td>\n",
       "      <td>5.473370e-02</td>\n",
       "      <td>0.0</td>\n",
       "      <td>1117.167046</td>\n",
       "      <td>NaN</td>\n",
       "      <td>8.510666</td>\n",
       "      <td>NaN</td>\n",
       "      <td>NaN</td>\n",
       "    </tr>\n",
       "    <tr>\n",
       "      <th>min</th>\n",
       "      <td>NaN</td>\n",
       "      <td>NaN</td>\n",
       "      <td>0.000000</td>\n",
       "      <td>0.370940</td>\n",
       "      <td>0.000546</td>\n",
       "      <td>0.000053</td>\n",
       "      <td>0.000002</td>\n",
       "      <td>3.767600e-08</td>\n",
       "      <td>2.070000e-10</td>\n",
       "      <td>3.000000e-12</td>\n",
       "      <td>1.0</td>\n",
       "      <td>2.000000</td>\n",
       "      <td>NaN</td>\n",
       "      <td>62.020000</td>\n",
       "      <td>NaN</td>\n",
       "      <td>NaN</td>\n",
       "    </tr>\n",
       "    <tr>\n",
       "      <th>25%</th>\n",
       "      <td>NaN</td>\n",
       "      <td>NaN</td>\n",
       "      <td>0.000000</td>\n",
       "      <td>1.000000</td>\n",
       "      <td>0.124163</td>\n",
       "      <td>0.013850</td>\n",
       "      <td>0.001795</td>\n",
       "      <td>1.623610e-04</td>\n",
       "      <td>1.274440e-05</td>\n",
       "      <td>1.385986e-06</td>\n",
       "      <td>1.0</td>\n",
       "      <td>129.250000</td>\n",
       "      <td>NaN</td>\n",
       "      <td>77.027500</td>\n",
       "      <td>NaN</td>\n",
       "      <td>NaN</td>\n",
       "    </tr>\n",
       "    <tr>\n",
       "      <th>50%</th>\n",
       "      <td>NaN</td>\n",
       "      <td>NaN</td>\n",
       "      <td>0.000000</td>\n",
       "      <td>1.000000</td>\n",
       "      <td>0.494096</td>\n",
       "      <td>0.066937</td>\n",
       "      <td>0.020628</td>\n",
       "      <td>4.199336e-03</td>\n",
       "      <td>7.675749e-04</td>\n",
       "      <td>1.958333e-04</td>\n",
       "      <td>1.0</td>\n",
       "      <td>262.500000</td>\n",
       "      <td>NaN</td>\n",
       "      <td>82.940000</td>\n",
       "      <td>NaN</td>\n",
       "      <td>NaN</td>\n",
       "    </tr>\n",
       "    <tr>\n",
       "      <th>75%</th>\n",
       "      <td>NaN</td>\n",
       "      <td>NaN</td>\n",
       "      <td>0.000000</td>\n",
       "      <td>1.000000</td>\n",
       "      <td>0.844837</td>\n",
       "      <td>0.446753</td>\n",
       "      <td>0.131486</td>\n",
       "      <td>5.409939e-02</td>\n",
       "      <td>1.937555e-02</td>\n",
       "      <td>6.877014e-03</td>\n",
       "      <td>1.0</td>\n",
       "      <td>2329.250000</td>\n",
       "      <td>NaN</td>\n",
       "      <td>88.062500</td>\n",
       "      <td>NaN</td>\n",
       "      <td>NaN</td>\n",
       "    </tr>\n",
       "    <tr>\n",
       "      <th>max</th>\n",
       "      <td>NaN</td>\n",
       "      <td>NaN</td>\n",
       "      <td>1.000000</td>\n",
       "      <td>1.000000</td>\n",
       "      <td>0.999454</td>\n",
       "      <td>0.983165</td>\n",
       "      <td>0.960642</td>\n",
       "      <td>8.983535e-01</td>\n",
       "      <td>6.305563e-01</td>\n",
       "      <td>5.236806e-01</td>\n",
       "      <td>1.0</td>\n",
       "      <td>2752.000000</td>\n",
       "      <td>NaN</td>\n",
       "      <td>111.430000</td>\n",
       "      <td>NaN</td>\n",
       "      <td>NaN</td>\n",
       "    </tr>\n",
       "  </tbody>\n",
       "</table>\n",
       "</div>"
      ],
      "text/plain": [
       "       gender forecast_date  playin_flag     rd1_win     rd2_win     rd3_win  \\\n",
       "count     132           132   132.000000  132.000000  132.000000  132.000000   \n",
       "unique      2             1          NaN         NaN         NaN         NaN   \n",
       "top      mens    2017-03-12          NaN         NaN         NaN         NaN   \n",
       "freq       68           132          NaN         NaN         NaN         NaN   \n",
       "mean      NaN           NaN     0.060606    0.969697    0.484848    0.242424   \n",
       "std       NaN           NaN     0.239515    0.121469    0.360678    0.312860   \n",
       "min       NaN           NaN     0.000000    0.370940    0.000546    0.000053   \n",
       "25%       NaN           NaN     0.000000    1.000000    0.124163    0.013850   \n",
       "50%       NaN           NaN     0.000000    1.000000    0.494096    0.066937   \n",
       "75%       NaN           NaN     0.000000    1.000000    0.844837    0.446753   \n",
       "max       NaN           NaN     1.000000    1.000000    0.999454    0.983165   \n",
       "\n",
       "           rd4_win       rd5_win       rd6_win       rd7_win  team_alive  \\\n",
       "count   132.000000  1.320000e+02  1.320000e+02  1.320000e+02       132.0   \n",
       "unique         NaN           NaN           NaN           NaN         NaN   \n",
       "top            NaN           NaN           NaN           NaN         NaN   \n",
       "freq           NaN           NaN           NaN           NaN         NaN   \n",
       "mean      0.121212  6.060606e-02  3.030303e-02  1.515152e-02         1.0   \n",
       "std       0.208193  1.407246e-01  8.277485e-02  5.473370e-02         0.0   \n",
       "min       0.000002  3.767600e-08  2.070000e-10  3.000000e-12         1.0   \n",
       "25%       0.001795  1.623610e-04  1.274440e-05  1.385986e-06         1.0   \n",
       "50%       0.020628  4.199336e-03  7.675749e-04  1.958333e-04         1.0   \n",
       "75%       0.131486  5.409939e-02  1.937555e-02  6.877014e-03         1.0   \n",
       "max       0.960642  8.983535e-01  6.305563e-01  5.236806e-01         1.0   \n",
       "\n",
       "            team_id   team_name  team_rating team_region team_seed  \n",
       "count    132.000000         132   132.000000         132       132  \n",
       "unique          NaN         107          NaN           8        20  \n",
       "top             NaN  Miami (FL)          NaN        East         2  \n",
       "freq            NaN           2          NaN          18         8  \n",
       "mean    1042.333333         NaN    82.711136         NaN       NaN  \n",
       "std     1117.167046         NaN     8.510666         NaN       NaN  \n",
       "min        2.000000         NaN    62.020000         NaN       NaN  \n",
       "25%      129.250000         NaN    77.027500         NaN       NaN  \n",
       "50%      262.500000         NaN    82.940000         NaN       NaN  \n",
       "75%     2329.250000         NaN    88.062500         NaN       NaN  \n",
       "max     2752.000000         NaN   111.430000         NaN       NaN  "
      ]
     },
     "execution_count": 292,
     "metadata": {},
     "output_type": "execute_result"
    }
   ],
   "source": [
    "data.describe(include = 'all')"
   ]
  },
  {
   "cell_type": "markdown",
   "metadata": {},
   "source": [
    "*Вычислим корелляцию между признаками*"
   ]
  },
  {
   "cell_type": "code",
   "execution_count": 293,
   "metadata": {},
   "outputs": [
    {
     "data": {
      "text/html": [
       "<div>\n",
       "<style>\n",
       "    .dataframe thead tr:only-child th {\n",
       "        text-align: right;\n",
       "    }\n",
       "\n",
       "    .dataframe thead th {\n",
       "        text-align: left;\n",
       "    }\n",
       "\n",
       "    .dataframe tbody tr th {\n",
       "        vertical-align: top;\n",
       "    }\n",
       "</style>\n",
       "<table border=\"1\" class=\"dataframe\">\n",
       "  <thead>\n",
       "    <tr style=\"text-align: right;\">\n",
       "      <th></th>\n",
       "      <th>playin_flag</th>\n",
       "      <th>rd1_win</th>\n",
       "      <th>rd2_win</th>\n",
       "      <th>rd3_win</th>\n",
       "      <th>rd4_win</th>\n",
       "      <th>rd5_win</th>\n",
       "      <th>rd6_win</th>\n",
       "      <th>rd7_win</th>\n",
       "      <th>team_alive</th>\n",
       "      <th>team_id</th>\n",
       "      <th>team_rating</th>\n",
       "    </tr>\n",
       "  </thead>\n",
       "  <tbody>\n",
       "    <tr>\n",
       "      <th>playin_flag</th>\n",
       "      <td>1.000000</td>\n",
       "      <td>-0.985912</td>\n",
       "      <td>-0.288391</td>\n",
       "      <td>-0.177888</td>\n",
       "      <td>-0.139768</td>\n",
       "      <td>-0.105203</td>\n",
       "      <td>-0.090460</td>\n",
       "      <td>-0.069086</td>\n",
       "      <td>NaN</td>\n",
       "      <td>0.055554</td>\n",
       "      <td>-0.197424</td>\n",
       "    </tr>\n",
       "    <tr>\n",
       "      <th>rd1_win</th>\n",
       "      <td>-0.985912</td>\n",
       "      <td>1.000000</td>\n",
       "      <td>0.285014</td>\n",
       "      <td>0.175581</td>\n",
       "      <td>0.137888</td>\n",
       "      <td>0.103751</td>\n",
       "      <td>0.089184</td>\n",
       "      <td>0.068103</td>\n",
       "      <td>NaN</td>\n",
       "      <td>-0.038008</td>\n",
       "      <td>0.196236</td>\n",
       "    </tr>\n",
       "    <tr>\n",
       "      <th>rd2_win</th>\n",
       "      <td>-0.288391</td>\n",
       "      <td>0.285014</td>\n",
       "      <td>1.000000</td>\n",
       "      <td>0.845876</td>\n",
       "      <td>0.702762</td>\n",
       "      <td>0.546308</td>\n",
       "      <td>0.476839</td>\n",
       "      <td>0.367600</td>\n",
       "      <td>NaN</td>\n",
       "      <td>-0.272546</td>\n",
       "      <td>0.904614</td>\n",
       "    </tr>\n",
       "    <tr>\n",
       "      <th>rd3_win</th>\n",
       "      <td>-0.177888</td>\n",
       "      <td>0.175581</td>\n",
       "      <td>0.845876</td>\n",
       "      <td>1.000000</td>\n",
       "      <td>0.891138</td>\n",
       "      <td>0.728863</td>\n",
       "      <td>0.649749</td>\n",
       "      <td>0.513578</td>\n",
       "      <td>NaN</td>\n",
       "      <td>-0.212338</td>\n",
       "      <td>0.819020</td>\n",
       "    </tr>\n",
       "    <tr>\n",
       "      <th>rd4_win</th>\n",
       "      <td>-0.139768</td>\n",
       "      <td>0.137888</td>\n",
       "      <td>0.702762</td>\n",
       "      <td>0.891138</td>\n",
       "      <td>1.000000</td>\n",
       "      <td>0.911961</td>\n",
       "      <td>0.852273</td>\n",
       "      <td>0.716313</td>\n",
       "      <td>NaN</td>\n",
       "      <td>-0.175930</td>\n",
       "      <td>0.771407</td>\n",
       "    </tr>\n",
       "    <tr>\n",
       "      <th>rd5_win</th>\n",
       "      <td>-0.105203</td>\n",
       "      <td>0.103751</td>\n",
       "      <td>0.546308</td>\n",
       "      <td>0.728863</td>\n",
       "      <td>0.911961</td>\n",
       "      <td>1.000000</td>\n",
       "      <td>0.978445</td>\n",
       "      <td>0.884283</td>\n",
       "      <td>NaN</td>\n",
       "      <td>-0.118244</td>\n",
       "      <td>0.679152</td>\n",
       "    </tr>\n",
       "    <tr>\n",
       "      <th>rd6_win</th>\n",
       "      <td>-0.090460</td>\n",
       "      <td>0.089184</td>\n",
       "      <td>0.476839</td>\n",
       "      <td>0.649749</td>\n",
       "      <td>0.852273</td>\n",
       "      <td>0.978445</td>\n",
       "      <td>1.000000</td>\n",
       "      <td>0.924946</td>\n",
       "      <td>NaN</td>\n",
       "      <td>-0.102673</td>\n",
       "      <td>0.626201</td>\n",
       "    </tr>\n",
       "    <tr>\n",
       "      <th>rd7_win</th>\n",
       "      <td>-0.069086</td>\n",
       "      <td>0.068103</td>\n",
       "      <td>0.367600</td>\n",
       "      <td>0.513578</td>\n",
       "      <td>0.716313</td>\n",
       "      <td>0.884283</td>\n",
       "      <td>0.924946</td>\n",
       "      <td>1.000000</td>\n",
       "      <td>NaN</td>\n",
       "      <td>-0.105459</td>\n",
       "      <td>0.536060</td>\n",
       "    </tr>\n",
       "    <tr>\n",
       "      <th>team_alive</th>\n",
       "      <td>NaN</td>\n",
       "      <td>NaN</td>\n",
       "      <td>NaN</td>\n",
       "      <td>NaN</td>\n",
       "      <td>NaN</td>\n",
       "      <td>NaN</td>\n",
       "      <td>NaN</td>\n",
       "      <td>NaN</td>\n",
       "      <td>NaN</td>\n",
       "      <td>NaN</td>\n",
       "      <td>NaN</td>\n",
       "    </tr>\n",
       "    <tr>\n",
       "      <th>team_id</th>\n",
       "      <td>0.055554</td>\n",
       "      <td>-0.038008</td>\n",
       "      <td>-0.272546</td>\n",
       "      <td>-0.212338</td>\n",
       "      <td>-0.175930</td>\n",
       "      <td>-0.118244</td>\n",
       "      <td>-0.102673</td>\n",
       "      <td>-0.105459</td>\n",
       "      <td>NaN</td>\n",
       "      <td>1.000000</td>\n",
       "      <td>-0.299940</td>\n",
       "    </tr>\n",
       "    <tr>\n",
       "      <th>team_rating</th>\n",
       "      <td>-0.197424</td>\n",
       "      <td>0.196236</td>\n",
       "      <td>0.904614</td>\n",
       "      <td>0.819020</td>\n",
       "      <td>0.771407</td>\n",
       "      <td>0.679152</td>\n",
       "      <td>0.626201</td>\n",
       "      <td>0.536060</td>\n",
       "      <td>NaN</td>\n",
       "      <td>-0.299940</td>\n",
       "      <td>1.000000</td>\n",
       "    </tr>\n",
       "  </tbody>\n",
       "</table>\n",
       "</div>"
      ],
      "text/plain": [
       "             playin_flag   rd1_win   rd2_win   rd3_win   rd4_win   rd5_win  \\\n",
       "playin_flag     1.000000 -0.985912 -0.288391 -0.177888 -0.139768 -0.105203   \n",
       "rd1_win        -0.985912  1.000000  0.285014  0.175581  0.137888  0.103751   \n",
       "rd2_win        -0.288391  0.285014  1.000000  0.845876  0.702762  0.546308   \n",
       "rd3_win        -0.177888  0.175581  0.845876  1.000000  0.891138  0.728863   \n",
       "rd4_win        -0.139768  0.137888  0.702762  0.891138  1.000000  0.911961   \n",
       "rd5_win        -0.105203  0.103751  0.546308  0.728863  0.911961  1.000000   \n",
       "rd6_win        -0.090460  0.089184  0.476839  0.649749  0.852273  0.978445   \n",
       "rd7_win        -0.069086  0.068103  0.367600  0.513578  0.716313  0.884283   \n",
       "team_alive           NaN       NaN       NaN       NaN       NaN       NaN   \n",
       "team_id         0.055554 -0.038008 -0.272546 -0.212338 -0.175930 -0.118244   \n",
       "team_rating    -0.197424  0.196236  0.904614  0.819020  0.771407  0.679152   \n",
       "\n",
       "              rd6_win   rd7_win  team_alive   team_id  team_rating  \n",
       "playin_flag -0.090460 -0.069086         NaN  0.055554    -0.197424  \n",
       "rd1_win      0.089184  0.068103         NaN -0.038008     0.196236  \n",
       "rd2_win      0.476839  0.367600         NaN -0.272546     0.904614  \n",
       "rd3_win      0.649749  0.513578         NaN -0.212338     0.819020  \n",
       "rd4_win      0.852273  0.716313         NaN -0.175930     0.771407  \n",
       "rd5_win      0.978445  0.884283         NaN -0.118244     0.679152  \n",
       "rd6_win      1.000000  0.924946         NaN -0.102673     0.626201  \n",
       "rd7_win      0.924946  1.000000         NaN -0.105459     0.536060  \n",
       "team_alive        NaN       NaN         NaN       NaN          NaN  \n",
       "team_id     -0.102673 -0.105459         NaN  1.000000    -0.299940  \n",
       "team_rating  0.626201  0.536060         NaN -0.299940     1.000000  "
      ]
     },
     "execution_count": 293,
     "metadata": {},
     "output_type": "execute_result"
    }
   ],
   "source": [
    "data.corr()"
   ]
  },
  {
   "cell_type": "markdown",
   "metadata": {},
   "source": [
    "*Сильная корелляция между рейтингом команды и вероятностью победы команды в раунде, что является очевидным, в случае, если рейтинг составлен корректно.*"
   ]
  },
  {
   "cell_type": "markdown",
   "metadata": {},
   "source": [
    "*Посмотрим корелляцию отдельно для **мужчин***"
   ]
  },
  {
   "cell_type": "code",
   "execution_count": 352,
   "metadata": {},
   "outputs": [
    {
     "data": {
      "text/html": [
       "<div>\n",
       "<style>\n",
       "    .dataframe thead tr:only-child th {\n",
       "        text-align: right;\n",
       "    }\n",
       "\n",
       "    .dataframe thead th {\n",
       "        text-align: left;\n",
       "    }\n",
       "\n",
       "    .dataframe tbody tr th {\n",
       "        vertical-align: top;\n",
       "    }\n",
       "</style>\n",
       "<table border=\"1\" class=\"dataframe\">\n",
       "  <thead>\n",
       "    <tr style=\"text-align: right;\">\n",
       "      <th></th>\n",
       "      <th>playin_flag</th>\n",
       "      <th>rd1_win</th>\n",
       "      <th>rd2_win</th>\n",
       "      <th>rd3_win</th>\n",
       "      <th>rd4_win</th>\n",
       "      <th>rd5_win</th>\n",
       "      <th>rd6_win</th>\n",
       "      <th>rd7_win</th>\n",
       "      <th>team_alive</th>\n",
       "      <th>team_id</th>\n",
       "      <th>team_rating</th>\n",
       "    </tr>\n",
       "  </thead>\n",
       "  <tbody>\n",
       "    <tr>\n",
       "      <th>playin_flag</th>\n",
       "      <td>1.000000</td>\n",
       "      <td>-0.985021</td>\n",
       "      <td>-0.415076</td>\n",
       "      <td>-0.294445</td>\n",
       "      <td>-0.243064</td>\n",
       "      <td>-0.206465</td>\n",
       "      <td>-0.188149</td>\n",
       "      <td>-0.171937</td>\n",
       "      <td>NaN</td>\n",
       "      <td>0.058191</td>\n",
       "      <td>-0.364397</td>\n",
       "    </tr>\n",
       "    <tr>\n",
       "      <th>rd1_win</th>\n",
       "      <td>-0.985021</td>\n",
       "      <td>1.000000</td>\n",
       "      <td>0.409881</td>\n",
       "      <td>0.290375</td>\n",
       "      <td>0.239583</td>\n",
       "      <td>0.203433</td>\n",
       "      <td>0.185326</td>\n",
       "      <td>0.169338</td>\n",
       "      <td>NaN</td>\n",
       "      <td>-0.033632</td>\n",
       "      <td>0.361905</td>\n",
       "    </tr>\n",
       "    <tr>\n",
       "      <th>rd2_win</th>\n",
       "      <td>-0.415076</td>\n",
       "      <td>0.409881</td>\n",
       "      <td>1.000000</td>\n",
       "      <td>0.909661</td>\n",
       "      <td>0.805008</td>\n",
       "      <td>0.719762</td>\n",
       "      <td>0.674959</td>\n",
       "      <td>0.628842</td>\n",
       "      <td>NaN</td>\n",
       "      <td>-0.157701</td>\n",
       "      <td>0.923675</td>\n",
       "    </tr>\n",
       "    <tr>\n",
       "      <th>rd3_win</th>\n",
       "      <td>-0.294445</td>\n",
       "      <td>0.290375</td>\n",
       "      <td>0.909661</td>\n",
       "      <td>1.000000</td>\n",
       "      <td>0.938522</td>\n",
       "      <td>0.877181</td>\n",
       "      <td>0.842830</td>\n",
       "      <td>0.802547</td>\n",
       "      <td>NaN</td>\n",
       "      <td>-0.122286</td>\n",
       "      <td>0.828673</td>\n",
       "    </tr>\n",
       "    <tr>\n",
       "      <th>rd4_win</th>\n",
       "      <td>-0.243064</td>\n",
       "      <td>0.239583</td>\n",
       "      <td>0.805008</td>\n",
       "      <td>0.938522</td>\n",
       "      <td>1.000000</td>\n",
       "      <td>0.971866</td>\n",
       "      <td>0.952159</td>\n",
       "      <td>0.920777</td>\n",
       "      <td>NaN</td>\n",
       "      <td>-0.106879</td>\n",
       "      <td>0.767146</td>\n",
       "    </tr>\n",
       "    <tr>\n",
       "      <th>rd5_win</th>\n",
       "      <td>-0.206465</td>\n",
       "      <td>0.203433</td>\n",
       "      <td>0.719762</td>\n",
       "      <td>0.877181</td>\n",
       "      <td>0.971866</td>\n",
       "      <td>1.000000</td>\n",
       "      <td>0.995900</td>\n",
       "      <td>0.978874</td>\n",
       "      <td>NaN</td>\n",
       "      <td>-0.074391</td>\n",
       "      <td>0.711128</td>\n",
       "    </tr>\n",
       "    <tr>\n",
       "      <th>rd6_win</th>\n",
       "      <td>-0.188149</td>\n",
       "      <td>0.185326</td>\n",
       "      <td>0.674959</td>\n",
       "      <td>0.842830</td>\n",
       "      <td>0.952159</td>\n",
       "      <td>0.995900</td>\n",
       "      <td>1.000000</td>\n",
       "      <td>0.990228</td>\n",
       "      <td>NaN</td>\n",
       "      <td>-0.071712</td>\n",
       "      <td>0.676316</td>\n",
       "    </tr>\n",
       "    <tr>\n",
       "      <th>rd7_win</th>\n",
       "      <td>-0.171937</td>\n",
       "      <td>0.169338</td>\n",
       "      <td>0.628842</td>\n",
       "      <td>0.802547</td>\n",
       "      <td>0.920777</td>\n",
       "      <td>0.978874</td>\n",
       "      <td>0.990228</td>\n",
       "      <td>1.000000</td>\n",
       "      <td>NaN</td>\n",
       "      <td>-0.068582</td>\n",
       "      <td>0.641622</td>\n",
       "    </tr>\n",
       "    <tr>\n",
       "      <th>team_alive</th>\n",
       "      <td>NaN</td>\n",
       "      <td>NaN</td>\n",
       "      <td>NaN</td>\n",
       "      <td>NaN</td>\n",
       "      <td>NaN</td>\n",
       "      <td>NaN</td>\n",
       "      <td>NaN</td>\n",
       "      <td>NaN</td>\n",
       "      <td>NaN</td>\n",
       "      <td>NaN</td>\n",
       "      <td>NaN</td>\n",
       "    </tr>\n",
       "    <tr>\n",
       "      <th>team_id</th>\n",
       "      <td>0.058191</td>\n",
       "      <td>-0.033632</td>\n",
       "      <td>-0.157701</td>\n",
       "      <td>-0.122286</td>\n",
       "      <td>-0.106879</td>\n",
       "      <td>-0.074391</td>\n",
       "      <td>-0.071712</td>\n",
       "      <td>-0.068582</td>\n",
       "      <td>NaN</td>\n",
       "      <td>1.000000</td>\n",
       "      <td>-0.136316</td>\n",
       "    </tr>\n",
       "    <tr>\n",
       "      <th>team_rating</th>\n",
       "      <td>-0.364397</td>\n",
       "      <td>0.361905</td>\n",
       "      <td>0.923675</td>\n",
       "      <td>0.828673</td>\n",
       "      <td>0.767146</td>\n",
       "      <td>0.711128</td>\n",
       "      <td>0.676316</td>\n",
       "      <td>0.641622</td>\n",
       "      <td>NaN</td>\n",
       "      <td>-0.136316</td>\n",
       "      <td>1.000000</td>\n",
       "    </tr>\n",
       "  </tbody>\n",
       "</table>\n",
       "</div>"
      ],
      "text/plain": [
       "             playin_flag   rd1_win   rd2_win   rd3_win   rd4_win   rd5_win  \\\n",
       "playin_flag     1.000000 -0.985021 -0.415076 -0.294445 -0.243064 -0.206465   \n",
       "rd1_win        -0.985021  1.000000  0.409881  0.290375  0.239583  0.203433   \n",
       "rd2_win        -0.415076  0.409881  1.000000  0.909661  0.805008  0.719762   \n",
       "rd3_win        -0.294445  0.290375  0.909661  1.000000  0.938522  0.877181   \n",
       "rd4_win        -0.243064  0.239583  0.805008  0.938522  1.000000  0.971866   \n",
       "rd5_win        -0.206465  0.203433  0.719762  0.877181  0.971866  1.000000   \n",
       "rd6_win        -0.188149  0.185326  0.674959  0.842830  0.952159  0.995900   \n",
       "rd7_win        -0.171937  0.169338  0.628842  0.802547  0.920777  0.978874   \n",
       "team_alive           NaN       NaN       NaN       NaN       NaN       NaN   \n",
       "team_id         0.058191 -0.033632 -0.157701 -0.122286 -0.106879 -0.074391   \n",
       "team_rating    -0.364397  0.361905  0.923675  0.828673  0.767146  0.711128   \n",
       "\n",
       "              rd6_win   rd7_win  team_alive   team_id  team_rating  \n",
       "playin_flag -0.188149 -0.171937         NaN  0.058191    -0.364397  \n",
       "rd1_win      0.185326  0.169338         NaN -0.033632     0.361905  \n",
       "rd2_win      0.674959  0.628842         NaN -0.157701     0.923675  \n",
       "rd3_win      0.842830  0.802547         NaN -0.122286     0.828673  \n",
       "rd4_win      0.952159  0.920777         NaN -0.106879     0.767146  \n",
       "rd5_win      0.995900  0.978874         NaN -0.074391     0.711128  \n",
       "rd6_win      1.000000  0.990228         NaN -0.071712     0.676316  \n",
       "rd7_win      0.990228  1.000000         NaN -0.068582     0.641622  \n",
       "team_alive        NaN       NaN         NaN       NaN          NaN  \n",
       "team_id     -0.071712 -0.068582         NaN  1.000000    -0.136316  \n",
       "team_rating  0.676316  0.641622         NaN -0.136316     1.000000  "
      ]
     },
     "execution_count": 352,
     "metadata": {},
     "output_type": "execute_result"
    }
   ],
   "source": [
    "data[data[\"gender\"] == 'mens'].corr()"
   ]
  },
  {
   "cell_type": "markdown",
   "metadata": {},
   "source": [
    "*Отдельно для **женщин***"
   ]
  },
  {
   "cell_type": "code",
   "execution_count": 295,
   "metadata": {},
   "outputs": [
    {
     "data": {
      "text/html": [
       "<div>\n",
       "<style>\n",
       "    .dataframe thead tr:only-child th {\n",
       "        text-align: right;\n",
       "    }\n",
       "\n",
       "    .dataframe thead th {\n",
       "        text-align: left;\n",
       "    }\n",
       "\n",
       "    .dataframe tbody tr th {\n",
       "        vertical-align: top;\n",
       "    }\n",
       "</style>\n",
       "<table border=\"1\" class=\"dataframe\">\n",
       "  <thead>\n",
       "    <tr style=\"text-align: right;\">\n",
       "      <th></th>\n",
       "      <th>playin_flag</th>\n",
       "      <th>rd1_win</th>\n",
       "      <th>rd2_win</th>\n",
       "      <th>rd3_win</th>\n",
       "      <th>rd4_win</th>\n",
       "      <th>rd5_win</th>\n",
       "      <th>rd6_win</th>\n",
       "      <th>rd7_win</th>\n",
       "      <th>team_alive</th>\n",
       "      <th>team_id</th>\n",
       "      <th>team_rating</th>\n",
       "    </tr>\n",
       "  </thead>\n",
       "  <tbody>\n",
       "    <tr>\n",
       "      <th>playin_flag</th>\n",
       "      <td>NaN</td>\n",
       "      <td>NaN</td>\n",
       "      <td>NaN</td>\n",
       "      <td>NaN</td>\n",
       "      <td>NaN</td>\n",
       "      <td>NaN</td>\n",
       "      <td>NaN</td>\n",
       "      <td>NaN</td>\n",
       "      <td>NaN</td>\n",
       "      <td>NaN</td>\n",
       "      <td>NaN</td>\n",
       "    </tr>\n",
       "    <tr>\n",
       "      <th>rd1_win</th>\n",
       "      <td>NaN</td>\n",
       "      <td>NaN</td>\n",
       "      <td>NaN</td>\n",
       "      <td>NaN</td>\n",
       "      <td>NaN</td>\n",
       "      <td>NaN</td>\n",
       "      <td>NaN</td>\n",
       "      <td>NaN</td>\n",
       "      <td>NaN</td>\n",
       "      <td>NaN</td>\n",
       "      <td>NaN</td>\n",
       "    </tr>\n",
       "    <tr>\n",
       "      <th>rd2_win</th>\n",
       "      <td>NaN</td>\n",
       "      <td>NaN</td>\n",
       "      <td>1.000000</td>\n",
       "      <td>0.809658</td>\n",
       "      <td>0.647571</td>\n",
       "      <td>0.470833</td>\n",
       "      <td>0.398380</td>\n",
       "      <td>0.291365</td>\n",
       "      <td>NaN</td>\n",
       "      <td>-0.387923</td>\n",
       "      <td>0.917009</td>\n",
       "    </tr>\n",
       "    <tr>\n",
       "      <th>rd3_win</th>\n",
       "      <td>NaN</td>\n",
       "      <td>NaN</td>\n",
       "      <td>0.809658</td>\n",
       "      <td>1.000000</td>\n",
       "      <td>0.866754</td>\n",
       "      <td>0.669094</td>\n",
       "      <td>0.579401</td>\n",
       "      <td>0.436646</td>\n",
       "      <td>NaN</td>\n",
       "      <td>-0.289247</td>\n",
       "      <td>0.816536</td>\n",
       "    </tr>\n",
       "    <tr>\n",
       "      <th>rd4_win</th>\n",
       "      <td>NaN</td>\n",
       "      <td>NaN</td>\n",
       "      <td>0.647571</td>\n",
       "      <td>0.866754</td>\n",
       "      <td>1.000000</td>\n",
       "      <td>0.890920</td>\n",
       "      <td>0.821008</td>\n",
       "      <td>0.671994</td>\n",
       "      <td>NaN</td>\n",
       "      <td>-0.233332</td>\n",
       "      <td>0.773782</td>\n",
       "    </tr>\n",
       "    <tr>\n",
       "      <th>rd5_win</th>\n",
       "      <td>NaN</td>\n",
       "      <td>NaN</td>\n",
       "      <td>0.470833</td>\n",
       "      <td>0.669094</td>\n",
       "      <td>0.890920</td>\n",
       "      <td>1.000000</td>\n",
       "      <td>0.973473</td>\n",
       "      <td>0.867866</td>\n",
       "      <td>NaN</td>\n",
       "      <td>-0.153219</td>\n",
       "      <td>0.667812</td>\n",
       "    </tr>\n",
       "    <tr>\n",
       "      <th>rd6_win</th>\n",
       "      <td>NaN</td>\n",
       "      <td>NaN</td>\n",
       "      <td>0.398380</td>\n",
       "      <td>0.579401</td>\n",
       "      <td>0.821008</td>\n",
       "      <td>0.973473</td>\n",
       "      <td>1.000000</td>\n",
       "      <td>0.913666</td>\n",
       "      <td>NaN</td>\n",
       "      <td>-0.128662</td>\n",
       "      <td>0.610975</td>\n",
       "    </tr>\n",
       "    <tr>\n",
       "      <th>rd7_win</th>\n",
       "      <td>NaN</td>\n",
       "      <td>NaN</td>\n",
       "      <td>0.291365</td>\n",
       "      <td>0.436646</td>\n",
       "      <td>0.671994</td>\n",
       "      <td>0.867866</td>\n",
       "      <td>0.913666</td>\n",
       "      <td>1.000000</td>\n",
       "      <td>NaN</td>\n",
       "      <td>-0.136001</td>\n",
       "      <td>0.515687</td>\n",
       "    </tr>\n",
       "    <tr>\n",
       "      <th>team_alive</th>\n",
       "      <td>NaN</td>\n",
       "      <td>NaN</td>\n",
       "      <td>NaN</td>\n",
       "      <td>NaN</td>\n",
       "      <td>NaN</td>\n",
       "      <td>NaN</td>\n",
       "      <td>NaN</td>\n",
       "      <td>NaN</td>\n",
       "      <td>NaN</td>\n",
       "      <td>NaN</td>\n",
       "      <td>NaN</td>\n",
       "    </tr>\n",
       "    <tr>\n",
       "      <th>team_id</th>\n",
       "      <td>NaN</td>\n",
       "      <td>NaN</td>\n",
       "      <td>-0.387923</td>\n",
       "      <td>-0.289247</td>\n",
       "      <td>-0.233332</td>\n",
       "      <td>-0.153219</td>\n",
       "      <td>-0.128662</td>\n",
       "      <td>-0.136001</td>\n",
       "      <td>NaN</td>\n",
       "      <td>1.000000</td>\n",
       "      <td>-0.430815</td>\n",
       "    </tr>\n",
       "    <tr>\n",
       "      <th>team_rating</th>\n",
       "      <td>NaN</td>\n",
       "      <td>NaN</td>\n",
       "      <td>0.917009</td>\n",
       "      <td>0.816536</td>\n",
       "      <td>0.773782</td>\n",
       "      <td>0.667812</td>\n",
       "      <td>0.610975</td>\n",
       "      <td>0.515687</td>\n",
       "      <td>NaN</td>\n",
       "      <td>-0.430815</td>\n",
       "      <td>1.000000</td>\n",
       "    </tr>\n",
       "  </tbody>\n",
       "</table>\n",
       "</div>"
      ],
      "text/plain": [
       "             playin_flag  rd1_win   rd2_win   rd3_win   rd4_win   rd5_win  \\\n",
       "playin_flag          NaN      NaN       NaN       NaN       NaN       NaN   \n",
       "rd1_win              NaN      NaN       NaN       NaN       NaN       NaN   \n",
       "rd2_win              NaN      NaN  1.000000  0.809658  0.647571  0.470833   \n",
       "rd3_win              NaN      NaN  0.809658  1.000000  0.866754  0.669094   \n",
       "rd4_win              NaN      NaN  0.647571  0.866754  1.000000  0.890920   \n",
       "rd5_win              NaN      NaN  0.470833  0.669094  0.890920  1.000000   \n",
       "rd6_win              NaN      NaN  0.398380  0.579401  0.821008  0.973473   \n",
       "rd7_win              NaN      NaN  0.291365  0.436646  0.671994  0.867866   \n",
       "team_alive           NaN      NaN       NaN       NaN       NaN       NaN   \n",
       "team_id              NaN      NaN -0.387923 -0.289247 -0.233332 -0.153219   \n",
       "team_rating          NaN      NaN  0.917009  0.816536  0.773782  0.667812   \n",
       "\n",
       "              rd6_win   rd7_win  team_alive   team_id  team_rating  \n",
       "playin_flag       NaN       NaN         NaN       NaN          NaN  \n",
       "rd1_win           NaN       NaN         NaN       NaN          NaN  \n",
       "rd2_win      0.398380  0.291365         NaN -0.387923     0.917009  \n",
       "rd3_win      0.579401  0.436646         NaN -0.289247     0.816536  \n",
       "rd4_win      0.821008  0.671994         NaN -0.233332     0.773782  \n",
       "rd5_win      0.973473  0.867866         NaN -0.153219     0.667812  \n",
       "rd6_win      1.000000  0.913666         NaN -0.128662     0.610975  \n",
       "rd7_win      0.913666  1.000000         NaN -0.136001     0.515687  \n",
       "team_alive        NaN       NaN         NaN       NaN          NaN  \n",
       "team_id     -0.128662 -0.136001         NaN  1.000000    -0.430815  \n",
       "team_rating  0.610975  0.515687         NaN -0.430815     1.000000  "
      ]
     },
     "execution_count": 295,
     "metadata": {},
     "output_type": "execute_result"
    }
   ],
   "source": [
    "data[data[\"gender\"] == 'womens'].corr()"
   ]
  },
  {
   "cell_type": "markdown",
   "metadata": {},
   "source": [
    "*Корелляция между вероятностью победы команды в каждом раунде (2-7) и рейтингом команды для мужчин чуть выше, чем для женщин.*"
   ]
  },
  {
   "cell_type": "markdown",
   "metadata": {},
   "source": [
    "*Построим график зависимости вероятноти победы **мужской** команды в 7 раунде от рейтинга команды*"
   ]
  },
  {
   "cell_type": "code",
   "execution_count": 355,
   "metadata": {},
   "outputs": [
    {
     "data": {
      "image/png": "[encoded data removed]",
      "text/plain": [
       "<matplotlib.figure.Figure at 0x1eb263df6d8>"
      ]
     },
     "metadata": {},
     "output_type": "display_data"
    }
   ],
   "source": [
    "plt.plot(data[data['gender']=='mens']['team_rating'], data[data['gender']=='mens']['rd7_win'], 'o', alpha = 0.4)\n",
    "plt.xlabel('team_rating')\n",
    "plt.ylabel('rd7_win')\n",
    "pass"
   ]
  },
  {
   "cell_type": "markdown",
   "metadata": {},
   "source": [
    "*Построим график зависимости вероятноти победы **женской** команды в 7 раунде от рейтинга команды*"
   ]
  },
  {
   "cell_type": "code",
   "execution_count": 356,
   "metadata": {},
   "outputs": [
    {
     "data": {
      "image/png": "[encoded data removed]",
      "text/plain": [
       "<matplotlib.figure.Figure at 0x1eb22eb29b0>"
      ]
     },
     "metadata": {},
     "output_type": "display_data"
    }
   ],
   "source": [
    "plt.plot(data[data['gender']=='womens']['team_rating'], data[data['gender']=='womens']['rd7_win'], 'o', alpha = 0.4)\n",
    "plt.xlabel('team_rating')\n",
    "plt.ylabel('rd7_win')\n",
    "pass"
   ]
  },
  {
   "cell_type": "code",
   "execution_count": 360,
   "metadata": {},
   "outputs": [
    {
     "data": {
      "image/png": "[encoded data removed]",
      "text/plain": [
       "<matplotlib.figure.Figure at 0x1eb221c4b70>"
      ]
     },
     "metadata": {},
     "output_type": "display_data"
    }
   ],
   "source": [
    "from pandas.plotting import scatter_matrix \n",
    "scatter_matrix(data, alpha = .2, figsize = (10, 10))\n",
    "pass"
   ]
  },
  {
   "cell_type": "markdown",
   "metadata": {},
   "source": [
    "*Выведем первые 5 команд, для которых вероятность победы в 3 раунде более 50%*"
   ]
  },
  {
   "cell_type": "code",
   "execution_count": 318,
   "metadata": {},
   "outputs": [
    {
     "data": {
      "text/plain": [
       "0    True\n",
       "1    True\n",
       "2    True\n",
       "3    True\n",
       "4    True\n",
       "Name: rd3_win, dtype: bool"
      ]
     },
     "execution_count": 318,
     "metadata": {},
     "output_type": "execute_result"
    }
   ],
   "source": [
    "(data['rd3_win'] > 0.5).head()"
   ]
  },
  {
   "cell_type": "markdown",
   "metadata": {},
   "source": [
    "*Выведем уникальные значения в столбце*"
   ]
  },
  {
   "cell_type": "code",
   "execution_count": 319,
   "metadata": {},
   "outputs": [
    {
     "data": {
      "text/plain": [
       "array(['East', 'West', 'Midwest', 'South', 'Bridgeport', 'Oklahoma City',\n",
       "       'Lexington', 'Stockton'], dtype=object)"
      ]
     },
     "execution_count": 319,
     "metadata": {},
     "output_type": "execute_result"
    }
   ],
   "source": [
    "data['team_region'].unique()"
   ]
  },
  {
   "cell_type": "markdown",
   "metadata": {},
   "source": [
    "*Найдем минимальный рейтинг среди команд*"
   ]
  },
  {
   "cell_type": "code",
   "execution_count": 320,
   "metadata": {},
   "outputs": [
    {
     "data": {
      "text/plain": [
       "62.020000000000003"
      ]
     },
     "execution_count": 320,
     "metadata": {},
     "output_type": "execute_result"
    }
   ],
   "source": [
    "data['team_rating'].min()"
   ]
  },
  {
   "cell_type": "code",
   "execution_count": 361,
   "metadata": {
    "scrolled": true
   },
   "outputs": [
    {
     "data": {
      "image/png": "[encoded data removed]",
      "text/plain": [
       "<matplotlib.figure.Figure at 0x1eb21d0c7f0>"
      ]
     },
     "metadata": {},
     "output_type": "display_data"
    }
   ],
   "source": [
    "plt.figure(figsize = (10, 5))\n",
    "\n",
    "plt.scatter(data[data['gender'] == 'mens']['team_rating'],\n",
    "            data[data['gender'] == 'mens']['rd7_win'],\n",
    "            alpha = 0.25,\n",
    "            label = 'men',\n",
    "            color = 'b')\n",
    "\n",
    "plt.scatter(data[data['gender'] == 'womens']['team_rating'],\n",
    "            data[data['gender'] == 'womens']['rd7_win'],\n",
    "            alpha = 0.2,\n",
    "            label = 'women',\n",
    "            color = 'r')\n",
    "\n",
    "plt.xlabel('team_rating')\n",
    "plt.xticks(range(0, 100))\n",
    "plt.xlim(61, 99)\n",
    "plt.ylabel('rd7_win')\n",
    "plt.legend()\n",
    "plt.grid()"
   ]
  },
  {
   "cell_type": "markdown",
   "metadata": {},
   "source": [
    "*Посмотрим, есть ли команды с одинаковыми названиями*"
   ]
  },
  {
   "cell_type": "code",
   "execution_count": 321,
   "metadata": {},
   "outputs": [
    {
     "data": {
      "text/plain": [
       "(107,)"
      ]
     },
     "execution_count": 321,
     "metadata": {},
     "output_type": "execute_result"
    }
   ],
   "source": [
    "data['team_name'].unique().shape"
   ]
  },
  {
   "cell_type": "code",
   "execution_count": 322,
   "metadata": {},
   "outputs": [
    {
     "data": {
      "text/plain": [
       "(132,)"
      ]
     },
     "execution_count": 322,
     "metadata": {},
     "output_type": "execute_result"
    }
   ],
   "source": [
    "data['team_name'].shape"
   ]
  },
  {
   "cell_type": "markdown",
   "metadata": {},
   "source": [
    "*Сравнивая размеры массива, можно заключить, что есть*"
   ]
  },
  {
   "cell_type": "markdown",
   "metadata": {},
   "source": [
    "*Уберем **forecast_date** и **team_alive** так как для всех команд значение признаков одинаково*"
   ]
  },
  {
   "cell_type": "code",
   "execution_count": 3,
   "metadata": {
    "collapsed": true
   },
   "outputs": [],
   "source": [
    "data = data.drop(['forecast_date','team_alive'], axis = 1)"
   ]
  },
  {
   "cell_type": "code",
   "execution_count": 4,
   "metadata": {
    "collapsed": true
   },
   "outputs": [],
   "source": [
    "y = np.array([1 if it == 'womens' else 0 for it in data['gender']])"
   ]
  },
  {
   "cell_type": "code",
   "execution_count": 5,
   "metadata": {
    "collapsed": true
   },
   "outputs": [],
   "source": [
    "data = data.drop('gender', axis=1)"
   ]
  },
  {
   "cell_type": "code",
   "execution_count": 6,
   "metadata": {},
   "outputs": [
    {
     "name": "stdout",
     "output_type": "stream",
     "text": [
      "['team_name', 'team_region', 'team_seed']\n"
     ]
    }
   ],
   "source": [
    "categorical_columns = [i for i in data.columns if data[i].dtype.name == 'object']\n",
    "print(categorical_columns)"
   ]
  },
  {
   "cell_type": "code",
   "execution_count": 7,
   "metadata": {},
   "outputs": [
    {
     "name": "stdout",
     "output_type": "stream",
     "text": [
      "['playin_flag', 'rd1_win', 'rd2_win', 'rd3_win', 'rd4_win', 'rd5_win', 'rd6_win', 'rd7_win', 'team_id', 'team_rating']\n"
     ]
    }
   ],
   "source": [
    "numerical_columns   = [i for i in data.columns if data[i].dtype.name != 'object']\n",
    "print(numerical_columns)"
   ]
  },
  {
   "cell_type": "markdown",
   "metadata": {},
   "source": [
    "## Обработка пропущенных значений"
   ]
  },
  {
   "cell_type": "code",
   "execution_count": 9,
   "metadata": {},
   "outputs": [
    {
     "data": {
      "text/plain": [
       "playin_flag    132\n",
       "rd1_win        132\n",
       "rd2_win        132\n",
       "rd3_win        132\n",
       "rd4_win        132\n",
       "rd5_win        132\n",
       "rd6_win        132\n",
       "rd7_win        132\n",
       "team_id        132\n",
       "team_rating    132\n",
       "dtype: int64"
      ]
     },
     "execution_count": 9,
     "metadata": {},
     "output_type": "execute_result"
    }
   ],
   "source": [
    "data[numerical_columns].count(axis = 0)"
   ]
  },
  {
   "cell_type": "markdown",
   "metadata": {},
   "source": [
    "*Пропущенные значения **отсутствуют***"
   ]
  },
  {
   "cell_type": "markdown",
   "metadata": {},
   "source": [
    "*Посмотрим средние значения по столбцам*"
   ]
  },
  {
   "cell_type": "code",
   "execution_count": 328,
   "metadata": {},
   "outputs": [
    {
     "data": {
      "text/plain": [
       "playin_flag      0.000000\n",
       "rd1_win          1.000000\n",
       "rd2_win          0.494096\n",
       "rd3_win          0.066937\n",
       "rd4_win          0.020628\n",
       "rd5_win          0.004199\n",
       "rd6_win          0.000768\n",
       "rd7_win          0.000196\n",
       "team_id        262.500000\n",
       "team_rating     82.940000\n",
       "dtype: float64"
      ]
     },
     "execution_count": 328,
     "metadata": {},
     "output_type": "execute_result"
    }
   ],
   "source": [
    "data.median(axis = 0)"
   ]
  },
  {
   "cell_type": "markdown",
   "metadata": {},
   "source": [
    "## Векторизация"
   ]
  },
  {
   "cell_type": "code",
   "execution_count": 8,
   "metadata": {},
   "outputs": [
    {
     "name": "stdout",
     "output_type": "stream",
     "text": [
      "[] ['team_name', 'team_region', 'team_seed']\n"
     ]
    }
   ],
   "source": [
    "data_describe = data.describe(include = [object])\n",
    "binary_columns = [c for c in categorical_columns if data_describe[c]['unique'] == 2]\n",
    "nonbinary_columns = [c for c in categorical_columns if data_describe[c]['unique'] > 2]\n",
    "print(binary_columns, nonbinary_columns)"
   ]
  },
  {
   "cell_type": "markdown",
   "metadata": {},
   "source": [
    "*Бинарные признаки отсутсвуют*"
   ]
  },
  {
   "cell_type": "code",
   "execution_count": 11,
   "metadata": {},
   "outputs": [
    {
     "data": {
      "text/plain": [
       "array(['Villanova', 'Gonzaga', 'Kansas', 'Kentucky', 'North Carolina',\n",
       "       'Duke', 'Louisville', 'Arizona', 'West Virginia', 'UCLA',\n",
       "       'Virginia', \"Saint Mary's (CA)\", 'Purdue', 'Wichita State',\n",
       "       'Southern Methodist', 'Iowa State', 'Baylor', 'Oregon', 'Butler',\n",
       "       'Florida', 'Florida State', 'Cincinnati', 'Wisconsin', 'Michigan',\n",
       "       'Notre Dame', 'Creighton', 'Oklahoma State', 'Miami (FL)',\n",
       "       'Arkansas', 'Vanderbilt', 'Rhode Island', 'Kansas State',\n",
       "       'South Carolina', 'Seton Hall', 'Dayton', 'Marquette',\n",
       "       'Michigan State', 'Wake Forest', 'Xavier', 'Virginia Commonwealth',\n",
       "       'Middle Tennessee', 'Maryland', 'Northwestern', 'Minnesota',\n",
       "       'Providence', 'Southern California', 'Nevada', 'Princeton',\n",
       "       'North Carolina-Wilmington', 'Virginia Tech', 'Vermont', 'Bucknell',\n",
       "       'East Tennessee State', 'Winthrop', 'Florida Gulf Coast',\n",
       "       'New Mexico State', 'Iona', 'Kent State', 'Troy',\n",
       "       'Northern Kentucky', 'South Dakota State', 'North Dakota',\n",
       "       'Texas Southern', 'Jacksonville State', 'North Carolina Central',\n",
       "       'UC-Davis', \"Mount St. Mary's\", 'New Orleans', 'Connecticut',\n",
       "       'Texas', 'Mississippi State', 'Oregon State', 'Stanford',\n",
       "       'Washington', 'Ohio State', 'Tennessee', 'Syracuse',\n",
       "       'Arizona State', 'DePaul', 'Oklahoma', 'North Carolina State',\n",
       "       'Green Bay', 'Texas A&M', 'Missouri', 'South Florida',\n",
       "       'Western Kentucky', 'Auburn', 'Louisiana State', 'California',\n",
       "       'Temple', 'Drake', 'Quinnipiac', 'Toledo', 'Elon', 'Northern Iowa',\n",
       "       'Chattanooga', 'Belmont', 'Pennsylvania', 'Long Beach State',\n",
       "       'Western Illinois', 'Albany (NY)', 'Boise State', 'Montana State',\n",
       "       'Central Arkansas', 'Hampton', 'Robert Morris',\n",
       "       'North Carolina-Asheville'], dtype=object)"
      ]
     },
     "execution_count": 11,
     "metadata": {},
     "output_type": "execute_result"
    }
   ],
   "source": [
    "data['team_name'].unique()"
   ]
  },
  {
   "cell_type": "code",
   "execution_count": 12,
   "metadata": {},
   "outputs": [
    {
     "data": {
      "text/plain": [
       "array(['East', 'West', 'Midwest', 'South', 'Bridgeport', 'Oklahoma City',\n",
       "       'Lexington', 'Stockton'], dtype=object)"
      ]
     },
     "execution_count": 12,
     "metadata": {},
     "output_type": "execute_result"
    }
   ],
   "source": [
    "data['team_region'].unique()"
   ]
  },
  {
   "cell_type": "code",
   "execution_count": 331,
   "metadata": {},
   "outputs": [
    {
     "data": {
      "text/plain": [
       "array(['1', '2', '4', '3', '5', '7', '10', '6', '8', '9', '11', '11a',\n",
       "       '11b', '12', '13', '14', '15', '16', '16a', '16b'], dtype=object)"
      ]
     },
     "execution_count": 331,
     "metadata": {},
     "output_type": "execute_result"
    }
   ],
   "source": [
    "data['team_seed'].unique()"
   ]
  },
  {
   "cell_type": "markdown",
   "metadata": {},
   "source": [
    "*Векторизуем категориальные признаки:*"
   ]
  },
  {
   "cell_type": "code",
   "execution_count": 9,
   "metadata": {},
   "outputs": [
    {
     "name": "stdout",
     "output_type": "stream",
     "text": [
      "Index(['team_name_Albany (NY)', 'team_name_Arizona', 'team_name_Arizona State',\n",
      "       'team_name_Arkansas', 'team_name_Auburn', 'team_name_Baylor',\n",
      "       'team_name_Belmont', 'team_name_Boise State', 'team_name_Bucknell',\n",
      "       'team_name_Butler',\n",
      "       ...\n",
      "       'team_seed_16a', 'team_seed_16b', 'team_seed_2', 'team_seed_3',\n",
      "       'team_seed_4', 'team_seed_5', 'team_seed_6', 'team_seed_7',\n",
      "       'team_seed_8', 'team_seed_9'],\n",
      "      dtype='object', length=135)\n"
     ]
    }
   ],
   "source": [
    "data_nonbinary = pd.get_dummies(data[nonbinary_columns])\n",
    "print(data_nonbinary.columns)"
   ]
  },
  {
   "cell_type": "markdown",
   "metadata": {},
   "source": [
    "## Нормализация количественных признаков"
   ]
  },
  {
   "cell_type": "code",
   "execution_count": 10,
   "metadata": {},
   "outputs": [
    {
     "data": {
      "text/html": [
       "<div>\n",
       "<style>\n",
       "    .dataframe thead tr:only-child th {\n",
       "        text-align: right;\n",
       "    }\n",
       "\n",
       "    .dataframe thead th {\n",
       "        text-align: left;\n",
       "    }\n",
       "\n",
       "    .dataframe tbody tr th {\n",
       "        vertical-align: top;\n",
       "    }\n",
       "</style>\n",
       "<table border=\"1\" class=\"dataframe\">\n",
       "  <thead>\n",
       "    <tr style=\"text-align: right;\">\n",
       "      <th></th>\n",
       "      <th>playin_flag</th>\n",
       "      <th>rd1_win</th>\n",
       "      <th>rd2_win</th>\n",
       "      <th>rd3_win</th>\n",
       "      <th>rd4_win</th>\n",
       "      <th>rd5_win</th>\n",
       "      <th>rd6_win</th>\n",
       "      <th>rd7_win</th>\n",
       "      <th>team_id</th>\n",
       "      <th>team_rating</th>\n",
       "    </tr>\n",
       "  </thead>\n",
       "  <tbody>\n",
       "    <tr>\n",
       "      <th>count</th>\n",
       "      <td>132.000000</td>\n",
       "      <td>132.000000</td>\n",
       "      <td>132.000000</td>\n",
       "      <td>132.000000</td>\n",
       "      <td>132.000000</td>\n",
       "      <td>1.320000e+02</td>\n",
       "      <td>1.320000e+02</td>\n",
       "      <td>1.320000e+02</td>\n",
       "      <td>132.000000</td>\n",
       "      <td>132.000000</td>\n",
       "    </tr>\n",
       "    <tr>\n",
       "      <th>mean</th>\n",
       "      <td>0.060606</td>\n",
       "      <td>0.969697</td>\n",
       "      <td>0.484848</td>\n",
       "      <td>0.242424</td>\n",
       "      <td>0.121212</td>\n",
       "      <td>6.060606e-02</td>\n",
       "      <td>3.030303e-02</td>\n",
       "      <td>1.515152e-02</td>\n",
       "      <td>1042.333333</td>\n",
       "      <td>82.711136</td>\n",
       "    </tr>\n",
       "    <tr>\n",
       "      <th>std</th>\n",
       "      <td>0.239515</td>\n",
       "      <td>0.121469</td>\n",
       "      <td>0.360678</td>\n",
       "      <td>0.312860</td>\n",
       "      <td>0.208193</td>\n",
       "      <td>1.407246e-01</td>\n",
       "      <td>8.277485e-02</td>\n",
       "      <td>5.473370e-02</td>\n",
       "      <td>1117.167046</td>\n",
       "      <td>8.510666</td>\n",
       "    </tr>\n",
       "    <tr>\n",
       "      <th>min</th>\n",
       "      <td>0.000000</td>\n",
       "      <td>0.370940</td>\n",
       "      <td>0.000546</td>\n",
       "      <td>0.000053</td>\n",
       "      <td>0.000002</td>\n",
       "      <td>3.767600e-08</td>\n",
       "      <td>2.070000e-10</td>\n",
       "      <td>3.000000e-12</td>\n",
       "      <td>2.000000</td>\n",
       "      <td>62.020000</td>\n",
       "    </tr>\n",
       "    <tr>\n",
       "      <th>25%</th>\n",
       "      <td>0.000000</td>\n",
       "      <td>1.000000</td>\n",
       "      <td>0.124163</td>\n",
       "      <td>0.013850</td>\n",
       "      <td>0.001795</td>\n",
       "      <td>1.623610e-04</td>\n",
       "      <td>1.274440e-05</td>\n",
       "      <td>1.385986e-06</td>\n",
       "      <td>129.250000</td>\n",
       "      <td>77.027500</td>\n",
       "    </tr>\n",
       "    <tr>\n",
       "      <th>50%</th>\n",
       "      <td>0.000000</td>\n",
       "      <td>1.000000</td>\n",
       "      <td>0.494096</td>\n",
       "      <td>0.066937</td>\n",
       "      <td>0.020628</td>\n",
       "      <td>4.199336e-03</td>\n",
       "      <td>7.675749e-04</td>\n",
       "      <td>1.958333e-04</td>\n",
       "      <td>262.500000</td>\n",
       "      <td>82.940000</td>\n",
       "    </tr>\n",
       "    <tr>\n",
       "      <th>75%</th>\n",
       "      <td>0.000000</td>\n",
       "      <td>1.000000</td>\n",
       "      <td>0.844837</td>\n",
       "      <td>0.446753</td>\n",
       "      <td>0.131486</td>\n",
       "      <td>5.409939e-02</td>\n",
       "      <td>1.937555e-02</td>\n",
       "      <td>6.877014e-03</td>\n",
       "      <td>2329.250000</td>\n",
       "      <td>88.062500</td>\n",
       "    </tr>\n",
       "    <tr>\n",
       "      <th>max</th>\n",
       "      <td>1.000000</td>\n",
       "      <td>1.000000</td>\n",
       "      <td>0.999454</td>\n",
       "      <td>0.983165</td>\n",
       "      <td>0.960642</td>\n",
       "      <td>8.983535e-01</td>\n",
       "      <td>6.305563e-01</td>\n",
       "      <td>5.236806e-01</td>\n",
       "      <td>2752.000000</td>\n",
       "      <td>111.430000</td>\n",
       "    </tr>\n",
       "  </tbody>\n",
       "</table>\n",
       "</div>"
      ],
      "text/plain": [
       "       playin_flag     rd1_win     rd2_win     rd3_win     rd4_win  \\\n",
       "count   132.000000  132.000000  132.000000  132.000000  132.000000   \n",
       "mean      0.060606    0.969697    0.484848    0.242424    0.121212   \n",
       "std       0.239515    0.121469    0.360678    0.312860    0.208193   \n",
       "min       0.000000    0.370940    0.000546    0.000053    0.000002   \n",
       "25%       0.000000    1.000000    0.124163    0.013850    0.001795   \n",
       "50%       0.000000    1.000000    0.494096    0.066937    0.020628   \n",
       "75%       0.000000    1.000000    0.844837    0.446753    0.131486   \n",
       "max       1.000000    1.000000    0.999454    0.983165    0.960642   \n",
       "\n",
       "            rd5_win       rd6_win       rd7_win      team_id  team_rating  \n",
       "count  1.320000e+02  1.320000e+02  1.320000e+02   132.000000   132.000000  \n",
       "mean   6.060606e-02  3.030303e-02  1.515152e-02  1042.333333    82.711136  \n",
       "std    1.407246e-01  8.277485e-02  5.473370e-02  1117.167046     8.510666  \n",
       "min    3.767600e-08  2.070000e-10  3.000000e-12     2.000000    62.020000  \n",
       "25%    1.623610e-04  1.274440e-05  1.385986e-06   129.250000    77.027500  \n",
       "50%    4.199336e-03  7.675749e-04  1.958333e-04   262.500000    82.940000  \n",
       "75%    5.409939e-02  1.937555e-02  6.877014e-03  2329.250000    88.062500  \n",
       "max    8.983535e-01  6.305563e-01  5.236806e-01  2752.000000   111.430000  "
      ]
     },
     "execution_count": 10,
     "metadata": {},
     "output_type": "execute_result"
    }
   ],
   "source": [
    "data_numerical = data[numerical_columns]\n",
    "data_numerical.describe()"
   ]
  },
  {
   "cell_type": "code",
   "execution_count": 11,
   "metadata": {},
   "outputs": [
    {
     "data": {
      "text/html": [
       "<div>\n",
       "<style>\n",
       "    .dataframe thead tr:only-child th {\n",
       "        text-align: right;\n",
       "    }\n",
       "\n",
       "    .dataframe thead th {\n",
       "        text-align: left;\n",
       "    }\n",
       "\n",
       "    .dataframe tbody tr th {\n",
       "        vertical-align: top;\n",
       "    }\n",
       "</style>\n",
       "<table border=\"1\" class=\"dataframe\">\n",
       "  <thead>\n",
       "    <tr style=\"text-align: right;\">\n",
       "      <th></th>\n",
       "      <th>playin_flag</th>\n",
       "      <th>rd1_win</th>\n",
       "      <th>rd2_win</th>\n",
       "      <th>rd3_win</th>\n",
       "      <th>rd4_win</th>\n",
       "      <th>rd5_win</th>\n",
       "      <th>rd6_win</th>\n",
       "      <th>rd7_win</th>\n",
       "      <th>team_id</th>\n",
       "      <th>team_rating</th>\n",
       "    </tr>\n",
       "  </thead>\n",
       "  <tbody>\n",
       "    <tr>\n",
       "      <th>count</th>\n",
       "      <td>1.320000e+02</td>\n",
       "      <td>1.320000e+02</td>\n",
       "      <td>1.320000e+02</td>\n",
       "      <td>1.320000e+02</td>\n",
       "      <td>1.320000e+02</td>\n",
       "      <td>1.320000e+02</td>\n",
       "      <td>1.320000e+02</td>\n",
       "      <td>1.320000e+02</td>\n",
       "      <td>1.320000e+02</td>\n",
       "      <td>1.320000e+02</td>\n",
       "    </tr>\n",
       "    <tr>\n",
       "      <th>mean</th>\n",
       "      <td>8.410780e-19</td>\n",
       "      <td>-3.545144e-16</td>\n",
       "      <td>-4.373606e-17</td>\n",
       "      <td>3.675511e-16</td>\n",
       "      <td>-2.346608e-16</td>\n",
       "      <td>1.720005e-16</td>\n",
       "      <td>-2.708271e-16</td>\n",
       "      <td>6.686570e-17</td>\n",
       "      <td>6.223978e-17</td>\n",
       "      <td>-2.344926e-15</td>\n",
       "    </tr>\n",
       "    <tr>\n",
       "      <th>std</th>\n",
       "      <td>1.000000e+00</td>\n",
       "      <td>1.000000e+00</td>\n",
       "      <td>1.000000e+00</td>\n",
       "      <td>1.000000e+00</td>\n",
       "      <td>1.000000e+00</td>\n",
       "      <td>1.000000e+00</td>\n",
       "      <td>1.000000e+00</td>\n",
       "      <td>1.000000e+00</td>\n",
       "      <td>1.000000e+00</td>\n",
       "      <td>1.000000e+00</td>\n",
       "    </tr>\n",
       "    <tr>\n",
       "      <th>min</th>\n",
       "      <td>-2.530363e-01</td>\n",
       "      <td>-4.929300e+00</td>\n",
       "      <td>-1.342757e+00</td>\n",
       "      <td>-7.746974e-01</td>\n",
       "      <td>-5.822016e-01</td>\n",
       "      <td>-4.306711e-01</td>\n",
       "      <td>-3.660898e-01</td>\n",
       "      <td>-2.768224e-01</td>\n",
       "      <td>-9.312245e-01</td>\n",
       "      <td>-2.431201e+00</td>\n",
       "    </tr>\n",
       "    <tr>\n",
       "      <th>25%</th>\n",
       "      <td>-2.530363e-01</td>\n",
       "      <td>2.494714e-01</td>\n",
       "      <td>-1.000022e+00</td>\n",
       "      <td>-7.305965e-01</td>\n",
       "      <td>-5.735890e-01</td>\n",
       "      <td>-4.295176e-01</td>\n",
       "      <td>-3.659359e-01</td>\n",
       "      <td>-2.767971e-01</td>\n",
       "      <td>-8.173203e-01</td>\n",
       "      <td>-6.678251e-01</td>\n",
       "    </tr>\n",
       "    <tr>\n",
       "      <th>50%</th>\n",
       "      <td>-2.530363e-01</td>\n",
       "      <td>2.494714e-01</td>\n",
       "      <td>2.563908e-02</td>\n",
       "      <td>-5.609135e-01</td>\n",
       "      <td>-4.831287e-01</td>\n",
       "      <td>-4.008305e-01</td>\n",
       "      <td>-3.568168e-01</td>\n",
       "      <td>-2.732445e-01</td>\n",
       "      <td>-6.980454e-01</td>\n",
       "      <td>2.689139e-02</td>\n",
       "    </tr>\n",
       "    <tr>\n",
       "      <th>75%</th>\n",
       "      <td>-2.530363e-01</td>\n",
       "      <td>2.494714e-01</td>\n",
       "      <td>9.980900e-01</td>\n",
       "      <td>6.530988e-01</td>\n",
       "      <td>4.934768e-02</td>\n",
       "      <td>-4.623692e-02</td>\n",
       "      <td>-1.320145e-01</td>\n",
       "      <td>-1.511774e-01</td>\n",
       "      <td>1.151946e+00</td>\n",
       "      <td>6.287832e-01</td>\n",
       "    </tr>\n",
       "    <tr>\n",
       "      <th>max</th>\n",
       "      <td>3.922063e+00</td>\n",
       "      <td>2.494714e-01</td>\n",
       "      <td>1.426774e+00</td>\n",
       "      <td>2.367645e+00</td>\n",
       "      <td>4.031969e+00</td>\n",
       "      <td>5.953098e+00</td>\n",
       "      <td>7.251638e+00</td>\n",
       "      <td>9.290968e+00</td>\n",
       "      <td>1.530359e+00</td>\n",
       "      <td>3.374455e+00</td>\n",
       "    </tr>\n",
       "  </tbody>\n",
       "</table>\n",
       "</div>"
      ],
      "text/plain": [
       "        playin_flag       rd1_win       rd2_win       rd3_win       rd4_win  \\\n",
       "count  1.320000e+02  1.320000e+02  1.320000e+02  1.320000e+02  1.320000e+02   \n",
       "mean   8.410780e-19 -3.545144e-16 -4.373606e-17  3.675511e-16 -2.346608e-16   \n",
       "std    1.000000e+00  1.000000e+00  1.000000e+00  1.000000e+00  1.000000e+00   \n",
       "min   -2.530363e-01 -4.929300e+00 -1.342757e+00 -7.746974e-01 -5.822016e-01   \n",
       "25%   -2.530363e-01  2.494714e-01 -1.000022e+00 -7.305965e-01 -5.735890e-01   \n",
       "50%   -2.530363e-01  2.494714e-01  2.563908e-02 -5.609135e-01 -4.831287e-01   \n",
       "75%   -2.530363e-01  2.494714e-01  9.980900e-01  6.530988e-01  4.934768e-02   \n",
       "max    3.922063e+00  2.494714e-01  1.426774e+00  2.367645e+00  4.031969e+00   \n",
       "\n",
       "            rd5_win       rd6_win       rd7_win       team_id   team_rating  \n",
       "count  1.320000e+02  1.320000e+02  1.320000e+02  1.320000e+02  1.320000e+02  \n",
       "mean   1.720005e-16 -2.708271e-16  6.686570e-17  6.223978e-17 -2.344926e-15  \n",
       "std    1.000000e+00  1.000000e+00  1.000000e+00  1.000000e+00  1.000000e+00  \n",
       "min   -4.306711e-01 -3.660898e-01 -2.768224e-01 -9.312245e-01 -2.431201e+00  \n",
       "25%   -4.295176e-01 -3.659359e-01 -2.767971e-01 -8.173203e-01 -6.678251e-01  \n",
       "50%   -4.008305e-01 -3.568168e-01 -2.732445e-01 -6.980454e-01  2.689139e-02  \n",
       "75%   -4.623692e-02 -1.320145e-01 -1.511774e-01  1.151946e+00  6.287832e-01  \n",
       "max    5.953098e+00  7.251638e+00  9.290968e+00  1.530359e+00  3.374455e+00  "
      ]
     },
     "execution_count": 11,
     "metadata": {},
     "output_type": "execute_result"
    }
   ],
   "source": [
    "data_numerical = (data_numerical - data_numerical.mean(axis = 0))/data_numerical.std(axis = 0)\n",
    "data_numerical.describe()"
   ]
  },
  {
   "cell_type": "markdown",
   "metadata": {},
   "source": [
    "## Объединение данных в одну таблицу"
   ]
  },
  {
   "cell_type": "code",
   "execution_count": 12,
   "metadata": {},
   "outputs": [
    {
     "name": "stdout",
     "output_type": "stream",
     "text": [
      "(132, 145)\n"
     ]
    }
   ],
   "source": [
    "data = pd.concat((data_numerical, data_nonbinary, data[binary_columns]), axis = 1)\n",
    "print(data.shape)"
   ]
  },
  {
   "cell_type": "code",
   "execution_count": 21,
   "metadata": {
    "scrolled": true
   },
   "outputs": [
    {
     "data": {
      "text/html": [
       "<div>\n",
       "<style>\n",
       "    .dataframe thead tr:only-child th {\n",
       "        text-align: right;\n",
       "    }\n",
       "\n",
       "    .dataframe thead th {\n",
       "        text-align: left;\n",
       "    }\n",
       "\n",
       "    .dataframe tbody tr th {\n",
       "        vertical-align: top;\n",
       "    }\n",
       "</style>\n",
       "<table border=\"1\" class=\"dataframe\">\n",
       "  <thead>\n",
       "    <tr style=\"text-align: right;\">\n",
       "      <th></th>\n",
       "      <th>playin_flag</th>\n",
       "      <th>rd1_win</th>\n",
       "      <th>rd2_win</th>\n",
       "      <th>rd3_win</th>\n",
       "      <th>rd4_win</th>\n",
       "      <th>rd5_win</th>\n",
       "      <th>rd6_win</th>\n",
       "      <th>rd7_win</th>\n",
       "      <th>team_id</th>\n",
       "      <th>team_rating</th>\n",
       "      <th>...</th>\n",
       "      <th>team_seed_16a</th>\n",
       "      <th>team_seed_16b</th>\n",
       "      <th>team_seed_2</th>\n",
       "      <th>team_seed_3</th>\n",
       "      <th>team_seed_4</th>\n",
       "      <th>team_seed_5</th>\n",
       "      <th>team_seed_6</th>\n",
       "      <th>team_seed_7</th>\n",
       "      <th>team_seed_8</th>\n",
       "      <th>team_seed_9</th>\n",
       "    </tr>\n",
       "  </thead>\n",
       "  <tbody>\n",
       "    <tr>\n",
       "      <th>count</th>\n",
       "      <td>1.320000e+02</td>\n",
       "      <td>1.320000e+02</td>\n",
       "      <td>1.320000e+02</td>\n",
       "      <td>1.320000e+02</td>\n",
       "      <td>1.320000e+02</td>\n",
       "      <td>1.320000e+02</td>\n",
       "      <td>1.320000e+02</td>\n",
       "      <td>1.320000e+02</td>\n",
       "      <td>1.320000e+02</td>\n",
       "      <td>1.320000e+02</td>\n",
       "      <td>...</td>\n",
       "      <td>132.000000</td>\n",
       "      <td>132.000000</td>\n",
       "      <td>132.000000</td>\n",
       "      <td>132.000000</td>\n",
       "      <td>132.000000</td>\n",
       "      <td>132.000000</td>\n",
       "      <td>132.000000</td>\n",
       "      <td>132.000000</td>\n",
       "      <td>132.000000</td>\n",
       "      <td>132.000000</td>\n",
       "    </tr>\n",
       "    <tr>\n",
       "      <th>mean</th>\n",
       "      <td>8.410780e-19</td>\n",
       "      <td>-3.545144e-16</td>\n",
       "      <td>-4.373606e-17</td>\n",
       "      <td>3.675511e-16</td>\n",
       "      <td>-2.346608e-16</td>\n",
       "      <td>1.720005e-16</td>\n",
       "      <td>-2.708271e-16</td>\n",
       "      <td>6.686570e-17</td>\n",
       "      <td>6.223978e-17</td>\n",
       "      <td>-2.344926e-15</td>\n",
       "      <td>...</td>\n",
       "      <td>0.015152</td>\n",
       "      <td>0.015152</td>\n",
       "      <td>0.060606</td>\n",
       "      <td>0.060606</td>\n",
       "      <td>0.060606</td>\n",
       "      <td>0.060606</td>\n",
       "      <td>0.060606</td>\n",
       "      <td>0.060606</td>\n",
       "      <td>0.060606</td>\n",
       "      <td>0.060606</td>\n",
       "    </tr>\n",
       "    <tr>\n",
       "      <th>std</th>\n",
       "      <td>1.000000e+00</td>\n",
       "      <td>1.000000e+00</td>\n",
       "      <td>1.000000e+00</td>\n",
       "      <td>1.000000e+00</td>\n",
       "      <td>1.000000e+00</td>\n",
       "      <td>1.000000e+00</td>\n",
       "      <td>1.000000e+00</td>\n",
       "      <td>1.000000e+00</td>\n",
       "      <td>1.000000e+00</td>\n",
       "      <td>1.000000e+00</td>\n",
       "      <td>...</td>\n",
       "      <td>0.122621</td>\n",
       "      <td>0.122621</td>\n",
       "      <td>0.239515</td>\n",
       "      <td>0.239515</td>\n",
       "      <td>0.239515</td>\n",
       "      <td>0.239515</td>\n",
       "      <td>0.239515</td>\n",
       "      <td>0.239515</td>\n",
       "      <td>0.239515</td>\n",
       "      <td>0.239515</td>\n",
       "    </tr>\n",
       "    <tr>\n",
       "      <th>min</th>\n",
       "      <td>-2.530363e-01</td>\n",
       "      <td>-4.929300e+00</td>\n",
       "      <td>-1.342757e+00</td>\n",
       "      <td>-7.746974e-01</td>\n",
       "      <td>-5.822016e-01</td>\n",
       "      <td>-4.306711e-01</td>\n",
       "      <td>-3.660898e-01</td>\n",
       "      <td>-2.768224e-01</td>\n",
       "      <td>-9.312245e-01</td>\n",
       "      <td>-2.431201e+00</td>\n",
       "      <td>...</td>\n",
       "      <td>0.000000</td>\n",
       "      <td>0.000000</td>\n",
       "      <td>0.000000</td>\n",
       "      <td>0.000000</td>\n",
       "      <td>0.000000</td>\n",
       "      <td>0.000000</td>\n",
       "      <td>0.000000</td>\n",
       "      <td>0.000000</td>\n",
       "      <td>0.000000</td>\n",
       "      <td>0.000000</td>\n",
       "    </tr>\n",
       "    <tr>\n",
       "      <th>25%</th>\n",
       "      <td>-2.530363e-01</td>\n",
       "      <td>2.494714e-01</td>\n",
       "      <td>-1.000022e+00</td>\n",
       "      <td>-7.305965e-01</td>\n",
       "      <td>-5.735890e-01</td>\n",
       "      <td>-4.295176e-01</td>\n",
       "      <td>-3.659359e-01</td>\n",
       "      <td>-2.767971e-01</td>\n",
       "      <td>-8.173203e-01</td>\n",
       "      <td>-6.678251e-01</td>\n",
       "      <td>...</td>\n",
       "      <td>0.000000</td>\n",
       "      <td>0.000000</td>\n",
       "      <td>0.000000</td>\n",
       "      <td>0.000000</td>\n",
       "      <td>0.000000</td>\n",
       "      <td>0.000000</td>\n",
       "      <td>0.000000</td>\n",
       "      <td>0.000000</td>\n",
       "      <td>0.000000</td>\n",
       "      <td>0.000000</td>\n",
       "    </tr>\n",
       "    <tr>\n",
       "      <th>50%</th>\n",
       "      <td>-2.530363e-01</td>\n",
       "      <td>2.494714e-01</td>\n",
       "      <td>2.563908e-02</td>\n",
       "      <td>-5.609135e-01</td>\n",
       "      <td>-4.831287e-01</td>\n",
       "      <td>-4.008305e-01</td>\n",
       "      <td>-3.568168e-01</td>\n",
       "      <td>-2.732445e-01</td>\n",
       "      <td>-6.980454e-01</td>\n",
       "      <td>2.689139e-02</td>\n",
       "      <td>...</td>\n",
       "      <td>0.000000</td>\n",
       "      <td>0.000000</td>\n",
       "      <td>0.000000</td>\n",
       "      <td>0.000000</td>\n",
       "      <td>0.000000</td>\n",
       "      <td>0.000000</td>\n",
       "      <td>0.000000</td>\n",
       "      <td>0.000000</td>\n",
       "      <td>0.000000</td>\n",
       "      <td>0.000000</td>\n",
       "    </tr>\n",
       "    <tr>\n",
       "      <th>75%</th>\n",
       "      <td>-2.530363e-01</td>\n",
       "      <td>2.494714e-01</td>\n",
       "      <td>9.980900e-01</td>\n",
       "      <td>6.530988e-01</td>\n",
       "      <td>4.934768e-02</td>\n",
       "      <td>-4.623692e-02</td>\n",
       "      <td>-1.320145e-01</td>\n",
       "      <td>-1.511774e-01</td>\n",
       "      <td>1.151946e+00</td>\n",
       "      <td>6.287832e-01</td>\n",
       "      <td>...</td>\n",
       "      <td>0.000000</td>\n",
       "      <td>0.000000</td>\n",
       "      <td>0.000000</td>\n",
       "      <td>0.000000</td>\n",
       "      <td>0.000000</td>\n",
       "      <td>0.000000</td>\n",
       "      <td>0.000000</td>\n",
       "      <td>0.000000</td>\n",
       "      <td>0.000000</td>\n",
       "      <td>0.000000</td>\n",
       "    </tr>\n",
       "    <tr>\n",
       "      <th>max</th>\n",
       "      <td>3.922063e+00</td>\n",
       "      <td>2.494714e-01</td>\n",
       "      <td>1.426774e+00</td>\n",
       "      <td>2.367645e+00</td>\n",
       "      <td>4.031969e+00</td>\n",
       "      <td>5.953098e+00</td>\n",
       "      <td>7.251638e+00</td>\n",
       "      <td>9.290968e+00</td>\n",
       "      <td>1.530359e+00</td>\n",
       "      <td>3.374455e+00</td>\n",
       "      <td>...</td>\n",
       "      <td>1.000000</td>\n",
       "      <td>1.000000</td>\n",
       "      <td>1.000000</td>\n",
       "      <td>1.000000</td>\n",
       "      <td>1.000000</td>\n",
       "      <td>1.000000</td>\n",
       "      <td>1.000000</td>\n",
       "      <td>1.000000</td>\n",
       "      <td>1.000000</td>\n",
       "      <td>1.000000</td>\n",
       "    </tr>\n",
       "  </tbody>\n",
       "</table>\n",
       "<p>8 rows × 145 columns</p>\n",
       "</div>"
      ],
      "text/plain": [
       "        playin_flag       rd1_win       rd2_win       rd3_win       rd4_win  \\\n",
       "count  1.320000e+02  1.320000e+02  1.320000e+02  1.320000e+02  1.320000e+02   \n",
       "mean   8.410780e-19 -3.545144e-16 -4.373606e-17  3.675511e-16 -2.346608e-16   \n",
       "std    1.000000e+00  1.000000e+00  1.000000e+00  1.000000e+00  1.000000e+00   \n",
       "min   -2.530363e-01 -4.929300e+00 -1.342757e+00 -7.746974e-01 -5.822016e-01   \n",
       "25%   -2.530363e-01  2.494714e-01 -1.000022e+00 -7.305965e-01 -5.735890e-01   \n",
       "50%   -2.530363e-01  2.494714e-01  2.563908e-02 -5.609135e-01 -4.831287e-01   \n",
       "75%   -2.530363e-01  2.494714e-01  9.980900e-01  6.530988e-01  4.934768e-02   \n",
       "max    3.922063e+00  2.494714e-01  1.426774e+00  2.367645e+00  4.031969e+00   \n",
       "\n",
       "            rd5_win       rd6_win       rd7_win       team_id   team_rating  \\\n",
       "count  1.320000e+02  1.320000e+02  1.320000e+02  1.320000e+02  1.320000e+02   \n",
       "mean   1.720005e-16 -2.708271e-16  6.686570e-17  6.223978e-17 -2.344926e-15   \n",
       "std    1.000000e+00  1.000000e+00  1.000000e+00  1.000000e+00  1.000000e+00   \n",
       "min   -4.306711e-01 -3.660898e-01 -2.768224e-01 -9.312245e-01 -2.431201e+00   \n",
       "25%   -4.295176e-01 -3.659359e-01 -2.767971e-01 -8.173203e-01 -6.678251e-01   \n",
       "50%   -4.008305e-01 -3.568168e-01 -2.732445e-01 -6.980454e-01  2.689139e-02   \n",
       "75%   -4.623692e-02 -1.320145e-01 -1.511774e-01  1.151946e+00  6.287832e-01   \n",
       "max    5.953098e+00  7.251638e+00  9.290968e+00  1.530359e+00  3.374455e+00   \n",
       "\n",
       "          ...       team_seed_16a  team_seed_16b  team_seed_2  team_seed_3  \\\n",
       "count     ...          132.000000     132.000000   132.000000   132.000000   \n",
       "mean      ...            0.015152       0.015152     0.060606     0.060606   \n",
       "std       ...            0.122621       0.122621     0.239515     0.239515   \n",
       "min       ...            0.000000       0.000000     0.000000     0.000000   \n",
       "25%       ...            0.000000       0.000000     0.000000     0.000000   \n",
       "50%       ...            0.000000       0.000000     0.000000     0.000000   \n",
       "75%       ...            0.000000       0.000000     0.000000     0.000000   \n",
       "max       ...            1.000000       1.000000     1.000000     1.000000   \n",
       "\n",
       "       team_seed_4  team_seed_5  team_seed_6  team_seed_7  team_seed_8  \\\n",
       "count   132.000000   132.000000   132.000000   132.000000   132.000000   \n",
       "mean      0.060606     0.060606     0.060606     0.060606     0.060606   \n",
       "std       0.239515     0.239515     0.239515     0.239515     0.239515   \n",
       "min       0.000000     0.000000     0.000000     0.000000     0.000000   \n",
       "25%       0.000000     0.000000     0.000000     0.000000     0.000000   \n",
       "50%       0.000000     0.000000     0.000000     0.000000     0.000000   \n",
       "75%       0.000000     0.000000     0.000000     0.000000     0.000000   \n",
       "max       1.000000     1.000000     1.000000     1.000000     1.000000   \n",
       "\n",
       "       team_seed_9  \n",
       "count   132.000000  \n",
       "mean      0.060606  \n",
       "std       0.239515  \n",
       "min       0.000000  \n",
       "25%       0.000000  \n",
       "50%       0.000000  \n",
       "75%       0.000000  \n",
       "max       1.000000  \n",
       "\n",
       "[8 rows x 145 columns]"
      ]
     },
     "execution_count": 21,
     "metadata": {},
     "output_type": "execute_result"
    }
   ],
   "source": [
    "data.describe()"
   ]
  },
  {
   "cell_type": "code",
   "execution_count": 14,
   "metadata": {
    "collapsed": true
   },
   "outputs": [],
   "source": [
    "X = data\n",
    "feature_names = X.columns"
   ]
  },
  {
   "cell_type": "code",
   "execution_count": 156,
   "metadata": {},
   "outputs": [
    {
     "data": {
      "text/plain": [
       "pandas.core.indexes.base.Index"
      ]
     },
     "execution_count": 156,
     "metadata": {},
     "output_type": "execute_result"
    }
   ],
   "source": [
    "type(feature_names)"
   ]
  },
  {
   "cell_type": "code",
   "execution_count": 340,
   "metadata": {},
   "outputs": [
    {
     "data": {
      "text/plain": [
       "Index(['playin_flag', 'rd1_win', 'rd2_win', 'rd3_win', 'rd4_win', 'rd5_win',\n",
       "       'rd6_win', 'rd7_win', 'team_id', 'team_rating',\n",
       "       ...\n",
       "       'team_seed_16a', 'team_seed_16b', 'team_seed_2', 'team_seed_3',\n",
       "       'team_seed_4', 'team_seed_5', 'team_seed_6', 'team_seed_7',\n",
       "       'team_seed_8', 'team_seed_9'],\n",
       "      dtype='object', length=145)"
      ]
     },
     "execution_count": 340,
     "metadata": {},
     "output_type": "execute_result"
    }
   ],
   "source": [
    "feature_names"
   ]
  },
  {
   "cell_type": "code",
   "execution_count": 23,
   "metadata": {},
   "outputs": [
    {
     "name": "stdout",
     "output_type": "stream",
     "text": [
      "(132, 145)\n",
      "(132,)\n"
     ]
    }
   ],
   "source": [
    "print(X.shape)\n",
    "print(y.shape)\n",
    "N, d = X.shape"
   ]
  },
  {
   "cell_type": "code",
   "execution_count": 342,
   "metadata": {},
   "outputs": [
    {
     "data": {
      "text/plain": [
       "numpy.ndarray"
      ]
     },
     "execution_count": 342,
     "metadata": {},
     "output_type": "execute_result"
    }
   ],
   "source": [
    "type(y)"
   ]
  },
  {
   "cell_type": "code",
   "execution_count": 17,
   "metadata": {},
   "outputs": [
    {
     "name": "stdout",
     "output_type": "stream",
     "text": [
      "92 40\n"
     ]
    }
   ],
   "source": [
    "from sklearn.model_selection import train_test_split\n",
    "X_train, X_test, y_train, y_test = train_test_split(X, y, test_size = 0.3, random_state = 1)\n",
    "\n",
    "N_train, _ = X_train.shape \n",
    "N_test,  _ = X_test.shape \n",
    "\n",
    "print(N_train, N_test)"
   ]
  },
  {
   "cell_type": "markdown",
   "metadata": {},
   "source": [
    "## KNN"
   ]
  },
  {
   "cell_type": "markdown",
   "metadata": {},
   "source": [
    "*Так как датасет небольшой, выберем количество соседей равное 4*"
   ]
  },
  {
   "cell_type": "code",
   "execution_count": 344,
   "metadata": {},
   "outputs": [
    {
     "data": {
      "text/plain": [
       "KNeighborsClassifier(algorithm='auto', leaf_size=30, metric='minkowski',\n",
       "           metric_params=None, n_jobs=1, n_neighbors=4, p=2,\n",
       "           weights='uniform')"
      ]
     },
     "execution_count": 344,
     "metadata": {},
     "output_type": "execute_result"
    }
   ],
   "source": [
    "from sklearn.neighbors import KNeighborsClassifier\n",
    "\n",
    "knn = KNeighborsClassifier(n_neighbors = 4)\n",
    "#knn.set_params(n_neighbors=10)\n",
    "knn.fit(X_train, y_train)"
   ]
  },
  {
   "cell_type": "markdown",
   "metadata": {},
   "source": [
    "*Осуществим классификацию и вычислим значение ошибки*"
   ]
  },
  {
   "cell_type": "code",
   "execution_count": 345,
   "metadata": {},
   "outputs": [
    {
     "name": "stdout",
     "output_type": "stream",
     "text": [
      "0.0760869565217 0.1\n"
     ]
    }
   ],
   "source": [
    "knn\n",
    "y_train_predict = knn.predict(X_train)\n",
    "y_test_predict = knn.predict(X_test)\n",
    "\n",
    "err_train = np.mean(y_train != y_train_predict)\n",
    "err_test  = np.mean(y_test  != y_test_predict)\n",
    "\n",
    "print(err_train, err_test)"
   ]
  },
  {
   "cell_type": "markdown",
   "metadata": {},
   "source": [
    "*Другой способ подсчета ошибки*"
   ]
  },
  {
   "cell_type": "code",
   "execution_count": 346,
   "metadata": {},
   "outputs": [
    {
     "data": {
      "text/plain": [
       "0.099999999999999978"
      ]
     },
     "execution_count": 346,
     "metadata": {},
     "output_type": "execute_result"
    }
   ],
   "source": [
    "err_test = 1 - knn.score(X_test, y_test)\n",
    "err_test"
   ]
  },
  {
   "cell_type": "markdown",
   "metadata": {},
   "source": [
    "*С помощью confusion_matrix построим матрицу, которая позволяет визуализировать прогнозы классификатора. Элемент матрицы (i, j) равна числу объектов, которые, принадлежат группе i, но, по прогнозам, находятся в группе j.*"
   ]
  },
  {
   "cell_type": "code",
   "execution_count": 347,
   "metadata": {},
   "outputs": [
    {
     "name": "stdout",
     "output_type": "stream",
     "text": [
      "[[23  0]\n",
      " [ 4 13]]\n"
     ]
    }
   ],
   "source": [
    "from sklearn.metrics import confusion_matrix\n",
    "\n",
    "print(confusion_matrix(y_test, y_test_predict))"
   ]
  },
  {
   "cell_type": "markdown",
   "metadata": {},
   "source": [
    "## Подбор параметров"
   ]
  },
  {
   "cell_type": "markdown",
   "metadata": {},
   "source": [
    "*Найдем такое значение параметра k, при котором значение ошибки будет минимальным.*"
   ]
  },
  {
   "cell_type": "code",
   "execution_count": 348,
   "metadata": {},
   "outputs": [
    {
     "name": "stdout",
     "output_type": "stream",
     "text": [
      "0.184782608696 3\n"
     ]
    }
   ],
   "source": [
    "from sklearn.model_selection import GridSearchCV\n",
    "nnb = [1, 3, 5, 10, 15, 20, 25, 35, 45, 55]\n",
    "knn = KNeighborsClassifier()\n",
    "grid = GridSearchCV(knn, param_grid = {'n_neighbors': nnb}, cv=10)\n",
    "grid.fit(X_train, y_train)\n",
    "\n",
    "best_cv_err = 1 - grid.best_score_\n",
    "best_n_neighbors = grid.best_estimator_.n_neighbors\n",
    "print(best_cv_err, best_n_neighbors)"
   ]
  },
  {
   "cell_type": "markdown",
   "metadata": {},
   "source": [
    "*Осуществим классификацию при k=3 и вычислим значение ошибки еще раз*"
   ]
  },
  {
   "cell_type": "code",
   "execution_count": 349,
   "metadata": {},
   "outputs": [
    {
     "name": "stdout",
     "output_type": "stream",
     "text": [
      "0.0869565217391 0.05\n"
     ]
    }
   ],
   "source": [
    "knn = KNeighborsClassifier(n_neighbors = best_n_neighbors).fit(X_train, y_train)\n",
    "\n",
    "err_train = np.mean(y_train != knn.predict(X_train))\n",
    "err_test  = np.mean(y_test  != knn.predict(X_test))\n",
    "\n",
    "print(err_train, err_test)"
   ]
  },
  {
   "cell_type": "markdown",
   "metadata": {},
   "source": [
    "*Можем сказать, что при имеющихся параметрах ошибка при предсказании того, является ли рассматриваемая команда мужской или женской, составляет **0.05***"
   ]
  },
  {
   "cell_type": "markdown",
   "metadata": {},
   "source": [
    "## Домашняя работа №2"
   ]
  },
  {
   "cell_type": "markdown",
   "metadata": {},
   "source": [
    "*На исходном наборе данных решим задачу классификации (**Определение пола команды**) при помощи нейронных сетей*"
   ]
  },
  {
   "cell_type": "markdown",
   "metadata": {},
   "source": [
    "*Разбиваем данные на обучающую и тестовую выборки. Тестовая выборка содержит 33% данных*"
   ]
  },
  {
   "cell_type": "code",
   "execution_count": 19,
   "metadata": {},
   "outputs": [],
   "source": [
    "from sklearn.model_selection import train_test_split\n",
    "X_train, X_test, y_train, y_testimport = train_test_split(X, y, test_size = 0.33, random_state = 5)\n",
    "N_test, _ = X_test.shape"
   ]
  },
  {
   "cell_type": "markdown",
   "metadata": {},
   "source": [
    "*Обучаем MLP классификатор с 1 скрытым слоем из 2 нейронов, активационная функция - логистическая сигмоидальная*"
   ]
  },
  {
   "cell_type": "code",
   "execution_count": 166,
   "metadata": {},
   "outputs": [
    {
     "data": {
      "text/plain": [
       "MLPClassifier(activation='logistic', alpha=0.0001, batch_size='auto',\n",
       "       beta_1=0.9, beta_2=0.999, early_stopping=False, epsilon=1e-08,\n",
       "       hidden_layer_sizes=2, learning_rate='constant',\n",
       "       learning_rate_init=0.001, max_iter=200, momentum=0.9,\n",
       "       nesterovs_momentum=True, power_t=0.5, random_state=5, shuffle=True,\n",
       "       solver='lbfgs', tol=0.0001, validation_fraction=0.1, verbose=False,\n",
       "       warm_start=False)"
      ]
     },
     "execution_count": 166,
     "metadata": {},
     "output_type": "execute_result"
    }
   ],
   "source": [
    "from sklearn.neural_network import MLPClassifier\n",
    "mlp_model = MLPClassifier(hidden_layer_sizes = (2), solver = 'lbfgs', activation = 'logistic', random_state = 5)\n",
    "mlp_model.fit(X_train, y_train)"
   ]
  },
  {
   "cell_type": "markdown",
   "metadata": {},
   "source": [
    "1. hidden_layer_sizes - показывает количество нейронов на скрытом слое\n",
    "2. solver (Определение из документации) - The solver for weight optimization.\n",
    "    + ‘lbfgs’ is an optimizer in the family of quasi-Newton methods.\n",
    "    + ‘sgd’ refers to stochastic gradient descent.\n",
    "    + ‘adam’ refers to a stochastic gradient-based optimizer proposed by Kingma, Diederik, and Jimmy Ba\n",
    "3. activation - функция активации для скрытых слоев\n",
    "    + ‘identity’ - f(x) = x\n",
    "    + ‘logistic’ - f(x) = 1 / (1 + exp(-x))\n",
    "    + ‘tanh’ - f(x) = tanh(x)\n",
    "    + ‘relu’, - f(x) = max(0, x)\n",
    "4. random_state (Определение из документации)\n",
    "    + If int, random_state is the seed used by the random number generator\n",
    "    + If RandomState instance, random_state is the random number generator\n",
    "    + If None, the random number generator is the RandomState instance used by np.random."
   ]
  },
  {
   "cell_type": "markdown",
   "metadata": {},
   "source": [
    "*Проверяем качество классификатора по величине ошибки*"
   ]
  },
  {
   "cell_type": "code",
   "execution_count": 134,
   "metadata": {},
   "outputs": [
    {
     "name": "stdout",
     "output_type": "stream",
     "text": [
      "Ошибка на обучающей выборке:  0.0\n",
      "Ошибка на тестовой выборке:  0.0227272727273\n"
     ]
    }
   ],
   "source": [
    "y_train_pred = mlp_model.predict(X_train)\n",
    "y_test_pred = mlp_model.predict(X_test)\n",
    "print(\"Ошибка на обучающей выборке: \", np.mean(y_train != y_train_pred))\n",
    "print(\"Ошибка на тестовой выборке: \", np.mean(y_test != y_test_pred))"
   ]
  },
  {
   "cell_type": "markdown",
   "metadata": {},
   "source": [
    "*Наблюдается ситуация переобучения, так как ошибка на тестовой выборке больше ошибки на обучающей выборке.*"
   ]
  },
  {
   "cell_type": "markdown",
   "metadata": {},
   "source": [
    "*Для решения проблемы переобучения **увеличим** число нейронов в скрытом слое:*"
   ]
  },
  {
   "cell_type": "code",
   "execution_count": 137,
   "metadata": {},
   "outputs": [
    {
     "data": {
      "text/plain": [
       "MLPClassifier(activation='logistic', alpha=0.0001, batch_size='auto',\n",
       "       beta_1=0.9, beta_2=0.999, early_stopping=False, epsilon=1e-08,\n",
       "       hidden_layer_sizes=6, learning_rate='constant',\n",
       "       learning_rate_init=0.001, max_iter=200, momentum=0.9,\n",
       "       nesterovs_momentum=True, power_t=0.5, random_state=5, shuffle=True,\n",
       "       solver='lbfgs', tol=0.0001, validation_fraction=0.1, verbose=False,\n",
       "       warm_start=False)"
      ]
     },
     "execution_count": 137,
     "metadata": {},
     "output_type": "execute_result"
    }
   ],
   "source": [
    "mlp_model = MLPClassifier(hidden_layer_sizes = (6), solver = 'lbfgs', activation = 'logistic', random_state = 5)\n",
    "mlp_model.fit(X_train, y_train)"
   ]
  },
  {
   "cell_type": "markdown",
   "metadata": {},
   "source": [
    "*И проверим значения ошибок повторно:*"
   ]
  },
  {
   "cell_type": "code",
   "execution_count": 168,
   "metadata": {},
   "outputs": [
    {
     "name": "stdout",
     "output_type": "stream",
     "text": [
      "Ошибка на обучающей выборке:  0.0\n",
      "Ошибка на тестовой выборке:  0.0227272727273\n"
     ]
    }
   ],
   "source": [
    "y_train_pred = mlp_model.predict(X_train)\n",
    "y_test_pred = mlp_model.predict(X_test)\n",
    "print(\"Ошибка на обучающей выборке: \", np.mean(y_train != y_train_pred))\n",
    "print(\"Ошибка на тестовой выборке: \", np.mean(y_test != y_test_pred))"
   ]
  },
  {
   "cell_type": "markdown",
   "metadata": {},
   "source": [
    "*Можем видеть, что ошибки на обучающей и на тестовой выборке **уменьшились**.*\n"
   ]
  },
  {
   "cell_type": "markdown",
   "metadata": {},
   "source": [
    "*Также, попробуем увеличить число скрытых слоев нейронной сети. Рассмотрим нейронную сеть с двумя скрытыми слоями, количество нейронов в первом слое равно 5, во втором - 7*"
   ]
  },
  {
   "cell_type": "code",
   "execution_count": 169,
   "metadata": {},
   "outputs": [
    {
     "data": {
      "text/plain": [
       "MLPClassifier(activation='logistic', alpha=0.0001, batch_size='auto',\n",
       "       beta_1=0.9, beta_2=0.999, early_stopping=False, epsilon=1e-08,\n",
       "       hidden_layer_sizes=(5, 7), learning_rate='constant',\n",
       "       learning_rate_init=0.001, max_iter=200, momentum=0.9,\n",
       "       nesterovs_momentum=True, power_t=0.5, random_state=5, shuffle=True,\n",
       "       solver='lbfgs', tol=0.0001, validation_fraction=0.1, verbose=False,\n",
       "       warm_start=False)"
      ]
     },
     "execution_count": 169,
     "metadata": {},
     "output_type": "execute_result"
    }
   ],
   "source": [
    "from sklearn.neural_network import MLPClassifier\n",
    "mlp_model = MLPClassifier(hidden_layer_sizes = (5, 7), solver = 'lbfgs', activation = 'logistic', random_state = 5)\n",
    "mlp_model.fit(X_train, y_train)"
   ]
  },
  {
   "cell_type": "markdown",
   "metadata": {},
   "source": [
    "Получим следующие значения ошибок:"
   ]
  },
  {
   "cell_type": "code",
   "execution_count": 170,
   "metadata": {},
   "outputs": [
    {
     "name": "stdout",
     "output_type": "stream",
     "text": [
      "Ошибка на обучающей выборке:  0.0\n",
      "Ошибка на тестовой выборке:  0.0\n"
     ]
    }
   ],
   "source": [
    "y_train_pred = mlp_model.predict(X_train)\n",
    "y_test_pred = mlp_model.predict(X_test)\n",
    "print(\"Ошибка на обучающей выборке: \", np.mean(y_train != y_train_pred))\n",
    "print(\"Ошибка на тестовой выборке: \", np.mean(y_test != y_test_pred))"
   ]
  },
  {
   "cell_type": "markdown",
   "metadata": {},
   "source": [
    "Таким образом, можем заключить, что в данной задаче проблема переобучения решаема и при помощи увеличения числа нейронов на скрытом слое, и при помощи увеличения числа слоев."
   ]
  },
  {
   "cell_type": "markdown",
   "metadata": {},
   "source": [
    "### Подбор гиперпараметров ###"
   ]
  },
  {
   "cell_type": "markdown",
   "metadata": {},
   "source": [
    "*Подберем оптимальное значение параметра регуляризации alpha*"
   ]
  },
  {
   "cell_type": "code",
   "execution_count": 171,
   "metadata": {
    "collapsed": true
   },
   "outputs": [],
   "source": [
    "alpha_arr = np.logspace(-5, 5, 20)\n",
    "test_err = []\n",
    "train_err = []\n",
    "for alpha in alpha_arr:\n",
    "    mlp_model = MLPClassifier(alpha = alpha, hidden_layer_sizes = (2), \n",
    "                              solver = 'lbfgs', activation = 'logistic', random_state = 5)\n",
    "    mlp_model.fit(X_train, y_train)\n",
    "\n",
    "    y_train_pred = mlp_model.predict(X_train)\n",
    "    y_test_pred = mlp_model.predict(X_test)\n",
    "    train_err.append(np.mean(y_train != y_train_pred))\n",
    "    test_err.append(np.mean(y_test != y_test_pred))"
   ]
  },
  {
   "cell_type": "markdown",
   "metadata": {},
   "source": [
    "*Построим график зависимости ошибки от параметра alpha*"
   ]
  },
  {
   "cell_type": "code",
   "execution_count": 172,
   "metadata": {},
   "outputs": [
    {
     "data": {
      "image/png": "[encoded data removed]",
      "text/plain": [
       "<matplotlib.figure.Figure at 0x25cb4fe7f98>"
      ]
     },
     "metadata": {},
     "output_type": "display_data"
    }
   ],
   "source": [
    "plt.semilogx(alpha_arr, test_err, 'b-o', label = 'test')\n",
    "plt.semilogx(alpha_arr, train_err, 'r-o', label = 'train')\n",
    "plt.xlim([np.max(alpha_arr), np.min(alpha_arr)])\n",
    "plt.title('Error vs. alpha')\n",
    "plt.xlabel('alpha')\n",
    "plt.ylabel('error')\n",
    "plt.legend()\n",
    "pass"
   ]
  },
  {
   "cell_type": "markdown",
   "metadata": {},
   "source": [
    "*Посмотрим на значения параметра alpha*"
   ]
  },
  {
   "cell_type": "code",
   "execution_count": 81,
   "metadata": {},
   "outputs": [
    {
     "name": "stdout",
     "output_type": "stream",
     "text": [
      "[  1.00000000e-05   3.35981829e-05   1.12883789e-04   3.79269019e-04\n",
      "   1.27427499e-03   4.28133240e-03   1.43844989e-02   4.83293024e-02\n",
      "   1.62377674e-01   5.45559478e-01   1.83298071e+00   6.15848211e+00\n",
      "   2.06913808e+01   6.95192796e+01   2.33572147e+02   7.84759970e+02\n",
      "   2.63665090e+03   8.85866790e+03   2.97635144e+04   1.00000000e+05]\n"
     ]
    }
   ],
   "source": [
    "print(alpha_arr)"
   ]
  },
  {
   "cell_type": "markdown",
   "metadata": {},
   "source": [
    "При alpha ∈ [3.35981829e-05; 3.79269019e-04] ∪ [5.45559478e-01; 1.00000000e+05] наблюдается ситуация переобучения, так как ошибка на тестовой выборке больше, чем на обучающей."
   ]
  },
  {
   "cell_type": "markdown",
   "metadata": {},
   "source": [
    "*Минимальное значение ошибки*"
   ]
  },
  {
   "cell_type": "code",
   "execution_count": 173,
   "metadata": {},
   "outputs": [
    {
     "name": "stdout",
     "output_type": "stream",
     "text": [
      "0.0 0.0\n"
     ]
    }
   ],
   "source": [
    "min_train_err = np.min(train_err)\n",
    "min_test_err = np.min(test_err)\n",
    "print(min_train_err, min_test_err)"
   ]
  },
  {
   "cell_type": "markdown",
   "metadata": {},
   "source": [
    "*Оптимальное значение alpha:*"
   ]
  },
  {
   "cell_type": "code",
   "execution_count": 174,
   "metadata": {},
   "outputs": [
    {
     "name": "stdout",
     "output_type": "stream",
     "text": [
      "1e-05\n"
     ]
    }
   ],
   "source": [
    "alpha_opt = alpha_arr[test_err == min_test_err]\n",
    "alpha_opt = alpha_opt[0]\n",
    "print(alpha_opt)"
   ]
  },
  {
   "cell_type": "markdown",
   "metadata": {},
   "source": [
    "### Классификатор при найденном оптимальном значении alpha: ###"
   ]
  },
  {
   "cell_type": "markdown",
   "metadata": {},
   "source": [
    "*Повторим обучение с исходными параметрами:*"
   ]
  },
  {
   "cell_type": "code",
   "execution_count": 175,
   "metadata": {},
   "outputs": [
    {
     "name": "stdout",
     "output_type": "stream",
     "text": [
      "0.0\n",
      "0.0\n"
     ]
    }
   ],
   "source": [
    "mlp_model = MLPClassifier(alpha = alpha_opt, hidden_layer_sizes = (2),\n",
    "                          solver = 'lbfgs', activation = 'logistic', random_state = 5)\n",
    "mlp_model.fit(X_train, y_train)\n",
    "\n",
    "y_train_pred = mlp_model.predict(X_train)\n",
    "y_test_pred = mlp_model.predict(X_test)\n",
    "print(np.mean(y_train != y_train_pred))\n",
    "print(np.mean(y_test != y_test_pred))"
   ]
  },
  {
   "cell_type": "markdown",
   "metadata": {},
   "source": [
    "*Построим матрицу рассогласования. Элемент матрицы (i, j) равна числу объектов, которые, принадлежат группе i, но, по прогнозам, находятся в группе j.*"
   ]
  },
  {
   "cell_type": "code",
   "execution_count": 176,
   "metadata": {},
   "outputs": [
    {
     "name": "stdout",
     "output_type": "stream",
     "text": [
      "[[25  0]\n",
      " [ 0 19]]\n"
     ]
    }
   ],
   "source": [
    "from sklearn.metrics import confusion_matrix\n",
    "print(confusion_matrix(y_test_pred, y_test))"
   ]
  },
  {
   "cell_type": "markdown",
   "metadata": {
    "collapsed": true
   },
   "source": [
    "### Поиск оптимального количества нейронов "
   ]
  },
  {
   "cell_type": "markdown",
   "metadata": {},
   "source": [
    "*Проанализируем оптимальное количество нейронов для MLP классификатора с одним скрытым слоев.*"
   ]
  },
  {
   "cell_type": "code",
   "execution_count": 177,
   "metadata": {
    "collapsed": true
   },
   "outputs": [],
   "source": [
    "neurons_arr = (1, 2, 3, 4, 5, 6, 7, 8, 9, 10, 20, 30, 40, 50, 60, 70, 80, 90, 100)\n",
    "test_err = []\n",
    "train_err = []\n",
    "for neuron in neurons_arr:\n",
    "    mlp_model = MLPClassifier(alpha = alpha_opt, hidden_layer_sizes = (neuron), \n",
    "                              solver = 'lbfgs', activation = 'logistic', random_state = 5)\n",
    "    mlp_model.fit(X_train, y_train)\n",
    "\n",
    "    y_train_pred = mlp_model.predict(X_train)\n",
    "    y_test_pred = mlp_model.predict(X_test)\n",
    "    train_err.append(np.mean(y_train != y_train_pred))\n",
    "    test_err.append(np.mean(y_test != y_test_pred))"
   ]
  },
  {
   "cell_type": "markdown",
   "metadata": {},
   "source": [
    "*Построим график зависимости ошибки от количества нейронов*"
   ]
  },
  {
   "cell_type": "code",
   "execution_count": 178,
   "metadata": {},
   "outputs": [
    {
     "data": {
      "image/png": "[encoded data removed]",
      "text/plain": [
       "<matplotlib.figure.Figure at 0x25cb4fc32b0>"
      ]
     },
     "metadata": {},
     "output_type": "display_data"
    }
   ],
   "source": [
    "plt.semilogx(neurons_arr, test_err, 'b-o', label = 'test')\n",
    "plt.semilogx(neurons_arr, train_err, 'r-o', label = 'train')\n",
    "plt.xlim([np.min(neurons_arr), np.max(neurons_arr)])\n",
    "plt.title('Error vs neuron count')\n",
    "plt.xlabel('neuron ')\n",
    "plt.ylabel('error')\n",
    "plt.legend()\n",
    "pass"
   ]
  },
  {
   "cell_type": "markdown",
   "metadata": {},
   "source": [
    "*Анализируя график, можно сделать выводы, что при одном скрытом слое использование количества нейронов ∈ {4, 9, 20, 30, 40, 60, 80}, является оптимальным по величине ошибки (ошибка равна 0), для количества нейронов ∉ {4, 9, 20, 30,  40, 60, 80} наблюдается ситуация переобучения.*"
   ]
  },
  {
   "cell_type": "code",
   "execution_count": 179,
   "metadata": {},
   "outputs": [
    {
     "name": "stdout",
     "output_type": "stream",
     "text": [
      "0.0 0.0\n"
     ]
    }
   ],
   "source": [
    "min_train_err = np.min(train_err)\n",
    "min_test_err = np.min(test_err)\n",
    "print(min_train_err, min_test_err)"
   ]
  },
  {
   "cell_type": "markdown",
   "metadata": {},
   "source": [
    "*Проанализируем оптимальное количество нейронов для MLP классификатора с двумя скрытыми слоями.*"
   ]
  },
  {
   "cell_type": "code",
   "execution_count": 180,
   "metadata": {
    "collapsed": true
   },
   "outputs": [],
   "source": [
    "neurons_arr = (1, 2, 3, 4, 5, 6, 7, 8, 9, 10, 20, 30, 40, 50, 60, 70, 80, 90, 100)\n",
    "test_err = []\n",
    "train_err = []\n",
    "for neuron in neurons_arr:\n",
    "    mlp_model = MLPClassifier(alpha = alpha_opt, hidden_layer_sizes = (neuron, 7), \n",
    "                              solver = 'lbfgs', activation = 'logistic', random_state = 5)\n",
    "    mlp_model.fit(X_train, y_train)\n",
    "\n",
    "    y_train_pred = mlp_model.predict(X_train)\n",
    "    y_test_pred = mlp_model.predict(X_test)\n",
    "    train_err.append(np.mean(y_train != y_train_pred))\n",
    "    test_err.append(np.mean(y_test != y_test_pred))"
   ]
  },
  {
   "cell_type": "markdown",
   "metadata": {},
   "source": [
    "*Построим график зависимости ошибки от количества нейронов*"
   ]
  },
  {
   "cell_type": "code",
   "execution_count": 181,
   "metadata": {},
   "outputs": [
    {
     "data": {
      "image/png": "[encoded data removed]",
      "text/plain": [
       "<matplotlib.figure.Figure at 0x25cb520d390>"
      ]
     },
     "metadata": {},
     "output_type": "display_data"
    }
   ],
   "source": [
    "\n",
    "plt.semilogx(neurons_arr, test_err, 'b-o', label = 'test')\n",
    "plt.semilogx(neurons_arr, train_err, 'r-o', label = 'train')\n",
    "plt.xlim([np.min(neurons_arr), np.max(neurons_arr)])\n",
    "plt.title('Error vs neuron count')\n",
    "plt.xlabel('neuron ')\n",
    "plt.ylabel('error')\n",
    "plt.legend()\n",
    "pass"
   ]
  },
  {
   "cell_type": "markdown",
   "metadata": {},
   "source": [
    "*Анализируя график, можно сделать выводы, что при одном скрытом слое использование количества нейронов ∈ {2, 3, 4, 5, 8, 10, 80, 90}, является оптимальным по величине ошибки (ошибка равна 0), для количества нейронов ∉ {2, 3, 4, 5, 8, 10, 80, 90} наблюдается ситуация переобучения.*"
   ]
  },
  {
   "cell_type": "markdown",
   "metadata": {},
   "source": [
    "# Домашнаяя работа №3  #"
   ]
  },
  {
   "cell_type": "markdown",
   "metadata": {},
   "source": [
    "*Разбиваем данные на обучающую и тестовую выборки. Тестовая выборка содержит 33% данных*"
   ]
  },
  {
   "cell_type": "code",
   "execution_count": 20,
   "metadata": {},
   "outputs": [],
   "source": [
    "X_train, X_test, y_train, y_test = train_test_split(X, y, test_size = 0.33, random_state = 5)"
   ]
  },
  {
   "cell_type": "markdown",
   "metadata": {
    "collapsed": true
   },
   "source": [
    "## Random forests ##"
   ]
  },
  {
   "cell_type": "markdown",
   "metadata": {},
   "source": [
    "*Решим задачу классификации баскетбольных команд по полу при помощи **Random Forest**.*"
   ]
  },
  {
   "cell_type": "markdown",
   "metadata": {},
   "source": [
    "*Обучаем **Random forest** классификатор с параметром n_estimators = 10 (n_estimators = количество построенных деревьев).*"
   ]
  },
  {
   "cell_type": "code",
   "execution_count": 22,
   "metadata": {},
   "outputs": [
    {
     "data": {
      "text/plain": [
       "RandomForestClassifier(bootstrap=True, class_weight=None, criterion='gini',\n",
       "            max_depth=None, max_features='auto', max_leaf_nodes=None,\n",
       "            min_impurity_decrease=0.0, min_impurity_split=None,\n",
       "            min_samples_leaf=1, min_samples_split=2,\n",
       "            min_weight_fraction_leaf=0.0, n_estimators=10, n_jobs=1,\n",
       "            oob_score=False, random_state=None, verbose=0,\n",
       "            warm_start=False)"
      ]
     },
     "execution_count": 22,
     "metadata": {},
     "output_type": "execute_result"
    }
   ],
   "source": [
    "from sklearn import ensemble\n",
    "rf = ensemble.RandomForestClassifier(n_estimators = 10)\n",
    "rf.fit(X_train, y_train)"
   ]
  },
  {
   "cell_type": "markdown",
   "metadata": {},
   "source": [
    "*Проверим качество классификатора по величине ошибки на тестовой и обучающей выборках*"
   ]
  },
  {
   "cell_type": "code",
   "execution_count": 23,
   "metadata": {},
   "outputs": [
    {
     "name": "stdout",
     "output_type": "stream",
     "text": [
      "Ошибка на обучающей выборке:  0.0\n",
      "Ошибка на тестовой выборке:  0.0454545454545\n"
     ]
    }
   ],
   "source": [
    "err_train = np.mean(y_train != rf.predict(X_train))\n",
    "err_test  = np.mean(y_test  != rf.predict(X_test))\n",
    "\n",
    "print(\"Ошибка на обучающей выборке: \", err_train)\n",
    "print(\"Ошибка на тестовой выборке: \", err_test)"
   ]
  },
  {
   "cell_type": "markdown",
   "metadata": {},
   "source": [
    "*Наблюдается ситуация **переобучения**, т.к. ошибка на тестовой выборке оказалась выше, чем на обучающей*"
   ]
  },
  {
   "cell_type": "markdown",
   "metadata": {},
   "source": [
    "\n",
    "*Построим график зависимости ошибки на тестовой и обучающей выборках и oob-ошибки от количества деревьев. Установим значение парметра oob_score = True, данный параметр определяет использовать ли out-of-bag объекты для оценки*"
   ]
  },
  {
   "cell_type": "markdown",
   "metadata": {},
   "source": [
    "*Рассмотрим график на диапазоне от 1 до 10.*"
   ]
  },
  {
   "cell_type": "code",
   "execution_count": 80,
   "metadata": {
    "collapsed": true
   },
   "outputs": [],
   "source": [
    "tree_arr = np.arange(1, 10, 1)\n",
    "test_err = []\n",
    "train_err = []\n",
    "oob_err = []\n",
    "\n",
    "for tree in tree_arr:\n",
    "    rf = ensemble.RandomForestClassifier(n_estimators = tree, oob_score = True)\n",
    "    rf.fit(X_train, y_train)\n",
    "    y_train_pred = rf.predict(X_train)\n",
    "    y_test_pred = rf.predict(X_test)\n",
    "    train_err.append(np.mean(y_train != y_train_pred))\n",
    "    test_err.append(np.mean(y_test != y_test_pred))\n",
    "    oob_err.append(1 - rf.oob_score_)"
   ]
  },
  {
   "cell_type": "code",
   "execution_count": 81,
   "metadata": {},
   "outputs": [
    {
     "data": {
      "image/png": "[encoded data removed]",
      "text/plain": [
       "<matplotlib.figure.Figure at 0x1d7aec2da20>"
      ]
     },
     "metadata": {},
     "output_type": "display_data"
    }
   ],
   "source": [
    "plt.plot(tree_arr, train_err, 'b-o', label = 'train')\n",
    "plt.plot(tree_arr, test_err, 'r-o', label = 'test')\n",
    "plt.plot(tree_arr, oob_err, 'g-o', label = 'oob')\n",
    "plt.xlim([np.min(tree_arr), np.max(tree_arr)])\n",
    "plt.title('Error vs. Count of tree')\n",
    "plt.xlabel('Count of tree')\n",
    "plt.ylabel('Error')\n",
    "plt.legend()\n",
    "pass"
   ]
  },
  {
   "cell_type": "markdown",
   "metadata": {},
   "source": [
    "*На всем диапазоне значений наблюдается ситуация переобучения, также видим, что oob ошибка превосходит ошибку на тестовой и обучающей выборках, причем с увеличением количества деревьев, значение oob-ошибки постепенно уменьшается. При 3 деревьях ~ 0.33, при 6 ~ 0.3, при 9 ~ 0.17*"
   ]
  },
  {
   "cell_type": "markdown",
   "metadata": {},
   "source": [
    "*Рассмотрим график на диапазоне от 10 до 100.*"
   ]
  },
  {
   "cell_type": "code",
   "execution_count": 82,
   "metadata": {
    "collapsed": true,
    "scrolled": true
   },
   "outputs": [],
   "source": [
    "tree_arr = np.arange(10, 100, 5)\n",
    "test_err = []\n",
    "train_err = []\n",
    "oob_err = []\n",
    "\n",
    "for tree in tree_arr:\n",
    "    rf = ensemble.RandomForestClassifier(n_estimators = tree, oob_score = True)\n",
    "    rf.fit(X_train, y_train)\n",
    "    y_train_pred = rf.predict(X_train)\n",
    "    y_test_pred = rf.predict(X_test)\n",
    "    train_err.append(np.mean(y_train != y_train_pred))\n",
    "    test_err.append(np.mean(y_test != y_test_pred))\n",
    "    oob_err.append(1 - rf.oob_score_)"
   ]
  },
  {
   "cell_type": "code",
   "execution_count": 460,
   "metadata": {},
   "outputs": [
    {
     "data": {
      "image/png": "[encoded data removed]",
      "text/plain": [
       "<matplotlib.figure.Figure at 0x25cb5800eb8>"
      ]
     },
     "metadata": {},
     "output_type": "display_data"
    }
   ],
   "source": [
    "plt.plot(tree_arr, train_err, 'b-o', label = 'train')\n",
    "plt.plot(tree_arr, test_err, 'r-o', label = 'test')\n",
    "plt.plot(tree_arr, oob_err, 'g-o', label = 'oob')\n",
    "plt.xlim([np.min(tree_arr), np.max(tree_arr)])\n",
    "plt.title('Error vs. Count of tree')\n",
    "plt.xlabel('Count of tree')\n",
    "plt.ylabel('Error')\n",
    "plt.legend()\n",
    "pass"
   ]
  },
  {
   "cell_type": "markdown",
   "metadata": {},
   "source": [
    "*При данном разбиении исходной выборки, **ситуация переобучения не наблюдается** при количестве деревьев ∈ {15, 25, 60}. В остальных случаях наблюдается переобучение. Также можно сказать, что при малом количестве деревьев (10-20) oob ошибка в целом выше, чем при более большом (30-100). На всем рассматриваемом диапазоне количества деревьев, oob-ошибка превышает (кроме случая n_estimators = 30) значения ошибок на тестовой и обучающей выборках. Минимальное значение oob ошибки достигается при количестве деревьев равном 30*"
   ]
  },
  {
   "cell_type": "markdown",
   "metadata": {},
   "source": [
    "*Минимальные значения ошибок на обучающей и тестовой выборке равны: *"
   ]
  },
  {
   "cell_type": "code",
   "execution_count": 83,
   "metadata": {},
   "outputs": [
    {
     "name": "stdout",
     "output_type": "stream",
     "text": [
      "Минимальная ошибка на обучающей выборке:  0.0\n",
      "Минимальная ошибка на тестовой выборке:  0.0\n"
     ]
    }
   ],
   "source": [
    "min_train_err = np.min(train_err)\n",
    "min_test_err = np.min(test_err)\n",
    "\n",
    "print(\"Минимальная ошибка на обучающей выборке: \", min_train_err)\n",
    "print(\"Минимальная ошибка на тестовой выборке: \", min_test_err)"
   ]
  },
  {
   "cell_type": "markdown",
   "metadata": {},
   "source": [
    "*Оптимальное число деревьев при этом равно:*"
   ]
  },
  {
   "cell_type": "code",
   "execution_count": 462,
   "metadata": {},
   "outputs": [
    {
     "name": "stdout",
     "output_type": "stream",
     "text": [
      "[15 25 60]\n"
     ]
    }
   ],
   "source": [
    "trees_opt = tree_arr[test_err == min_test_err]\n",
    "print(trees_opt)"
   ]
  },
  {
   "cell_type": "markdown",
   "metadata": {},
   "source": [
    "## Extremely Randomized Trees ##"
   ]
  },
  {
   "cell_type": "markdown",
   "metadata": {},
   "source": [
    "*Решим задачу классификации баскетбольных команд по полу при помощи **Extremely Randomized Trees**.*"
   ]
  },
  {
   "cell_type": "markdown",
   "metadata": {},
   "source": [
    "*Обучаем **Extremely Randomized Trees** классификатор с параметром n_estimators = 10 (n_estimators = количество построенных деревьев).*"
   ]
  },
  {
   "cell_type": "code",
   "execution_count": 89,
   "metadata": {},
   "outputs": [
    {
     "data": {
      "text/plain": [
       "ExtraTreesClassifier(bootstrap=False, class_weight=None, criterion='gini',\n",
       "           max_depth=None, max_features='auto', max_leaf_nodes=None,\n",
       "           min_impurity_decrease=0.0, min_impurity_split=None,\n",
       "           min_samples_leaf=1, min_samples_split=2,\n",
       "           min_weight_fraction_leaf=0.0, n_estimators=10, n_jobs=1,\n",
       "           oob_score=False, random_state=None, verbose=0, warm_start=False)"
      ]
     },
     "execution_count": 89,
     "metadata": {},
     "output_type": "execute_result"
    }
   ],
   "source": [
    "ert = ensemble.ExtraTreesClassifier(n_estimators = 10)\n",
    "ert.fit(X_train, y_train)"
   ]
  },
  {
   "cell_type": "markdown",
   "metadata": {},
   "source": [
    "*Проверим качество классификатора по величине ошибки на тестовой и обучающей выборках*"
   ]
  },
  {
   "cell_type": "code",
   "execution_count": 90,
   "metadata": {},
   "outputs": [
    {
     "name": "stdout",
     "output_type": "stream",
     "text": [
      "Ошибка на обучающей выборке:  0.0\n",
      "Ошибка на тестовой выборке:  0.0454545454545\n"
     ]
    }
   ],
   "source": [
    "err_train = np.mean(y_train != ert.predict(X_train))\n",
    "err_test  = np.mean(y_test  != ert.predict(X_test))\n",
    "\n",
    "print(\"Ошибка на обучающей выборке: \", err_train)\n",
    "print(\"Ошибка на тестовой выборке: \", err_test)"
   ]
  },
  {
   "cell_type": "markdown",
   "metadata": {},
   "source": [
    "*Ошибка на тестовой выборке превосходит ошибку на обучающей. Наблюдается **ситуация переобучения**.*"
   ]
  },
  {
   "cell_type": "markdown",
   "metadata": {},
   "source": [
    "*Построим график зависимости ошибки на тестовой и обучающей выборках и oob-ошибки от количества деревьев. Установим значения параметров oob_score = True (Определяет использовать ли out-of-bag объекты для оценки), bootstrap = True (Определяет применять ли бустрэп для построения дерева)*"
   ]
  },
  {
   "cell_type": "markdown",
   "metadata": {},
   "source": [
    "*Рассмотрим график на диапазоне от 1 до 10.*"
   ]
  },
  {
   "cell_type": "code",
   "execution_count": 40,
   "metadata": {
    "collapsed": true
   },
   "outputs": [],
   "source": [
    "tree_arr = np.arange(1, 10, 1)\n",
    "test_err = []\n",
    "train_err = []\n",
    "oob_err = []\n",
    "for tree in tree_arr:\n",
    "    ert = ensemble.ExtraTreesClassifier(n_estimators = tree, oob_score=True, bootstrap=True)\n",
    "    ert.fit(X_train, y_train)\n",
    "    train_err.append(np.mean(y_train != ert.predict(X_train)))\n",
    "    test_err.append(np.mean(y_test  != ert.predict(X_test)))\n",
    "    oob_err.append(1 - ert.oob_score_)"
   ]
  },
  {
   "cell_type": "code",
   "execution_count": 39,
   "metadata": {},
   "outputs": [
    {
     "data": {
      "image/png": "[encoded data removed]",
      "text/plain": [
       "<matplotlib.figure.Figure at 0x2030e78a898>"
      ]
     },
     "metadata": {},
     "output_type": "display_data"
    }
   ],
   "source": [
    "plt.plot(tree_arr, train_err, 'b-o', label = 'train')\n",
    "plt.plot(tree_arr, test_err, 'r-o', label = 'test')\n",
    "plt.plot(tree_arr, oob_err, 'g-o', label = 'oob')\n",
    "plt.xlim([np.min(tree_arr), np.max(tree_arr)])\n",
    "plt.title('Error vs. Count of tree')\n",
    "plt.xlabel('Count of tree')\n",
    "plt.ylabel('Error')\n",
    "plt.legend()\n",
    "pass"
   ]
  },
  {
   "cell_type": "markdown",
   "metadata": {},
   "source": [
    "*На всем диапазоне значений, кроме количества деревьев равном 9, наблюдается ситуация переобучения, также видим, что oob ошибка превосходит ошибку на тестовой и обучающей выборках, причем с увеличением количества деревьев, значение oob-ошибки постепенно уменьшается. При 2 деревьях ~ 0.35, при 6 ~ 0.2, при 9 ~ 0.14*"
   ]
  },
  {
   "cell_type": "markdown",
   "metadata": {},
   "source": [
    "*Рассмотрим график на диапазоне от 10 до 100.*"
   ]
  },
  {
   "cell_type": "code",
   "execution_count": 418,
   "metadata": {
    "collapsed": true
   },
   "outputs": [],
   "source": [
    "tree_arr = np.arange(10, 100, 5)\n",
    "test_err = []\n",
    "train_err = []\n",
    "oob_err = []\n",
    "for tree in tree_arr:\n",
    "    ert = ensemble.ExtraTreesClassifier(n_estimators = tree, oob_score=True, bootstrap=True)\n",
    "    ert.fit(X_train, y_train)\n",
    "    train_err.append(np.mean(y_train != ert.predict(X_train)))\n",
    "    test_err.append(np.mean(y_test  != ert.predict(X_test)))\n",
    "    oob_err.append(1 - ert.oob_score_)"
   ]
  },
  {
   "cell_type": "code",
   "execution_count": 417,
   "metadata": {},
   "outputs": [
    {
     "data": {
      "image/png": "[encoded data removed]",
      "text/plain": [
       "<matplotlib.figure.Figure at 0x25cb48ad5c0>"
      ]
     },
     "metadata": {},
     "output_type": "display_data"
    }
   ],
   "source": [
    "plt.plot(tree_arr, train_err, 'b-o', label = 'train')\n",
    "plt.plot(tree_arr, test_err, 'r-o', label = 'test')\n",
    "plt.plot(tree_arr, oob_err, 'g-o', label = 'oob')\n",
    "plt.xlim([np.min(tree_arr), np.max(tree_arr)])\n",
    "plt.title('Error vs. Count of tree')\n",
    "plt.xlabel('Count of tree')\n",
    "plt.ylabel('Error')\n",
    "plt.legend()\n",
    "pass"
   ]
  },
  {
   "cell_type": "markdown",
   "metadata": {},
   "source": [
    "*При количестве деревьев ∈ [10, 15) наблюдается ситуация переобучения, для количества деревьев не принадлежащих данному интервалу, переобучение отсутствует. Можно заметить, что при увеличении количества деревьев, значение oob ошибки уменьшается. При  n_estimators = 10 значение oob_error ~ 0.1, при n_estimators = 30 значение oob_error ~ 0.02. На всем рассматриваемом диапазоне количества деревьев oob-ошибка превышает или равна значению ошибок на тестовой и обучающей выборках* "
   ]
  },
  {
   "cell_type": "markdown",
   "metadata": {},
   "source": [
    "*Минимальные значения ошибок на обучающей и тестовой выборке равны: *"
   ]
  },
  {
   "cell_type": "code",
   "execution_count": 419,
   "metadata": {},
   "outputs": [
    {
     "name": "stdout",
     "output_type": "stream",
     "text": [
      "Минимальная ошибка на обучающей выборке:  0.0\n",
      "Минимальная ошибка на тестовой выборке:  0.0\n"
     ]
    }
   ],
   "source": [
    "min_train_err = np.min(train_err)\n",
    "min_test_err = np.min(test_err)\n",
    "\n",
    "print(\"Минимальная ошибка на обучающей выборке: \", min_train_err)\n",
    "print(\"Минимальная ошибка на тестовой выборке: \", min_test_err)"
   ]
  },
  {
   "cell_type": "markdown",
   "metadata": {},
   "source": [
    "*Оптимальное число деревьев при этом равно:*"
   ]
  },
  {
   "cell_type": "code",
   "execution_count": 421,
   "metadata": {},
   "outputs": [
    {
     "name": "stdout",
     "output_type": "stream",
     "text": [
      "[15 20 25 35 40 45 50 55 60 65 70 75 80 85 90 95]\n"
     ]
    }
   ],
   "source": [
    "trees_opt = tree_arr[test_err == min_test_err]\n",
    "print(trees_opt)"
   ]
  },
  {
   "cell_type": "markdown",
   "metadata": {},
   "source": [
    "## AdaBoost ##"
   ]
  },
  {
   "cell_type": "markdown",
   "metadata": {},
   "source": [
    "*Решим задачу классификации баскетбольных команд по полу при помощи **AdaBoost**.*"
   ]
  },
  {
   "cell_type": "markdown",
   "metadata": {},
   "source": [
    "*Обучаем **AdaBoost** классификатор с параметром n_estimators = 5.*"
   ]
  },
  {
   "cell_type": "code",
   "execution_count": 482,
   "metadata": {},
   "outputs": [
    {
     "data": {
      "text/plain": [
       "AdaBoostClassifier(algorithm='SAMME.R', base_estimator=None,\n",
       "          learning_rate=1.0, n_estimators=5, random_state=None)"
      ]
     },
     "execution_count": 482,
     "metadata": {},
     "output_type": "execute_result"
    }
   ],
   "source": [
    "ab = ensemble.AdaBoostClassifier(n_estimators = 5)\n",
    "ab.fit(X_train, y_train)"
   ]
  },
  {
   "cell_type": "markdown",
   "metadata": {},
   "source": [
    "*Проверим качество классификатора по величине ошибки на тестовой и обучающей выборках*"
   ]
  },
  {
   "cell_type": "code",
   "execution_count": 483,
   "metadata": {},
   "outputs": [
    {
     "name": "stdout",
     "output_type": "stream",
     "text": [
      "Ошибка на обучающей выборке:  0.136363636364\n",
      "Ошибка на тестовой выборке:  0.318181818182\n"
     ]
    }
   ],
   "source": [
    "err_train = np.mean(y_train != ab.predict(X_train))\n",
    "err_test  = np.mean(y_test  != ab.predict(X_test))\n",
    "\n",
    "print(\"Ошибка на обучающей выборке: \", err_train)\n",
    "print(\"Ошибка на тестовой выборке: \", err_test)"
   ]
  },
  {
   "cell_type": "markdown",
   "metadata": {},
   "source": [
    "*Наблюдается переобучение, т.к. значение ошибки на тестовой выборке (~ 0.318) больше, чем на обучающей (~ 0.136).*"
   ]
  },
  {
   "cell_type": "markdown",
   "metadata": {},
   "source": [
    "*Построим график зависимости ошибки на тестовой и обучающей выборках.*"
   ]
  },
  {
   "cell_type": "code",
   "execution_count": 517,
   "metadata": {
    "collapsed": true
   },
   "outputs": [],
   "source": [
    "estimator_arr = np.arange(1, 50, 2)\n",
    "test_err = []\n",
    "train_err = []\n",
    "for estimator in estimator_arr:\n",
    "    ab = ensemble.AdaBoostClassifier(n_estimators = estimator)\n",
    "    ab.fit(X_train, y_train)\n",
    "    train_err.append(np.mean(y_train != ab.predict(X_train)))\n",
    "    test_err.append(np.mean(y_test  != ab.predict(X_test)))"
   ]
  },
  {
   "cell_type": "code",
   "execution_count": 518,
   "metadata": {},
   "outputs": [
    {
     "data": {
      "image/png": "[encoded data removed]",
      "text/plain": [
       "<matplotlib.figure.Figure at 0x25cb5800550>"
      ]
     },
     "metadata": {},
     "output_type": "display_data"
    }
   ],
   "source": [
    "plt.plot(estimator_arr, train_err, 'b-o', label = 'train')\n",
    "plt.plot(estimator_arr, test_err, 'r-o', label = 'test')\n",
    "plt.xlim([np.min(estimator_arr), np.max(estimator_arr)])\n",
    "plt.title('Error vs. Count of estimator')\n",
    "plt.xlabel('Count of estimator')\n",
    "plt.ylabel('Error')\n",
    "plt.legend()\n",
    "pass"
   ]
  },
  {
   "cell_type": "markdown",
   "metadata": {},
   "source": [
    "*При количестве классификаторов ∈ [1, 7) наблюдается ситуация переобучения, для количества классификаторов не принадлежащих данному интервалу, переобучение отсутствует.*"
   ]
  },
  {
   "cell_type": "markdown",
   "metadata": {},
   "source": [
    "*Минимальные значения ошибок на обучающей и тестовой выборке равны:*"
   ]
  },
  {
   "cell_type": "code",
   "execution_count": 513,
   "metadata": {},
   "outputs": [
    {
     "name": "stdout",
     "output_type": "stream",
     "text": [
      "Минимальная ошибка на обучающей выборке:  0.0\n",
      "Минимальная ошибка на тестовой выборке:  0.0\n"
     ]
    }
   ],
   "source": [
    "min_train_err = np.min(train_err)\n",
    "min_test_err = np.min(test_err)\n",
    "\n",
    "print(\"Минимальная ошибка на обучающей выборке: \", min_train_err)\n",
    "print(\"Минимальная ошибка на тестовой выборке: \", min_test_err)"
   ]
  },
  {
   "cell_type": "markdown",
   "metadata": {},
   "source": [
    "Оптимальное число классификаторов при этом равно:"
   ]
  },
  {
   "cell_type": "code",
   "execution_count": 519,
   "metadata": {},
   "outputs": [
    {
     "name": "stdout",
     "output_type": "stream",
     "text": [
      "[ 7  9 11 13 15 17 19 21 23 25 27 29 31 33 35 37 39 41 43 45 47 49]\n"
     ]
    }
   ],
   "source": [
    "trees_opt = tree_arr[test_err == min_test_err]\n",
    "print(trees_opt)"
   ]
  },
  {
   "cell_type": "markdown",
   "metadata": {},
   "source": [
    "## Gradient boosted trees ##"
   ]
  },
  {
   "cell_type": "markdown",
   "metadata": {},
   "source": [
    "*Решим задачу классификации баскетбольных команд по полу при помощи **Gradient boosted trees**.*"
   ]
  },
  {
   "cell_type": "markdown",
   "metadata": {},
   "source": [
    "*Обучаем Gradient boosted trees классификатор с параметром n_estimators = 10 (n_estimators = количество деревьев).*"
   ]
  },
  {
   "cell_type": "code",
   "execution_count": 497,
   "metadata": {},
   "outputs": [
    {
     "data": {
      "text/plain": [
       "GradientBoostingClassifier(criterion='friedman_mse', init=None,\n",
       "              learning_rate=0.1, loss='deviance', max_depth=3,\n",
       "              max_features=None, max_leaf_nodes=None,\n",
       "              min_impurity_decrease=0.0, min_impurity_split=None,\n",
       "              min_samples_leaf=1, min_samples_split=2,\n",
       "              min_weight_fraction_leaf=0.0, n_estimators=10,\n",
       "              presort='auto', random_state=None, subsample=1.0, verbose=0,\n",
       "              warm_start=False)"
      ]
     },
     "execution_count": 497,
     "metadata": {},
     "output_type": "execute_result"
    }
   ],
   "source": [
    "gbt = ensemble.GradientBoostingClassifier(n_estimators = 10)\n",
    "gbt.fit(X_train, y_train)"
   ]
  },
  {
   "cell_type": "markdown",
   "metadata": {},
   "source": [
    "*Проверим качество классификатора по величине ошибки на тестовой и обучающей выборках*"
   ]
  },
  {
   "cell_type": "code",
   "execution_count": 498,
   "metadata": {},
   "outputs": [
    {
     "name": "stdout",
     "output_type": "stream",
     "text": [
      "Ошибка на обучающей выборке:  0.0\n",
      "Ошибка на тестовой выборке:  0.113636363636\n"
     ]
    }
   ],
   "source": [
    "err_train = np.mean(y_train != gbt.predict(X_train))\n",
    "err_test  = np.mean(y_test  != gbt.predict(X_test))\n",
    "\n",
    "print(\"Ошибка на обучающей выборке: \", err_train)\n",
    "print(\"Ошибка на тестовой выборке: \", err_test)"
   ]
  },
  {
   "cell_type": "markdown",
   "metadata": {},
   "source": [
    "*Наблюдается переобучение, т.к. значение ошибки на тестовой выборке (~ 0.114) больше, чем на обучающей (0.0).*"
   ]
  },
  {
   "cell_type": "markdown",
   "metadata": {},
   "source": [
    "*Построим график зависимости ошибки на тестовой и обучающей выборках.*"
   ]
  },
  {
   "cell_type": "code",
   "execution_count": 522,
   "metadata": {
    "collapsed": true,
    "scrolled": true
   },
   "outputs": [],
   "source": [
    "tree_arr = np.arange(1, 50, 2)\n",
    "test_err = []\n",
    "train_err = []\n",
    "for tree in tree_arr:\n",
    "    gbt = ensemble.GradientBoostingClassifier(n_estimators = tree)\n",
    "    gbt.fit(X_train, y_train)\n",
    "    \n",
    "    y_train_pred = gbt.predict(X_train)\n",
    "    y_test_pred = gbt.predict(X_test)\n",
    "    train_err.append(np.mean(y_train != y_train_pred))\n",
    "    test_err.append(np.mean(y_test != y_test_pred))"
   ]
  },
  {
   "cell_type": "code",
   "execution_count": 523,
   "metadata": {},
   "outputs": [
    {
     "data": {
      "image/png": "[encoded data removed]",
      "text/plain": [
       "<matplotlib.figure.Figure at 0x25cb592e400>"
      ]
     },
     "metadata": {},
     "output_type": "display_data"
    }
   ],
   "source": [
    "plt.plot(tree_arr, train_err, 'b-o', label = 'train')\n",
    "plt.plot(tree_arr, test_err, 'r-o', label = 'test')\n",
    "plt.xlim([np.min(tree_arr), np.max(tree_arr)])\n",
    "plt.title('Error vs. number of trees')\n",
    "plt.xlabel('Number of trees')\n",
    "plt.ylabel('Error')\n",
    "plt.legend()\n",
    "pass"
   ]
  },
  {
   "cell_type": "markdown",
   "metadata": {},
   "source": [
    "*При количестве деревьев ∈ [1, 25) наблюдается ситуация переобучения, для количества деревьев не принадлежащих данному интервалу, переобучение отсутствует.*"
   ]
  },
  {
   "cell_type": "markdown",
   "metadata": {},
   "source": [
    "Минимальные значения ошибок на обучающей и тестовой выборке равны:"
   ]
  },
  {
   "cell_type": "code",
   "execution_count": 524,
   "metadata": {},
   "outputs": [
    {
     "name": "stdout",
     "output_type": "stream",
     "text": [
      "Минимальная ошибка на обучающей выборке:  0.0\n",
      "Минимальная ошибка на тестовой выборке:  0.0\n"
     ]
    }
   ],
   "source": [
    "min_train_err = np.min(train_err)\n",
    "min_test_err = np.min(test_err)\n",
    "\n",
    "print(\"Минимальная ошибка на обучающей выборке: \", min_train_err)\n",
    "print(\"Минимальная ошибка на тестовой выборке: \", min_test_err)"
   ]
  },
  {
   "cell_type": "markdown",
   "metadata": {},
   "source": [
    "Оптимальное число деревьев при этом равно:"
   ]
  },
  {
   "cell_type": "code",
   "execution_count": 525,
   "metadata": {},
   "outputs": [
    {
     "name": "stdout",
     "output_type": "stream",
     "text": [
      "[25 27 29 31 33 35 37 39 41 43 45 47 49]\n"
     ]
    }
   ],
   "source": [
    "trees_opt = tree_arr[test_err == min_test_err]\n",
    "print(trees_opt)"
   ]
  }
 ],
 "metadata": {
  "kernelspec": {
   "display_name": "Python 3",
   "language": "python",
   "name": "python3"
  },
  "language_info": {
   "codemirror_mode": {
    "name": "ipython",
    "version": 3
   },
   "file_extension": ".py",
   "mimetype": "text/x-python",
   "name": "python",
   "nbconvert_exporter": "python",
   "pygments_lexer": "ipython3",
   "version": "3.6.2"
  }
 },
 "nbformat": 4,
 "nbformat_minor": 2
}
